{
  "nbformat": 4,
  "nbformat_minor": 0,
  "metadata": {
    "colab": {
      "name": "Final_multitask_notebook.ipynb",
      "provenance": [],
      "collapsed_sections": [
        "GP2zitSjbbG3",
        "NCS953J5fUS3",
        "SII6SDnwzSsx",
        "dkilVYfbIUYB"
      ]
    },
    "kernelspec": {
      "name": "python3",
      "display_name": "Python 3"
    },
    "language_info": {
      "name": "python"
    }
  },
  "cells": [
    {
      "cell_type": "markdown",
      "metadata": {
        "id": "GP2zitSjbbG3"
      },
      "source": [
        "####Installing and Importing Dependencies"
      ]
    },
    {
      "cell_type": "code",
      "execution_count": null,
      "metadata": {
        "colab": {
          "base_uri": "https://localhost:8080/"
        },
        "id": "5fRppVL1KXgj",
        "outputId": "77071cf1-acfe-4ffd-840c-15fa9c220b93"
      },
      "outputs": [
        {
          "output_type": "stream",
          "name": "stdout",
          "text": [
            "Drive already mounted at /content/drive; to attempt to forcibly remount, call drive.mount(\"/content/drive\", force_remount=True).\n"
          ]
        }
      ],
      "source": [
        "from google.colab import drive\n",
        "drive.mount('/content/drive')"
      ]
    },
    {
      "cell_type": "code",
      "execution_count": null,
      "metadata": {
        "colab": {
          "base_uri": "https://localhost:8080/"
        },
        "id": "T9EHs-D21IOe",
        "outputId": "1fe7c276-9887-487e-bfad-93a08c7d1292"
      },
      "outputs": [
        {
          "output_type": "stream",
          "name": "stdout",
          "text": [
            "Looking in indexes: https://pypi.org/simple, https://us-python.pkg.dev/colab-wheels/public/simple/\n",
            "Requirement already satisfied: modAL in /usr/local/lib/python3.7/dist-packages (0.4.1)\n",
            "Requirement already satisfied: scikit-learn>=0.18 in /usr/local/lib/python3.7/dist-packages (from modAL) (1.0.2)\n",
            "Requirement already satisfied: scipy>=0.18 in /usr/local/lib/python3.7/dist-packages (from modAL) (1.7.3)\n",
            "Requirement already satisfied: numpy>=1.13 in /usr/local/lib/python3.7/dist-packages (from modAL) (1.21.6)\n",
            "Requirement already satisfied: pandas>=1.1.0 in /usr/local/lib/python3.7/dist-packages (from modAL) (1.3.5)\n",
            "Requirement already satisfied: pytz>=2017.3 in /usr/local/lib/python3.7/dist-packages (from pandas>=1.1.0->modAL) (2022.1)\n",
            "Requirement already satisfied: python-dateutil>=2.7.3 in /usr/local/lib/python3.7/dist-packages (from pandas>=1.1.0->modAL) (2.8.2)\n",
            "Requirement already satisfied: six>=1.5 in /usr/local/lib/python3.7/dist-packages (from python-dateutil>=2.7.3->pandas>=1.1.0->modAL) (1.15.0)\n",
            "Requirement already satisfied: threadpoolctl>=2.0.0 in /usr/local/lib/python3.7/dist-packages (from scikit-learn>=0.18->modAL) (3.1.0)\n",
            "Requirement already satisfied: joblib>=0.11 in /usr/local/lib/python3.7/dist-packages (from scikit-learn>=0.18->modAL) (1.1.0)\n"
          ]
        }
      ],
      "source": [
        "!pip install modAL"
      ]
    },
    {
      "cell_type": "code",
      "execution_count": null,
      "metadata": {
        "id": "nFE2YHMm1EFA"
      },
      "outputs": [],
      "source": [
        "#ALL IMPORTS\n",
        "import pandas as pd\n",
        "import numpy as np\n",
        "from sklearn.preprocessing import StandardScaler\n",
        "import math\n",
        "import statistics as stat\n",
        "import numpy as np\n",
        "import scipy.stats\n",
        "import matplotlib.pyplot as plt\n",
        "import seaborn as sns\n",
        "import matplotlib.gridspec as gridspec\n",
        "from sklearn.preprocessing import LabelEncoder\n",
        "from sklearn.ensemble import RandomForestClassifier\n",
        "from functools import partial\n",
        "from imblearn.over_sampling import SMOTE, RandomOverSampler, ADASYN\n",
        "from modAL.batch import uncertainty_batch_sampling, ranked_batch\n",
        "from modAL.models import ActiveLearner\n",
        "from sklearn.metrics import classification_report\n",
        "from imblearn.over_sampling import RandomOverSampler \n",
        "from numpy import quantile, where, random\n",
        "from sklearn.metrics import confusion_matrix\n",
        "from sklearn import tree\n",
        "from sklearn.model_selection import train_test_split\n",
        "from sklearn.metrics import roc_auc_score\n",
        "import matplotlib as mpl\n",
        "from sklearn.metrics import f1_score\n",
        "from sklearn.metrics import recall_score\n",
        "import math\n",
        "from sklearn.metrics import accuracy_score\n",
        "from sklearn.metrics import precision_score\n",
        "le = LabelEncoder()"
      ]
    },
    {
      "cell_type": "code",
      "source": [
        "batch_size = 50\n",
        "n_train = 100\n",
        "n_test = 1000\n",
        "num_queries = 20"
      ],
      "metadata": {
        "id": "_8ekjPA__Jsr"
      },
      "execution_count": null,
      "outputs": []
    },
    {
      "cell_type": "markdown",
      "source": [
        "####Data handling"
      ],
      "metadata": {
        "id": "NCS953J5fUS3"
      }
    },
    {
      "cell_type": "code",
      "source": [
        "def get_data(name):\n",
        "  if name == 'imdb':\n",
        "    movie_data = pd.read_csv('drive/MyDrive/Mitacs/Datasets/movie_metadata.csv')\n",
        "    movie_data.drop_duplicates(inplace=True)\n",
        "    movie_data.loc[:,'genres'] = movie_data.loc[:,'genres'].apply(lambda x: x.split('|'))\n",
        "\n",
        "    genres = []\n",
        "    for x in movie_data.genres:\n",
        "      for g in x:\n",
        "        if g not in genres:\n",
        "          genres.append(g)\n",
        "\n",
        "    for g in genres:\n",
        "      movie_data.loc[:,g] = movie_data.loc[:,'genres'].apply(lambda x: int(g in x))\n",
        "\n",
        "    movie_data.drop([\"director_name\",\"actor_2_name\",\"movie_title\",\"genres\",\"actor_1_name\",\"actor_3_name\",\"plot_keywords\",\"movie_imdb_link\",\"cast_total_facebook_likes\"],axis=1, inplace = True)\n",
        "    movie_data.dropna(inplace=True)\n",
        "\n",
        "    movie_data[\"imdb_score\"] = movie_data[\"imdb_score\"].apply(float)\n",
        "    movie_data.loc[movie_data['imdb_score'].between(8,10), 'imdb_score'] = 100.0\n",
        "    movie_data.loc[movie_data['imdb_score'].between(5,7.99), 'imdb_score'] = 50.0\n",
        "    movie_data.loc[movie_data['imdb_score'].between(0,4.992), 'imdb_score'] = 30.0\n",
        "    movie_data[\"imdb_score\"] = movie_data[\"imdb_score\"].apply(str)\n",
        "    movie_data.loc[movie_data['imdb_score'] == \"100.0\", 'imdb_score'] = \"GOOD\"\n",
        "    movie_data.loc[movie_data['imdb_score'] == \"50.0\", 'imdb_score'] = \"AVERAGE\"\n",
        "    movie_data.loc[movie_data['imdb_score'] == \"30.0\", 'imdb_score'] = \"BAD\"\n",
        "\n",
        "    ratings = movie_data[\"content_rating\"].unique()\n",
        "    for rate in ratings:\n",
        "        if rate == \"M\":\n",
        "            movie_data.loc[movie_data['content_rating'] == rate, 'content_rating'] = \"PG\"\n",
        "        elif rate == \"GP\":\n",
        "            movie_data.loc[movie_data['content_rating'] == rate, 'content_rating'] = \"PG\"\n",
        "        elif rate == \"Unrated\":\n",
        "            movie_data.loc[movie_data['content_rating'] == rate, 'content_rating'] = \"Not Rated\"\n",
        "        elif rate == \"Passed\":\n",
        "            movie_data.loc[movie_data['content_rating'] == rate, 'content_rating'] = \"Approved\"\n",
        "        elif rate == \"X\":\n",
        "            movie_data.loc[movie_data['content_rating'] == rate, 'content_rating'] = \"NC-17\"\n",
        "\n",
        "    movie_data.loc[movie_data['gross'].between(0,15000000.0), 'gross'] = 0.0\n",
        "    movie_data.loc[movie_data['gross'].between(1500000.01,762000000.0), 'gross'] = 1.0\n",
        "    movie_data = pd.get_dummies(movie_data,columns=['color','language','country'],drop_first=True)\n",
        "    target1 = le.fit_transform(movie_data[\"imdb_score\"])\n",
        "    target2 = le.fit_transform(movie_data[\"content_rating\"])\n",
        "    target3 = le.fit_transform(movie_data[\"gross\"])\n",
        "    X_final = movie_data.drop([\"imdb_score\", \"content_rating\", \"gross\"],axis=1)\n",
        "\n",
        "  elif name == 'mushroom':\n",
        "    mushroom_data = pd.read_csv('drive/MyDrive/Mitacs/Datasets/mushroom.csv')\n",
        "    mushroom_data = mushroom_data[mushroom_data['stalk-root']!='?']\n",
        "    mushroom_data = pd.get_dummies(mushroom_data,columns=['cap-shape', 'cap-surface', 'cap-color', 'bruises', 'odor',\n",
        "          'gill-attachment', 'gill-spacing', 'gill-size', 'gill-color',\n",
        "          'stalk-shape', 'stalk-root', 'stalk-surface-above-ring',\n",
        "          'stalk-surface-below-ring', 'stalk-color-above-ring',\n",
        "          'stalk-color-below-ring', 'veil-type', 'veil-color', 'ring-number',\n",
        "          'ring-type', 'spore-print-color'],drop_first=True)\n",
        "    target1 = le.fit_transform(mushroom_data[\"Class\"])\n",
        "    target2 = le.fit_transform(mushroom_data[\"population\"])\n",
        "    target3 = le.fit_transform(mushroom_data[\"habitat\"])\n",
        "    X_final = mushroom_data.drop([\"Class\", \"population\", \"habitat\"],axis=1)\n",
        "  \n",
        "  elif name == 'census':\n",
        "    census_data = pd.read_csv('drive/MyDrive/Mitacs/Datasets/census.csv',names=['age','workclass','fnlwgt','education','education-num','marital-status','occupation','relationship','race','sex','capital-gain','capital-loss','hours-per-week','native-country','income']) \n",
        "    census_data=census_data.drop_duplicates()\n",
        "    for col in census_data.columns:\n",
        "      census_data = census_data[census_data[col]!=' ?']\n",
        "    census_data.loc[census_data.income==' <=50K.','income'] = ' <=50K' \n",
        "    census_data.loc[census_data.income==' >50K.','income'] = ' >50K'\n",
        "    census_data = pd.get_dummies(census_data,columns=['education','occupation','relationship','race','sex','native-country'],drop_first=True)\n",
        "    target1 = le.fit_transform(census_data[\"income\"])\n",
        "    target2 = le.fit_transform(census_data[\"marital-status\"])\n",
        "    target3 = le.fit_transform(census_data[\"workclass\"])\n",
        "    X_final = census_data.drop([\"income\", \"marital-status\", \"workclass\"],axis=1)\n",
        "  \n",
        "  elif name == 'bank':\n",
        "    bank_data = pd.read_csv('drive/MyDrive/Mitacs/Datasets/bank-additional.csv')\n",
        "    for col in bank_data.columns:\n",
        "      bank_data = bank_data[bank_data[col]!='unknown']\n",
        "    bank_data = pd.get_dummies(bank_data,columns=['job','education','default','contact','month','day_of_week','poutcome','marital'],drop_first=True)\n",
        "    target1 = le.fit_transform(bank_data[\"y\"])\n",
        "    target2 = le.fit_transform(bank_data[\"loan\"])\n",
        "    target3 = le.fit_transform(bank_data[\"housing\"])\n",
        "    X_final = bank_data.drop([\"y\", \"loan\", \"housing\"],axis=1)\n",
        "\n",
        "  elif name == 'intention':\n",
        "    intention_data = pd.read_csv('drive/MyDrive/Mitacs/Datasets/online_shoppers_intention.csv')\n",
        "    intention_data = intention_data.drop_duplicates()\n",
        "    intention_data = intention_data[intention_data['VisitorType']!='Other']\n",
        "    intention_data = pd.get_dummies(intention_data,columns=['Month','Weekend'],drop_first=True)        \n",
        "    target1 = le.fit_transform(intention_data[\"Revenue\"])\n",
        "    target2 = le.fit_transform(intention_data[\"VisitorType\"])\n",
        "    target3 = le.fit_transform(intention_data[\"SpecialDay\"])\n",
        "    X_final = intention_data.drop([\"Revenue\", \"VisitorType\", \"SpecialDay\"],axis=1)\n",
        "\n",
        "  elif name == 'anuran':\n",
        "    anuran_data = pd.read_csv('drive/MyDrive/Mitacs/Datasets/Frogs_MFCCs.csv')\n",
        "    anuran_data.drop(columns='RecordID',inplace=True)\n",
        "    target1 = le.fit_transform(anuran_data[\"Family\"])\n",
        "    target2 = le.fit_transform(anuran_data[\"Genus\"])\n",
        "    target3 = le.fit_transform(anuran_data[\"Species\"])\n",
        "    X_final = anuran_data.drop([\"Family\", \"Genus\", \"Species\"],axis=1)\n",
        "  \n",
        "  elif name == 'telco':\n",
        "    telco_data = pd.read_csv('drive/MyDrive/Mitacs/Datasets/telco.csv')\n",
        "    telco_data.drop(columns=['customerID'],inplace=True)\n",
        "    telco_data = telco_data.drop_duplicates()\n",
        "    telco_data = telco_data[telco_data.TotalCharges!=' ']\n",
        "    telco_data = pd.get_dummies(telco_data,columns=['gender','Partner','Dependents','PhoneService','MultipleLines','InternetService','OnlineSecurity','OnlineBackup','DeviceProtection','TechSupport','StreamingTV','StreamingMovies','PaperlessBilling'],drop_first=True)\n",
        "    target1 = le.fit_transform(telco_data[\"Churn\"])\n",
        "    target2 = le.fit_transform(telco_data[\"Contract\"])\n",
        "    target3 = le.fit_transform(telco_data[\"PaymentMethod\"])\n",
        "    X_final = telco_data.drop([\"Churn\", \"Contract\", \"PaymentMethod\"],axis=1)\n",
        "\n",
        "  elif name == 'paris':\n",
        "    paris_data = pd.read_csv('drive/MyDrive/Mitacs/Datasets/ParisHousingClass.csv')\n",
        "    paris_data.drop(columns='made',inplace=True)\n",
        "    target1 = le.fit_transform(paris_data[\"category\"])\n",
        "    target2 = le.fit_transform(paris_data[\"isNewBuilt\"])\n",
        "    target3 = le.fit_transform(paris_data[\"hasStorageRoom\"])\n",
        "    X_final = paris_data.drop([\"category\", \"isNewBuilt\", \"hasStorageRoom\"],axis=1)\n",
        "  \n",
        "  elif name == 'smoking':\n",
        "    smoking_data = pd.read_csv('drive/MyDrive/Mitacs/Datasets/smoking.csv')\n",
        "    smoking_data.drop(columns=['ID','oral'],inplace=True)\n",
        "    smoking_data = smoking_data.drop_duplicates()\n",
        "    smoking_data = pd.get_dummies(smoking_data,columns=['gender'],drop_first=True)\n",
        "    target1 = le.fit_transform(smoking_data[\"smoking\"])\n",
        "    target2 = le.fit_transform(smoking_data[\"tartar\"])\n",
        "    target3 = le.fit_transform(smoking_data[\"dental caries\"])\n",
        "    X_final = smoking_data.drop([\"smoking\", \"tartar\", \"dental caries\"],axis=1)\n",
        "  \n",
        "  elif name == 'flight':\n",
        "    flight_data = pd.read_csv('drive/MyDrive/Mitacs/Datasets/flight.csv')\n",
        "    flight_data.dropna(inplace=True)\n",
        "    flight_data = pd.get_dummies(flight_data,columns=['Gender','Type of Travel'],drop_first=True)\n",
        "    target1 = le.fit_transform(flight_data[\"satisfaction\"])\n",
        "    target2 = le.fit_transform(flight_data[\"Customer Type\"])\n",
        "    target3 = le.fit_transform(flight_data[\"Class\"])\n",
        "    X_final = flight_data.drop([\"satisfaction\", \"Customer Type\", \"Class\"],axis=1)\n",
        "  \n",
        "  else:\n",
        "    raise ValueError('Incorrect dataset')\n",
        "  \n",
        "  return X_final, target1, target2, target3"
      ],
      "metadata": {
        "id": "_WfpqXUcfXSS"
      },
      "execution_count": null,
      "outputs": []
    },
    {
      "cell_type": "markdown",
      "source": [
        "####Implementation Helpers"
      ],
      "metadata": {
        "id": "SII6SDnwzSsx"
      }
    },
    {
      "cell_type": "code",
      "execution_count": null,
      "metadata": {
        "id": "UWzOfCUUGBES"
      },
      "outputs": [],
      "source": [
        "def stratify_samples(X_raw_a, y_raw_1_a, y_raw_2_a, y_raw_3_a, num_classes1, num_classes2, num_classes3):\n",
        "    \n",
        "    train_instances = []\n",
        "    train_instances_y1 = []\n",
        "    train_instances_y2 = []\n",
        "    train_instances_y3 = []\n",
        "    \n",
        "    counts_1 = [0 for i in range(num_classes1)]\n",
        "    counts_2 = [0 for i in range(num_classes2)]\n",
        "    counts_3 = [0 for i in range(num_classes3)]\n",
        "    \n",
        "    counter_inst = 0\n",
        "    for q in range(len(y_raw_1_a)):\n",
        "        for i in range(num_classes1):\n",
        "            if ((y_raw_1_a[q-counter_inst]) == i) and (counts_1[i]<10):\n",
        "                train_instances.append(X_raw_a[q-counter_inst])\n",
        "                train_instances_y1.append(y_raw_1_a[q-counter_inst])\n",
        "                train_instances_y2.append(y_raw_2_a[q-counter_inst])\n",
        "                train_instances_y3.append(y_raw_3_a[q-counter_inst])\n",
        "                \n",
        "                X_raw_a = np.delete(X_raw_a,q-counter_inst,axis=0)\n",
        "                y_raw_1_a = np.delete(y_raw_1_a,q-counter_inst,axis=0)\n",
        "                y_raw_2_a = np.delete(y_raw_2_a,q-counter_inst,axis=0)\n",
        "                y_raw_3_a = np.delete(y_raw_3_a,q-counter_inst,axis=0)\n",
        "                counter_inst = counter_inst + 1\n",
        "                counts_1[i] = counts_1[i] + 1\n",
        "                break\n",
        "\n",
        "    counter_inst = 0\n",
        "    for q in range(len(y_raw_2_a)):\n",
        "        for i in range(num_classes2):\n",
        "            if ((y_raw_2_a[q-counter_inst]) == i) and (counts_2[i]<10):\n",
        "                train_instances.append(X_raw_a[q-counter_inst])\n",
        "                train_instances_y1.append(y_raw_1_a[q-counter_inst])\n",
        "                train_instances_y2.append(y_raw_2_a[q-counter_inst])\n",
        "                train_instances_y3.append(y_raw_3_a[q-counter_inst])\n",
        "                \n",
        "                X_raw_a = np.delete(X_raw_a,q-counter_inst,axis=0)\n",
        "                y_raw_1_a = np.delete(y_raw_1_a,q-counter_inst,axis=0)\n",
        "                y_raw_2_a = np.delete(y_raw_2_a,q-counter_inst,axis=0)\n",
        "                y_raw_3_a = np.delete(y_raw_3_a,q-counter_inst,axis=0)\n",
        "                counter_inst = counter_inst + 1\n",
        "                counts_2[i] = counts_2[i] + 1\n",
        "                break\n",
        "\n",
        "    counter_inst = 0\n",
        "    for q in range(len(y_raw_3_a)):\n",
        "        for i in range(num_classes3):\n",
        "            if ((y_raw_3_a[q-counter_inst]) == i) and (counts_3[i]<10):\n",
        "                train_instances.append(X_raw_a[q-counter_inst])\n",
        "                train_instances_y1.append(y_raw_1_a[q-counter_inst])\n",
        "                train_instances_y2.append(y_raw_2_a[q-counter_inst])\n",
        "                train_instances_y3.append(y_raw_3_a[q-counter_inst])\n",
        "                \n",
        "                X_raw_a = np.delete(X_raw_a,q-counter_inst,axis=0)\n",
        "                y_raw_1_a = np.delete(y_raw_1_a,q-counter_inst,axis=0)\n",
        "                y_raw_2_a = np.delete(y_raw_2_a,q-counter_inst,axis=0)\n",
        "                y_raw_3_a = np.delete(y_raw_3_a,q-counter_inst,axis=0)\n",
        "                counter_inst = counter_inst + 1\n",
        "                counts_3[i] = counts_3[i] + 1\n",
        "                break\n",
        "    \n",
        "    return train_instances, len(train_instances), train_instances_y1, train_instances_y2, train_instances_y3, X_raw_a, y_raw_1_a, y_raw_2_a, y_raw_3_a"
      ]
    },
    {
      "cell_type": "code",
      "execution_count": null,
      "metadata": {
        "id": "1WCeYWPIGMvf"
      },
      "outputs": [],
      "source": [
        "def high_probabilities(target_prob):\n",
        "    prob_arr_temp = [-1,-1,-1,-1,-1,-1,-1,-1,-1,-1,-1,-1,-1]\n",
        "    prob_array = []\n",
        "    for i in range(target_prob.shape[0]):\n",
        "        for j in range(target_prob.shape[1]):\n",
        "            prob_arr_temp[j] = target_prob[i][j]\n",
        "        max = np.amax(prob_arr_temp)\n",
        "        class_index = np.where(prob_arr_temp == max)\n",
        "        prob_array.append([max,class_index[0][0],i])\n",
        "        # print([max,class_index[0][0],i])\n",
        "    return prob_array"
      ]
    },
    {
      "cell_type": "code",
      "execution_count": null,
      "metadata": {
        "id": "QUHYJJseGUTe"
      },
      "outputs": [],
      "source": [
        "def find_min(tar_probs, num_sample):\n",
        "    sample_size = num_sample\n",
        "    temp_tar_probs = tar_probs\n",
        "    que_instances = []\n",
        "    temp_tar_probs = sorted(temp_tar_probs, key=lambda x:x[0])\n",
        "    count_stop = 1\n",
        "    for t in range(50):\n",
        "        if ((count_stop <= sample_size) and (int(temp_tar_probs[t][2]) < len(temp_tar_probs))):\n",
        "            que_instances.append(int(temp_tar_probs[t][2]))\n",
        "            count_stop = count_stop + 1\n",
        "            \n",
        "    return que_instances"
      ]
    },
    {
      "cell_type": "code",
      "execution_count": null,
      "metadata": {
        "id": "0yPAq7rmHOvY"
      },
      "outputs": [],
      "source": [
        "#Obtaining Query Samples\n",
        "def obt_samples(tar_probs, pool_x, pool_y_1, pool_y_2, pool_y_3, query_indexs, query_samples_xs, query_samples_y_1s, query_samples_y_2s, query_samples_y_3s, tar_probs_2, tar_probs_3, num_sample):\n",
        "\n",
        "    q_indic = find_min(tar_probs, num_sample)\n",
        "    q_indic = sorted(q_indic, reverse=True)\n",
        "    for p in range(len(q_indic)):\n",
        "        q_ind = q_indic[p]\n",
        "        query_indexs.append(q_ind)\n",
        "\n",
        "        query_samples_xs.append(pool_x[q_ind])\n",
        "        query_samples_y_1s.append(pool_y_1[q_ind])\n",
        "        query_samples_y_2s.append(pool_y_2[q_ind])\n",
        "        query_samples_y_3s.append(pool_y_3[q_ind])\n",
        "        \n",
        "    for p in range(len(q_indic)):\n",
        "        q_ind = q_indic[p]\n",
        "        pool_x = np.delete(pool_x,q_ind,axis=0)\n",
        "        pool_y_1 = np.delete(pool_y_1,q_ind,axis=0)\n",
        "        pool_y_2 = np.delete(pool_y_2,q_ind,axis=0)\n",
        "        pool_y_3 = np.delete(pool_y_3,q_ind,axis=0)\n",
        "        tar_probs = np.delete(tar_probs,q_ind,axis=0)\n",
        "        tar_probs_2 = np.delete(tar_probs_2,q_ind,axis=0)\n",
        "        tar_probs_3 = np.delete(tar_probs_3,q_ind,axis=0)\n",
        "        \n",
        "    return pool_x, pool_y_1, pool_y_2, pool_y_3, tar_probs, query_indexs, query_samples_xs, query_samples_y_1s, query_samples_y_2s, query_samples_y_3s, tar_probs_2, tar_probs_3"
      ]
    },
    {
      "cell_type": "code",
      "execution_count": null,
      "metadata": {
        "id": "g_hGaJksHWQe"
      },
      "outputs": [],
      "source": [
        "def find_samples(X_pools, Y_pools_1, Y_pools_2, Y_pools_3, tar_1_proba, tar_2_proba, tar_3_proba, num_samples1=15, num_samples2=15, num_samples3=15):\n",
        "    tar_1_high_probs = high_probabilities(tar_1_proba)\n",
        "    tar_2_high_probs = high_probabilities(tar_2_proba)\n",
        "    tar_3_high_probs = high_probabilities(tar_3_proba)\n",
        "\n",
        "    query_index = []\n",
        "    query_samples_x = []\n",
        "    query_samples_y_1 = []\n",
        "    query_samples_y_2 = []\n",
        "    query_samples_y_3 = []\n",
        "\n",
        "    X_pools, Y_pools_1, Y_pools_2, Y_pools_3, tar_1_high_probs, query_index, query_samples_x, query_samples_y_1, query_samples_y_2, query_samples_y_3, tar_2_high_probs, tar_3_high_probs = obt_samples(tar_1_high_probs, X_pools, Y_pools_1, Y_pools_2, Y_pools_3, query_index, query_samples_x, query_samples_y_1, query_samples_y_2, query_samples_y_3, tar_2_high_probs, tar_3_high_probs, num_samples1)\n",
        "    X_pools, Y_pools_1, Y_pools_2, Y_pools_3, tar_2_high_probs, query_index, query_samples_x, query_samples_y_1, query_samples_y_2, query_samples_y_3, tar_1_high_probs, tar_3_high_probs = obt_samples(tar_2_high_probs, X_pools, Y_pools_1, Y_pools_2, Y_pools_3, query_index, query_samples_x, query_samples_y_1, query_samples_y_2, query_samples_y_3, tar_1_high_probs, tar_3_high_probs, num_samples2)\n",
        "    X_pools, Y_pools_1, Y_pools_2, Y_pools_3, tar_3_high_probs, query_index, query_samples_x, query_samples_y_1, query_samples_y_2, query_samples_y_3, tar_1_high_probs, tar_2_high_probs = obt_samples(tar_3_high_probs, X_pools, Y_pools_1, Y_pools_2, Y_pools_3, query_index, query_samples_x, query_samples_y_1, query_samples_y_2, query_samples_y_3, tar_1_high_probs, tar_2_high_probs, num_samples3)\n",
        "    \n",
        "    return X_pools, Y_pools_1, Y_pools_2, Y_pools_3, query_samples_x, query_samples_y_1, query_samples_y_2, query_samples_y_3"
      ]
    },
    {
      "cell_type": "markdown",
      "source": [
        "####Implementation"
      ],
      "metadata": {
        "id": "dkilVYfbIUYB"
      }
    },
    {
      "cell_type": "code",
      "source": [
        "def mlsample(X_final, target1, target2, target3, columns):\n",
        "  tempdf = pd.DataFrame(X_final,columns=columns)\n",
        "  diff1, diff2, diff3 = int(np.diff(np.bincount(target1))), int(np.diff(np.bincount(target2))), int(np.diff(np.bincount(target3)))\n",
        "  max1, max2, max3 = [int(x>0) for x in [diff1, diff2, diff3]]\n",
        "\n",
        "  tempdf['target1'] = target1\n",
        "  tempdf['target2'] = target2\n",
        "  tempdf['target3'] = target3\n",
        "\n",
        "  diff1, diff2, diff3 = abs(diff1), abs(diff2), abs(diff3)\n",
        "\n",
        "  # print(diff1,diff2,diff3)\n",
        "  # try:\n",
        "  if diff1 == min(diff1,diff2,diff3):\n",
        "    # print('Start replicating target 1')\n",
        "    tempdf = tempdf.append(tempdf[tempdf['target1']!=max1].sample(max(1,diff1), replace=True, random_state=42), ignore_index=True)\n",
        "    diff1, diff2, diff3 = int(np.diff(np.bincount(tempdf['target1']))), int(np.diff(np.bincount(tempdf['target2']))), int(np.diff(np.bincount(tempdf['target3'])))\n",
        "    max1, max2, max3 = [int(x>0) for x in [diff1, diff2, diff3]]\n",
        "    diff1, diff2, diff3 = abs(diff1), abs(diff2), abs(diff3)\n",
        "    # print(diff1,diff2,diff3)\n",
        "\n",
        "    if diff2 == min(diff2,diff3):\n",
        "      # print('replicate 2 and then 3')\n",
        "      tempdf = tempdf.append(tempdf[(tempdf['target2']!=max2) & (tempdf['target1']!=0)].sample(max(1,diff2//2), replace=True, random_state=42), ignore_index=True)\n",
        "      tempdf = tempdf.append(tempdf[(tempdf['target2']!=max2) & (tempdf['target1']!=1)].sample(max(1,diff2//2), replace=True, random_state=42), ignore_index=True)\n",
        "      diff1, diff2, diff3 = int(np.diff(np.bincount(tempdf['target1']))), int(np.diff(np.bincount(tempdf['target2']))), int(np.diff(np.bincount(tempdf['target3'])))\n",
        "      max1, max2, max3 = [int(x>0) for x in [diff1, diff2, diff3]]\n",
        "      diff1, diff2, diff3 = abs(diff1), abs(diff2), abs(diff3)\n",
        "      # print(diff1,diff2,diff3)\n",
        "\n",
        "      tempdf = tempdf.append(tempdf[(tempdf['target3']!=max3) & (tempdf['target2']==0) & (tempdf['target1']==0)].sample(max(1,diff3//4), replace=True, random_state=42), ignore_index=True)\n",
        "      tempdf = tempdf.append(tempdf[(tempdf['target3']!=max3) & (tempdf['target2']==0) & (tempdf['target1']==1)].sample(max(1,diff3//4), replace=True, random_state=42), ignore_index=True)\n",
        "      tempdf = tempdf.append(tempdf[(tempdf['target3']!=max3) & (tempdf['target2']==1) & (tempdf['target1']==0)].sample(max(1,diff3//4), replace=True, random_state=42), ignore_index=True)\n",
        "      tempdf = tempdf.append(tempdf[(tempdf['target3']!=max3) & (tempdf['target2']==1) & (tempdf['target1']==1)].sample(max(1,diff3//4), replace=True, random_state=42), ignore_index=True)\n",
        "      diff1, diff2, diff3 = int(np.diff(np.bincount(tempdf['target1']))), int(np.diff(np.bincount(tempdf['target2']))), int(np.diff(np.bincount(tempdf['target3'])))\n",
        "      max1, max2, max3 = [int(x>0) for x in [diff1, diff2, diff3]]\n",
        "      diff1, diff2, diff3 = abs(diff1), abs(diff2), abs(diff3)\n",
        "      # print(diff1,diff2,diff3)\n",
        "\n",
        "    else:\n",
        "      # print('replicate 3 and then 2')\n",
        "      tempdf = tempdf.append(tempdf[(tempdf['target3']!=max3) & (tempdf['target1']!=0)].sample(max(1,diff3//2), replace=True, random_state=42), ignore_index=True)\n",
        "      tempdf = tempdf.append(tempdf[(tempdf['target3']!=max3) & (tempdf['target1']!=1)].sample(max(1,diff3//2), replace=True, random_state=42), ignore_index=True)\n",
        "      diff1, diff2, diff3 = int(np.diff(np.bincount(tempdf['target1']))), int(np.diff(np.bincount(tempdf['target2']))), int(np.diff(np.bincount(tempdf['target3'])))\n",
        "      max1, max2, max3 = [int(x>0) for x in [diff1, diff2, diff3]]\n",
        "      diff1, diff2, diff3 = abs(diff1), abs(diff2), abs(diff3)\n",
        "      # print(diff1,diff2,diff3)\n",
        "\n",
        "      tempdf = tempdf.append(tempdf[(tempdf['target2']!=max2) & (tempdf['target3']==0) & (tempdf['target1']==0)].sample(max(1,diff2//4), replace=True, random_state=42), ignore_index=True)\n",
        "      tempdf = tempdf.append(tempdf[(tempdf['target2']!=max2) & (tempdf['target3']==0) & (tempdf['target1']==1)].sample(max(1,diff2//4), replace=True, random_state=42), ignore_index=True)\n",
        "      tempdf = tempdf.append(tempdf[(tempdf['target2']!=max2) & (tempdf['target3']==1) & (tempdf['target1']==0)].sample(max(1,diff2//4), replace=True, random_state=42), ignore_index=True)\n",
        "      tempdf = tempdf.append(tempdf[(tempdf['target2']!=max2) & (tempdf['target3']==1) & (tempdf['target1']==1)].sample(max(1,diff2//4), replace=True, random_state=42), ignore_index=True)\n",
        "      diff1, diff2, diff3 = int(np.diff(np.bincount(tempdf['target1']))), int(np.diff(np.bincount(tempdf['target2']))), int(np.diff(np.bincount(tempdf['target3'])))\n",
        "      max1, max2, max3 = [int(x>0) for x in [diff1, diff2, diff3]]\n",
        "      diff1, diff2, diff3 = abs(diff1), abs(diff2), abs(diff3)\n",
        "      # print(diff1,diff2,diff3)\n",
        "\n",
        "\n",
        "  elif diff2 == min(diff1,diff2,diff3):\n",
        "    # print('Start replicating target 2')\n",
        "    tempdf = tempdf.append(tempdf[tempdf['target2']!=max2].sample(max(1,diff2), replace=True, random_state=42), ignore_index=True)\n",
        "    diff1, diff2, diff3 = int(np.diff(np.bincount(tempdf['target1']))), int(np.diff(np.bincount(tempdf['target2']))), int(np.diff(np.bincount(tempdf['target3'])))\n",
        "    max1, max2, max3 = [int(x>0) for x in [diff1, diff2, diff3]]\n",
        "    diff1, diff2, diff3 = abs(diff1), abs(diff2), abs(diff3)\n",
        "    # print(diff1,diff2,diff3)\n",
        "\n",
        "    if diff1 == min(diff1,diff3):\n",
        "      # print('replicate 1 and then 3')\n",
        "      tempdf = tempdf.append(tempdf[(tempdf['target1']!=max1) & (tempdf['target2']!=0)].sample(max(1,diff1//2), replace=True, random_state=42), ignore_index=True)\n",
        "      tempdf = tempdf.append(tempdf[(tempdf['target1']!=max1) & (tempdf['target2']!=1)].sample(max(1,diff1//2), replace=True, random_state=42), ignore_index=True)\n",
        "      diff1, diff2, diff3 = int(np.diff(np.bincount(tempdf['target1']))), int(np.diff(np.bincount(tempdf['target2']))), int(np.diff(np.bincount(tempdf['target3'])))\n",
        "      max1, max2, max3 = [int(x>0) for x in [diff1, diff2, diff3]]\n",
        "      diff1, diff2, diff3 = abs(diff1), abs(diff2), abs(diff3)\n",
        "      # print(diff1,diff2,diff3)\n",
        "\n",
        "      tempdf = tempdf.append(tempdf[(tempdf['target3']!=max3) & (tempdf['target2']==0) & (tempdf['target1']==0)].sample(max(1,diff3//4), replace=True, random_state=42), ignore_index=True)\n",
        "      tempdf = tempdf.append(tempdf[(tempdf['target3']!=max3) & (tempdf['target2']==0) & (tempdf['target1']==1)].sample(max(1,diff3//4), replace=True, random_state=42), ignore_index=True)\n",
        "      tempdf = tempdf.append(tempdf[(tempdf['target3']!=max3) & (tempdf['target2']==1) & (tempdf['target1']==0)].sample(max(1,diff3//4), replace=True, random_state=42), ignore_index=True)\n",
        "      tempdf = tempdf.append(tempdf[(tempdf['target3']!=max3) & (tempdf['target2']==1) & (tempdf['target1']==1)].sample(max(1,diff3//4), replace=True, random_state=42), ignore_index=True)\n",
        "      diff1, diff2, diff3 = int(np.diff(np.bincount(tempdf['target1']))), int(np.diff(np.bincount(tempdf['target2']))), int(np.diff(np.bincount(tempdf['target3'])))\n",
        "      max1, max2, max3 = [int(x>0) for x in [diff1, diff2, diff3]]\n",
        "      diff1, diff2, diff3 = abs(diff1), abs(diff2), abs(diff3)\n",
        "      # print(diff1,diff2,diff3)\n",
        "\n",
        "    else:\n",
        "      # print('replicate 3 and then 1')\n",
        "      tempdf = tempdf.append(tempdf[(tempdf['target3']!=max3) & (tempdf['target2']!=0)].sample(max(1,diff3//2), replace=True, random_state=42), ignore_index=True)\n",
        "      tempdf = tempdf.append(tempdf[(tempdf['target3']!=max3) & (tempdf['target2']!=1)].sample(max(1,diff3//2), replace=True, random_state=42), ignore_index=True)\n",
        "      diff1, diff2, diff3 = int(np.diff(np.bincount(tempdf['target1']))), int(np.diff(np.bincount(tempdf['target2']))), int(np.diff(np.bincount(tempdf['target3'])))\n",
        "      max1, max2, max3 = [int(x>0) for x in [diff1, diff2, diff3]]\n",
        "      diff1, diff2, diff3 = abs(diff1), abs(diff2), abs(diff3)\n",
        "      # print(diff1,diff2,diff3)\n",
        "\n",
        "      tempdf = tempdf.append(tempdf[(tempdf['target1']!=max1) & (tempdf['target3']==0) & (tempdf['target2']==0)].sample(max(1,diff1//4), replace=True, random_state=42), ignore_index=True)\n",
        "      tempdf = tempdf.append(tempdf[(tempdf['target1']!=max1) & (tempdf['target3']==0) & (tempdf['target2']==1)].sample(max(1,diff1//4), replace=True, random_state=42), ignore_index=True)\n",
        "      tempdf = tempdf.append(tempdf[(tempdf['target1']!=max1) & (tempdf['target3']==1) & (tempdf['target2']==0)].sample(max(1,diff1//4), replace=True, random_state=42), ignore_index=True)\n",
        "      tempdf = tempdf.append(tempdf[(tempdf['target1']!=max1) & (tempdf['target3']==1) & (tempdf['target2']==1)].sample(max(1,diff1//4), replace=True, random_state=42), ignore_index=True)\n",
        "      diff1, diff2, diff3 = int(np.diff(np.bincount(tempdf['target1']))), int(np.diff(np.bincount(tempdf['target2']))), int(np.diff(np.bincount(tempdf['target3'])))\n",
        "      max1, max2, max3 = [int(x>0) for x in [diff1, diff2, diff3]]\n",
        "      diff1, diff2, diff3 = abs(diff1), abs(diff2), abs(diff3)\n",
        "      # print(diff1,diff2,diff3)\n",
        "\n",
        "  elif diff3 == min(diff1,diff2,diff3):\n",
        "    # print('Start replicating target 3')\n",
        "    tempdf = tempdf.append(tempdf[tempdf['target3']!=max3].sample(max(1,diff3), replace=True, random_state=42), ignore_index=True)\n",
        "    diff1, diff2, diff3 = int(np.diff(np.bincount(tempdf['target1']))), int(np.diff(np.bincount(tempdf['target2']))), int(np.diff(np.bincount(tempdf['target3'])))\n",
        "    max1, max2, max3 = [int(x>0) for x in [diff1, diff2, diff3]]\n",
        "    diff1, diff2, diff3 = abs(diff1), abs(diff2), abs(diff3)\n",
        "    # print(diff1,diff2,diff3)\n",
        "\n",
        "    if diff1 == min(diff1,diff2):\n",
        "      # print('replicate 1 and then 2')\n",
        "      tempdf = tempdf.append(tempdf[(tempdf['target1']!=max1) & (tempdf['target3']!=0)].sample(max(1,diff1//2), replace=True, random_state=42), ignore_index=True)\n",
        "      tempdf = tempdf.append(tempdf[(tempdf['target1']!=max1) & (tempdf['target3']!=1)].sample(max(1,diff1//2), replace=True, random_state=42), ignore_index=True)\n",
        "      diff1, diff2, diff3 = int(np.diff(np.bincount(tempdf['target1']))), int(np.diff(np.bincount(tempdf['target2']))), int(np.diff(np.bincount(tempdf['target3'])))\n",
        "      max1, max2, max3 = [int(x>0) for x in [diff1, diff2, diff3]]\n",
        "      diff1, diff2, diff3 = abs(diff1), abs(diff2), abs(diff3)\n",
        "      # print(diff1,diff2,diff3)\n",
        "\n",
        "      tempdf = tempdf.append(tempdf[(tempdf['target2']!=max2) & (tempdf['target1']==0) & (tempdf['target3']==0)].sample(max(1,diff2//4), replace=True, random_state=42), ignore_index=True)\n",
        "      tempdf = tempdf.append(tempdf[(tempdf['target2']!=max2) & (tempdf['target1']==0) & (tempdf['target3']==1)].sample(max(1,diff2//4), replace=True, random_state=42), ignore_index=True)\n",
        "      tempdf = tempdf.append(tempdf[(tempdf['target2']!=max2) & (tempdf['target1']==1) & (tempdf['target3']==0)].sample(max(1,diff2//4), replace=True, random_state=42), ignore_index=True)\n",
        "      tempdf = tempdf.append(tempdf[(tempdf['target2']!=max2) & (tempdf['target1']==1) & (tempdf['target3']==1)].sample(max(1,diff2//4), replace=True, random_state=42), ignore_index=True)\n",
        "      diff1, diff2, diff3 = int(np.diff(np.bincount(tempdf['target1']))), int(np.diff(np.bincount(tempdf['target2']))), int(np.diff(np.bincount(tempdf['target3'])))\n",
        "      max1, max2, max3 = [int(x>0) for x in [diff1, diff2, diff3]]\n",
        "      diff1, diff2, diff3 = abs(diff1), abs(diff2), abs(diff3)\n",
        "      # print(diff1,diff2,diff3)\n",
        "\n",
        "    else:\n",
        "      # print('replicate 2 and then 1')\n",
        "      tempdf = tempdf.append(tempdf[(tempdf['target2']!=max2) & (tempdf['target3']!=0)].sample(max(1,diff2//2), replace=True, random_state=42), ignore_index=True)\n",
        "      tempdf = tempdf.append(tempdf[(tempdf['target2']!=max2) & (tempdf['target3']!=1)].sample(max(1,diff2//2), replace=True, random_state=42), ignore_index=True)\n",
        "      diff1, diff2, diff3 = int(np.diff(np.bincount(tempdf['target1']))), int(np.diff(np.bincount(tempdf['target2']))), int(np.diff(np.bincount(tempdf['target3'])))\n",
        "      max1, max2, max3 = [int(x>0) for x in [diff1, diff2, diff3]]\n",
        "      diff1, diff2, diff3 = abs(diff1), abs(diff2), abs(diff3)\n",
        "      # print(diff1,diff2,diff3)\n",
        "\n",
        "      tempdf = tempdf.append(tempdf[(tempdf['target1']!=max1) & (tempdf['target2']==0) & (tempdf['target3']==0)].sample(max(1,diff1//4), replace=True, random_state=42), ignore_index=True)\n",
        "      tempdf = tempdf.append(tempdf[(tempdf['target1']!=max1) & (tempdf['target2']==0) & (tempdf['target3']==1)].sample(max(1,diff1//4), replace=True, random_state=42), ignore_index=True)\n",
        "      tempdf = tempdf.append(tempdf[(tempdf['target1']!=max1) & (tempdf['target2']==1) & (tempdf['target3']==0)].sample(max(1,diff1//4), replace=True, random_state=42), ignore_index=True)\n",
        "      tempdf = tempdf.append(tempdf[(tempdf['target1']!=max1) & (tempdf['target2']==1) & (tempdf['target3']==1)].sample(max(1,diff1//4), replace=True, random_state=42), ignore_index=True)\n",
        "      diff1, diff2, diff3 = int(np.diff(np.bincount(tempdf['target1']))), int(np.diff(np.bincount(tempdf['target2']))), int(np.diff(np.bincount(tempdf['target3'])))\n",
        "      max1, max2, max3 = [int(x>0) for x in [diff1, diff2, diff3]]\n",
        "      diff1, diff2, diff3 = abs(diff1), abs(diff2), abs(diff3)\n",
        "      # print(diff1,diff2,diff3)\n",
        "\n",
        "  # except:\n",
        "  #   pass\n",
        "\n",
        "  return np.array(tempdf.iloc[:,:-3]), np.array(tempdf.target1), np.array(tempdf.target2), np.array(tempdf.target3)"
      ],
      "metadata": {
        "id": "h-w0TBGkYdv1"
      },
      "execution_count": null,
      "outputs": []
    },
    {
      "cell_type": "code",
      "source": [
        "def baseline_train(X_final, target1, target2, target3, batch_size, n_train, n_test, num_queries, balance='None', multitarget=False):\n",
        "  if multitarget:\n",
        "    clf = RandomForestClassifier(criterion= 'gini', max_depth= 21)\n",
        "  else:\n",
        "    clf_1 = RandomForestClassifier(criterion= 'gini', max_depth= 7)\n",
        "    clf_2 = RandomForestClassifier(criterion= 'gini', max_depth= 7)\n",
        "    clf_3 = RandomForestClassifier(criterion= 'gini', max_depth= 7)\n",
        "\n",
        "  scaler = StandardScaler()\n",
        "  scaler.fit(X_final)\n",
        "\n",
        "  num_classes1 = len(np.unique(target1))\n",
        "  num_classes2 = len(np.unique(target2))\n",
        "  num_classes3 = len(np.unique(target3))\n",
        "\n",
        "  #Declaring batch size and initial raw samples\n",
        "  BATCH_SIZE = batch_size\n",
        "\n",
        "  #Declaring Features and Target variables\n",
        "  y_raw_1 = target1\n",
        "  y_raw_2 = target2\n",
        "  y_raw_3 = target3\n",
        "  X_raw = X_final\n",
        "\n",
        "  # print(\"---------------------------------------\")\n",
        "  # print(\"Shape of data set :\" + str(X_raw.shape))\n",
        "\n",
        "  X_raw = X_raw.values\n",
        "\n",
        "  # batch_data_continous_X,y stores data and adds to it after every iteration of batch\n",
        "  batch_data_continous_X = np.array([]).reshape(0,X_raw.shape[1])\n",
        "  batch_data_continous_y_1 = np.array([]).reshape(0,1)\n",
        "  batch_data_continous_y_2 = np.array([]).reshape(0,1)\n",
        "  batch_data_continous_y_3 = np.array([]).reshape(0,1)\n",
        "\n",
        "  # Spliting dataset into Train, Pool(for batch) and Test.\n",
        "  # print(\"Preparing Initial Training, Pool and Test sets for initial AL\")\n",
        "  # print(\"\")\n",
        "\n",
        "  X_train, length_train, y_train_1, y_train_2, y_train_3, X_raw, y_raw_1, y_raw_2, y_raw_3 = stratify_samples(X_raw, y_raw_1, y_raw_2, y_raw_3, num_classes1, num_classes2, num_classes3)\n",
        "  X_train = np.array(X_train)\n",
        "\n",
        "  y_train_1 = np.array(y_train_1)\n",
        "  y_train_2 = np.array(y_train_2)\n",
        "  y_train_3 = np.array(y_train_3)\n",
        "\n",
        "  # print(\"Correlation betweem target 1 and 2: \",np.corrcoef(y_train_1, y_train_2)[0,1])\n",
        "  # print(\"Correlation betweem target 2 and 3: \",np.corrcoef(y_train_2, y_train_3)[0,1])\n",
        "  # print(\"Correlation betweem target 1 and 3: \",np.corrcoef(y_train_1, y_train_3)[0,1])\n",
        "  \n",
        "  X_train_temp = X_raw[:n_train]\n",
        "  y_train_1_temp = y_raw_1[:n_train]\n",
        "  y_train_2_temp = y_raw_2[:n_train]\n",
        "  y_train_3_temp = y_raw_3[:n_train]\n",
        "\n",
        "  #Joining Training Set\n",
        "  X_train = np.concatenate((X_train, X_train_temp), axis=0)\n",
        "  y_train_1 = np.concatenate((y_train_1, y_train_1_temp), axis=0) \n",
        "  y_train_2 = np.concatenate((y_train_2, y_train_2_temp), axis=0) \n",
        "  y_train_3 = np.concatenate((y_train_3, y_train_3_temp), axis=0) \n",
        "\n",
        "  X_test = X_raw[n_train:n_train+n_test]\n",
        "  y_test_1 = y_raw_1[n_train:n_train+n_test]\n",
        "  y_test_2 = y_raw_2[n_train:n_train+n_test]\n",
        "  y_test_3 = y_raw_3[n_train:n_train+n_test]\n",
        "\n",
        "  X_pool = X_raw[n_train+n_test:]\n",
        "  y_pool_1 = y_raw_1[n_train+n_test:]\n",
        "  y_pool_2 = y_raw_2[n_train+n_test:]\n",
        "  y_pool_3 = y_raw_3[n_train+n_test:]\n",
        "\n",
        "  # lists to store all metric values after each iteration\n",
        "  accuracy_history = {1:[], 2:[], 3:[]}\n",
        "  auc_history = {1:[], 2:[], 3:[]}\n",
        "  precision_history = {1:[], 2:[], 3:[]}\n",
        "  recall_history = {1:[], 2:[], 3:[]}\n",
        "  f1_history = {1:[], 2:[], 3:[]}\n",
        "\n",
        "  random.seed(10)\n",
        "\n",
        "  batch_data_continous_X = np.vstack([batch_data_continous_X, X_train])\n",
        "  batch_data_continous_y_1 = np.append(batch_data_continous_y_1, y_train_1)\n",
        "  batch_data_continous_y_2 = np.append(batch_data_continous_y_2, y_train_2)\n",
        "  batch_data_continous_y_3 = np.append(batch_data_continous_y_3, y_train_3)\n",
        "\n",
        "  #Fitting the model for each label\n",
        "  if not multitarget:\n",
        "    if balance == 'Random':\n",
        "      os1 = RandomOverSampler(random_state=42)\n",
        "      os2 = RandomOverSampler(random_state=42)\n",
        "      os3 = RandomOverSampler(random_state=42)\n",
        "\n",
        "      X_res_1, y_res_1 = os1.fit_resample(X_train, y_train_1)\n",
        "      X_res_2, y_res_2 = os2.fit_resample(X_train, y_train_2)\n",
        "      X_res_3, y_res_3 = os3.fit_resample(X_train, y_train_3)\n",
        "\n",
        "    elif balance == 'Smote':\n",
        "      os1 = SMOTE(random_state=42)\n",
        "      os2 = SMOTE(random_state=42)\n",
        "      os3 = SMOTE(random_state=42)\n",
        "\n",
        "      X_res_1, y_res_1 = os1.fit_resample(X_train, y_train_1)\n",
        "      X_res_2, y_res_2 = os2.fit_resample(X_train, y_train_2)\n",
        "      X_res_3, y_res_3 = os3.fit_resample(X_train, y_train_3)\n",
        "\n",
        "    elif balance == 'Adasyn':\n",
        "      os1 = ADASYN(random_state=42)\n",
        "      os2 = ADASYN(random_state=42)\n",
        "      os3 = ADASYN(random_state=42)\n",
        "\n",
        "      X_res_1, y_res_1 = os1.fit_resample(X_train, y_train_1)\n",
        "      X_res_2, y_res_2 = os2.fit_resample(X_train, y_train_2)\n",
        "      X_res_3, y_res_3 = os3.fit_resample(X_train, y_train_3)\n",
        "    \n",
        "    else:\n",
        "      X_res_1, y_res_1 = (X_train, y_train_1)\n",
        "      X_res_2, y_res_2 = (X_train, y_train_2)\n",
        "      X_res_3, y_res_3 = (X_train, y_train_3)\n",
        "\n",
        "    clf1 = clf_1.fit(X_res_1, y_res_1)\n",
        "    clf2 = clf_2.fit(X_res_2, y_res_2)\n",
        "    clf3 = clf_3.fit(X_res_3, y_res_3)\n",
        "\n",
        "    #Generating predictions for each label\n",
        "    predictions_1 = clf1.predict(X_test)\n",
        "    predictions_2 = clf2.predict(X_test)\n",
        "    predictions_3 = clf3.predict(X_test)\n",
        "\n",
        "    #Generating accuracies for each label\n",
        "    model_accuracy_1 = accuracy_score(y_test_1,predictions_1)\n",
        "    model_accuracy_2 = accuracy_score(y_test_2,predictions_2)\n",
        "    model_accuracy_3 = accuracy_score(y_test_3,predictions_3)\n",
        "    model_f1_1 = f1_score(y_test_1, predictions_1, average=\"macro\")\n",
        "    model_f1_2 = f1_score(y_test_2, predictions_2, average=\"macro\")  \n",
        "    model_f1_3 = f1_score(y_test_3, predictions_3, average=\"macro\")\n",
        "\n",
        "  else:\n",
        "    if balance == 'mlsample':\n",
        "      X_res_1, y_res_1, y_res_2, y_res_3 = mlsample(X_train, y_train_1, y_train_2, y_train_3, X_final.columns.tolist())\n",
        "\n",
        "    else:\n",
        "      X_res_1, y_res_1 = (X_train, y_train_1)\n",
        "      X_res_2, y_res_2 = (X_train, y_train_2)\n",
        "      X_res_3, y_res_3 = (X_train, y_train_3)\n",
        "\n",
        "    clf1 = clf.fit(X_res_1, np.concatenate([v.reshape((-1,1)) for v in (y_res_1, y_res_2, y_res_3)], axis=1))\n",
        "    predictions = clf1.predict(X_test)\n",
        "    model_accuracy_1 = accuracy_score(y_test_1,predictions[:,0])\n",
        "    model_accuracy_2 = accuracy_score(y_test_2,predictions[:,1])\n",
        "    model_accuracy_3 = accuracy_score(y_test_3,predictions[:,2])\n",
        "    model_f1_1 = f1_score(y_test_1, predictions[:,0], average=\"macro\")\n",
        "    model_f1_2 = f1_score(y_test_2, predictions[:,1], average=\"macro\")  \n",
        "    model_f1_3 = f1_score(y_test_3, predictions[:,2], average=\"macro\")\n",
        "\n",
        "  # print(\"========================\")\n",
        "  # print('Accuracy after Query {n} for Target 1: {acc:0.4f}'.format(n=0, acc=model_accuracy_1))\n",
        "  # print('Accuracy after Query {n} for Target 2: {acc:0.4f}'.format(n=0, acc=model_accuracy_2))\n",
        "  # print('Accuracy after Query {n} for Target 3: {acc:0.4f}'.format(n=0, acc=model_accuracy_3))\n",
        "\n",
        "  #Appending accuracy score for all labels\n",
        "  accuracy_history[1].append(model_accuracy_1)\n",
        "  accuracy_history[2].append(model_accuracy_2)\n",
        "  accuracy_history[3].append(model_accuracy_3)\n",
        "\n",
        "  #Appending f1 score for all labels\n",
        "  f1_history[1].append(model_f1_1)\n",
        "  f1_history[2].append(model_f1_2)\n",
        "  f1_history[3].append(model_f1_3)\n",
        "\n",
        "\n",
        "  N_QUERIES = num_queries\n",
        "  # print(\"========================\")\n",
        "  for index in range(N_QUERIES):\n",
        "      if not multitarget:\n",
        "        tar_1_probas = clf1.predict_proba(X_pool)\n",
        "        tar_2_probas = clf2.predict_proba(X_pool)\n",
        "        tar_3_probas = clf3.predict_proba(X_pool)\n",
        "\n",
        "      else:\n",
        "        tar_probas = clf1.predict_proba(X_pool)\n",
        "        tar_1_probas = tar_probas[0]\n",
        "        tar_2_probas = tar_probas[1]\n",
        "        tar_3_probas = tar_probas[2]\n",
        "\n",
        "      # print(\"\")\n",
        "      # print(\"\")\n",
        "      # print(\"---------------------------------------\")\n",
        "      # print(\"Learning phase Query: \" + str(index + 1))\n",
        "\n",
        "      X_pool, y_pool_1, y_pool_2, y_pool_3, X_batch, y_batch_1, y_batch_2, y_batch_3 = find_samples(X_pool, y_pool_1, y_pool_2, y_pool_3, tar_1_probas, tar_2_probas, tar_3_probas)\n",
        "      \n",
        "      batch_data_continous_X = np.vstack([batch_data_continous_X, X_batch])\n",
        "      batch_data_continous_y_1 = np.append(batch_data_continous_y_1, y_batch_1)\n",
        "      batch_data_continous_y_2 = np.append(batch_data_continous_y_2, y_batch_2)\n",
        "      batch_data_continous_y_3 = np.append(batch_data_continous_y_3, y_batch_3)\n",
        "      \n",
        "      #Fitting the model for each label\n",
        "      if not multitarget:\n",
        "        if balance == 'Random':\n",
        "          os1 = RandomOverSampler(random_state=42)\n",
        "          os2 = RandomOverSampler(random_state=42)\n",
        "          os3 = RandomOverSampler(random_state=42)\n",
        "\n",
        "          X_res_1, y_res_1 = os1.fit_resample(batch_data_continous_X, batch_data_continous_y_1)\n",
        "          X_res_2, y_res_2 = os2.fit_resample(batch_data_continous_X, batch_data_continous_y_2)\n",
        "          X_res_3, y_res_3 = os3.fit_resample(batch_data_continous_X, batch_data_continous_y_3)\n",
        "\n",
        "        elif balance == 'Smote':\n",
        "          os1 = SMOTE(random_state=42)\n",
        "          os2 = SMOTE(random_state=42)\n",
        "          os3 = SMOTE(random_state=42)\n",
        "\n",
        "          X_res_1, y_res_1 = os1.fit_resample(batch_data_continous_X, batch_data_continous_y_1)\n",
        "          X_res_2, y_res_2 = os2.fit_resample(batch_data_continous_X, batch_data_continous_y_2)\n",
        "          X_res_3, y_res_3 = os3.fit_resample(batch_data_continous_X, batch_data_continous_y_3)\n",
        "\n",
        "        elif balance == 'Adasyn':\n",
        "          os1 = ADASYN(random_state=42)\n",
        "          os2 = ADASYN(random_state=42)\n",
        "          os3 = ADASYN(random_state=42)\n",
        "\n",
        "          X_res_1, y_res_1 = os1.fit_resample(batch_data_continous_X, batch_data_continous_y_1)\n",
        "          X_res_2, y_res_2 = os2.fit_resample(batch_data_continous_X, batch_data_continous_y_2)\n",
        "          X_res_3, y_res_3 = os3.fit_resample(batch_data_continous_X, batch_data_continous_y_3)\n",
        "        \n",
        "        else:\n",
        "          X_res_1, y_res_1 = (batch_data_continous_X, batch_data_continous_y_1)\n",
        "          X_res_2, y_res_2 = (batch_data_continous_X, batch_data_continous_y_2)\n",
        "          X_res_3, y_res_3 = (batch_data_continous_X, batch_data_continous_y_3)\n",
        "\n",
        "        clf1 = clf_1.fit(X_res_1, y_res_1)\n",
        "        clf2 = clf_2.fit(X_res_2, y_res_2)\n",
        "        clf3 = clf_3.fit(X_res_3, y_res_3)\n",
        "\n",
        "        #Generating predictions for each label\n",
        "        predictions_1 = clf1.predict(X_test)\n",
        "        predictions_2 = clf2.predict(X_test)\n",
        "        predictions_3 = clf3.predict(X_test)\n",
        "\n",
        "        #Generating accuracies for each label\n",
        "        model_accuracy_1 = accuracy_score(y_test_1,predictions_1)\n",
        "        model_accuracy_2 = accuracy_score(y_test_2,predictions_2)\n",
        "        model_accuracy_3 = accuracy_score(y_test_3,predictions_3)\n",
        "        model_f1_1 = f1_score(y_test_1, predictions_1, average=\"macro\")\n",
        "        model_f1_2 = f1_score(y_test_2, predictions_2, average=\"macro\")  \n",
        "        model_f1_3 = f1_score(y_test_3, predictions_3, average=\"macro\")\n",
        "\n",
        "      else:\n",
        "        if balance == 'mlsample':  \n",
        "          X_res_1, y_res_1, y_res_2, y_res_3 = mlsample(batch_data_continous_X, batch_data_continous_y_1.astype(int), batch_data_continous_y_2.astype(int), batch_data_continous_y_3.astype(int), X_final.columns.tolist())\n",
        "\n",
        "        else:\n",
        "          X_res_1, y_res_1 = (batch_data_continous_X, batch_data_continous_y_1)\n",
        "          X_res_2, y_res_2 = (batch_data_continous_X, batch_data_continous_y_2)\n",
        "          X_res_3, y_res_3 = (batch_data_continous_X, batch_data_continous_y_3)\n",
        "\n",
        "        clf1 = clf.fit(X_res_1, np.concatenate([v.reshape((-1,1)) for v in (y_res_1, y_res_2, y_res_3)], axis=1))\n",
        "        predictions = clf1.predict(X_test)\n",
        "        model_accuracy_1 = accuracy_score(y_test_1,predictions[:,0])\n",
        "        model_accuracy_2 = accuracy_score(y_test_2,predictions[:,1])\n",
        "        model_accuracy_3 = accuracy_score(y_test_3,predictions[:,2])\n",
        "        model_f1_1 = f1_score(y_test_1, predictions[:,0], average=\"macro\")\n",
        "        model_f1_2 = f1_score(y_test_2, predictions[:,1], average=\"macro\")  \n",
        "        model_f1_3 = f1_score(y_test_3, predictions[:,2], average=\"macro\")\n",
        "\n",
        "      #Appending accuracy score for all labels\n",
        "      accuracy_history[1].append(model_accuracy_1)\n",
        "      accuracy_history[2].append(model_accuracy_2)\n",
        "      accuracy_history[3].append(model_accuracy_3)\n",
        "\n",
        "      #Appending f1 score for all labels\n",
        "      f1_history[1].append(model_f1_1)\n",
        "      f1_history[2].append(model_f1_2)\n",
        "      f1_history[3].append(model_f1_3)\n",
        "\n",
        "      # print(\"========================\")\n",
        "      # print('Accuracy after Query {n} for Target 1: {acc:0.4f}'.format(n=index + 1, acc=model_accuracy_1))\n",
        "      # print('Accuracy after Query {n} for Target 2: {acc:0.4f}'.format(n=index + 1, acc=model_accuracy_2))\n",
        "      # print('Accuracy after Query {n} for Target 3: {acc:0.4f}'.format(n=index + 1, acc=model_accuracy_3))\n",
        "\n",
        "\n",
        "  # print(\"\")\n",
        "  # print(\"\")\n",
        "  # print(\"---------------------------------------\")\n",
        "\n",
        "  print('Initial Accuracy: ', round(accuracy_history[1][0],3), round(accuracy_history[2][0],3), round(accuracy_history[3][0],3))\n",
        "  print('Final Accuracy: ', round(accuracy_history[1][-1],3), round(accuracy_history[2][-1],3), round(accuracy_history[3][-1],3))\n",
        "\n",
        "  print(\"\")\n",
        "\n",
        "  print('Initial F1: ', round(f1_history[1][0],3), round(f1_history[2][0],3), round(f1_history[3][0],3))\n",
        "  print('Final F1: ', round(f1_history[1][-1],3), round(f1_history[2][-1],3), round(f1_history[3][-1],3))\n",
        "    \n",
        "  return f1_history, accuracy_history\n"
      ],
      "metadata": {
        "id": "q7gXQv3K2nXc"
      },
      "execution_count": null,
      "outputs": []
    },
    {
      "cell_type": "code",
      "source": [
        "def adaptive_train(X_final, target1, target2, target3, batch_size, n_train, n_test, num_queries, adaptive='softmax', init_samples = 14, num_fixed=1, alpha=15, val1=25, val2=15, val3=5, balance='None', multitarget=False):\n",
        "  if multitarget:\n",
        "    clf = RandomForestClassifier(criterion= 'gini', max_depth= 21)\n",
        "  else:\n",
        "    clf_1 = RandomForestClassifier(criterion= 'gini', max_depth= 7)\n",
        "    clf_2 = RandomForestClassifier(criterion= 'gini', max_depth= 7)\n",
        "    clf_3 = RandomForestClassifier(criterion= 'gini', max_depth= 7)\n",
        "\n",
        "  scaler = StandardScaler()\n",
        "  scaler.fit(X_final)\n",
        "\n",
        "  num_classes1 = len(np.unique(target1))\n",
        "  num_classes2 = len(np.unique(target2))\n",
        "  num_classes3 = len(np.unique(target3))\n",
        "\n",
        "  #Declaring batch size and initial raw samples\n",
        "  BATCH_SIZE = batch_size\n",
        "\n",
        "  #Declaring Features and Target variables\n",
        "  y_raw_1 = target1\n",
        "  y_raw_2 = target2\n",
        "  y_raw_3 = target3\n",
        "  X_raw = X_final\n",
        "\n",
        "  # print(\"---------------------------------------\")\n",
        "  # print(\"Shape of data set :\" + str(X_raw.shape))\n",
        "\n",
        "  X_raw = X_raw.values\n",
        "\n",
        "  # batch_data_continous_X,y stores data and adds to it after every iteration of batch\n",
        "  batch_data_continous_X = np.array([]).reshape(0,X_raw.shape[1])\n",
        "  batch_data_continous_y_1 = np.array([]).reshape(0,1)\n",
        "  batch_data_continous_y_2 = np.array([]).reshape(0,1)\n",
        "  batch_data_continous_y_3 = np.array([]).reshape(0,1)\n",
        "\n",
        "  # Spliting dataset into Train, Pool(for batch) and Test.\n",
        "  # print(\"Preparing Initial Training, Pool and Test sets for initial AL\")\n",
        "  # print(\"\")\n",
        "\n",
        "  X_train, length_train, y_train_1, y_train_2, y_train_3, X_raw, y_raw_1, y_raw_2, y_raw_3 = stratify_samples(X_raw, y_raw_1, y_raw_2, y_raw_3, num_classes1, num_classes2, num_classes3)\n",
        "  X_train = np.array(X_train)\n",
        "\n",
        "  y_train_1 = np.array(y_train_1)\n",
        "  y_train_2 = np.array(y_train_2)\n",
        "  y_train_3 = np.array(y_train_3)\n",
        "\n",
        "  # print(\"Correlation betweem target 1 and 2: \",np.corrcoef(y_train_1, y_train_2)[0,1])\n",
        "  # print(\"Correlation betweem target 2 and 3: \",np.corrcoef(y_train_2, y_train_3)[0,1])\n",
        "  # print(\"Correlation betweem target 1 and 3: \",np.corrcoef(y_train_1, y_train_3)[0,1])\n",
        "  \n",
        "  X_train_temp = X_raw[:n_train]\n",
        "  y_train_1_temp = y_raw_1[:n_train]\n",
        "  y_train_2_temp = y_raw_2[:n_train]\n",
        "  y_train_3_temp = y_raw_3[:n_train]\n",
        "\n",
        "  #Joining Training Set\n",
        "  X_train = np.concatenate((X_train, X_train_temp), axis=0)\n",
        "  y_train_1 = np.concatenate((y_train_1, y_train_1_temp), axis=0) \n",
        "  y_train_2 = np.concatenate((y_train_2, y_train_2_temp), axis=0) \n",
        "  y_train_3 = np.concatenate((y_train_3, y_train_3_temp), axis=0) \n",
        "\n",
        "  X_test = X_raw[n_train:n_train+n_test]\n",
        "  y_test_1 = y_raw_1[n_train:n_train+n_test]\n",
        "  y_test_2 = y_raw_2[n_train:n_train+n_test]\n",
        "  y_test_3 = y_raw_3[n_train:n_train+n_test]\n",
        "\n",
        "  X_pool = X_raw[n_train+n_test:]\n",
        "  y_pool_1 = y_raw_1[n_train+n_test:]\n",
        "  y_pool_2 = y_raw_2[n_train+n_test:]\n",
        "  y_pool_3 = y_raw_3[n_train+n_test:]\n",
        "\n",
        "  # lists to store all metric values after each iteration\n",
        "  accuracy_history = {1:[], 2:[], 3:[]}\n",
        "  auc_history = {1:[], 2:[], 3:[]}\n",
        "  precision_history = {1:[], 2:[], 3:[]}\n",
        "  recall_history = {1:[], 2:[], 3:[]}\n",
        "  f1_history = {1:[], 2:[], 3:[]}\n",
        "\n",
        "  random.seed(10)\n",
        "\n",
        "  batch_data_continous_X = np.vstack([batch_data_continous_X, X_train])\n",
        "  batch_data_continous_y_1 = np.append(batch_data_continous_y_1, y_train_1)\n",
        "  batch_data_continous_y_2 = np.append(batch_data_continous_y_2, y_train_2)\n",
        "  batch_data_continous_y_3 = np.append(batch_data_continous_y_3, y_train_3)\n",
        "\n",
        "  #Fitting the model for each label\n",
        "  if not multitarget:\n",
        "    if balance == 'Random':\n",
        "      os1 = RandomOverSampler(random_state=42)\n",
        "      os2 = RandomOverSampler(random_state=42)\n",
        "      os3 = RandomOverSampler(random_state=42)\n",
        "\n",
        "      X_res_1, y_res_1 = os1.fit_resample(X_train, y_train_1)\n",
        "      X_res_2, y_res_2 = os2.fit_resample(X_train, y_train_2)\n",
        "      X_res_3, y_res_3 = os3.fit_resample(X_train, y_train_3)\n",
        "\n",
        "    elif balance == 'Smote':\n",
        "      os1 = SMOTE(random_state=42)\n",
        "      os2 = SMOTE(random_state=42)\n",
        "      os3 = SMOTE(random_state=42)\n",
        "\n",
        "      X_res_1, y_res_1 = os1.fit_resample(X_train, y_train_1)\n",
        "      X_res_2, y_res_2 = os2.fit_resample(X_train, y_train_2)\n",
        "      X_res_3, y_res_3 = os3.fit_resample(X_train, y_train_3)\n",
        "\n",
        "    elif balance == 'Adasyn':\n",
        "      os1 = ADASYN(random_state=42)\n",
        "      os2 = ADASYN(random_state=42)\n",
        "      os3 = ADASYN(random_state=42)\n",
        "\n",
        "      X_res_1, y_res_1 = os1.fit_resample(X_train, y_train_1)\n",
        "      X_res_2, y_res_2 = os2.fit_resample(X_train, y_train_2)\n",
        "      X_res_3, y_res_3 = os3.fit_resample(X_train, y_train_3)\n",
        "    \n",
        "    else:\n",
        "      X_res_1, y_res_1 = (X_train, y_train_1)\n",
        "      X_res_2, y_res_2 = (X_train, y_train_2)\n",
        "      X_res_3, y_res_3 = (X_train, y_train_3)\n",
        "\n",
        "    clf1 = clf_1.fit(X_res_1, y_res_1)\n",
        "    clf2 = clf_2.fit(X_res_2, y_res_2)\n",
        "    clf3 = clf_3.fit(X_res_3, y_res_3)\n",
        "\n",
        "    #Generating predictions for each label\n",
        "    predictions_1 = clf1.predict(X_test)\n",
        "    predictions_2 = clf2.predict(X_test)\n",
        "    predictions_3 = clf3.predict(X_test)\n",
        "\n",
        "    #Generating accuracies for each label\n",
        "    model_accuracy_1 = accuracy_score(y_test_1,predictions_1)\n",
        "    model_accuracy_2 = accuracy_score(y_test_2,predictions_2)\n",
        "    model_accuracy_3 = accuracy_score(y_test_3,predictions_3)\n",
        "    model_f1_1 = f1_score(y_test_1, predictions_1, average=\"macro\")\n",
        "    model_f1_2 = f1_score(y_test_2, predictions_2, average=\"macro\")  \n",
        "    model_f1_3 = f1_score(y_test_3, predictions_3, average=\"macro\")\n",
        "\n",
        "  else:\n",
        "    if balance == 'mls':\n",
        "      X_res_1, y_res_1, y_res_2, y_res_3 = mlsample(X_train, y_train_1, y_train_2, y_train_3, X_final.columns.tolist())\n",
        "\n",
        "    else:\n",
        "      X_res_1, y_res_1 = (X_train, y_train_1)\n",
        "      X_res_2, y_res_2 = (X_train, y_train_2)\n",
        "      X_res_3, y_res_3 = (X_train, y_train_3)\n",
        "\n",
        "    clf1 = clf.fit(X_res_1, np.concatenate([v.reshape((-1,1)) for v in (y_res_1, y_res_2, y_res_3)], axis=1))\n",
        "    predictions = clf1.predict(X_test)\n",
        "    model_accuracy_1 = accuracy_score(y_test_1,predictions[:,0])\n",
        "    model_accuracy_2 = accuracy_score(y_test_2,predictions[:,1])\n",
        "    model_accuracy_3 = accuracy_score(y_test_3,predictions[:,2])\n",
        "    model_f1_1 = f1_score(y_test_1, predictions[:,0], average=\"macro\")\n",
        "    model_f1_2 = f1_score(y_test_2, predictions[:,1], average=\"macro\")  \n",
        "    model_f1_3 = f1_score(y_test_3, predictions[:,2], average=\"macro\")\n",
        "\n",
        "  # print(\"========================\")\n",
        "  # print('Accuracy after Query {n} for Target 1: {acc:0.4f}'.format(n=0, acc=model_accuracy_1))\n",
        "  # print('Accuracy after Query {n} for Target 2: {acc:0.4f}'.format(n=0, acc=model_accuracy_2))\n",
        "  # print('Accuracy after Query {n} for Target 3: {acc:0.4f}'.format(n=0, acc=model_accuracy_3))\n",
        "\n",
        "  #Appending accuracy score for all labels\n",
        "  accuracy_history[1].append(model_accuracy_1)\n",
        "  accuracy_history[2].append(model_accuracy_2)\n",
        "  accuracy_history[3].append(model_accuracy_3)\n",
        "\n",
        "  #Appending f1 score for all labels\n",
        "  f1_history[1].append(model_f1_1)\n",
        "  f1_history[2].append(model_f1_2)\n",
        "  f1_history[3].append(model_f1_3)\n",
        "\n",
        "\n",
        "  N_QUERIES = num_queries\n",
        "  num_samples1 = init_samples\n",
        "  num_samples2 = init_samples\n",
        "  num_samples3 = init_samples\n",
        "\n",
        "  # print(\"========================\")\n",
        "  for index in range(N_QUERIES):\n",
        "      if not multitarget:\n",
        "        tar_1_probas = clf1.predict_proba(X_pool)\n",
        "        tar_2_probas = clf2.predict_proba(X_pool)\n",
        "        tar_3_probas = clf3.predict_proba(X_pool)\n",
        "\n",
        "      else:\n",
        "        tar_probas = clf1.predict_proba(X_pool)\n",
        "        tar_1_probas = tar_probas[0]\n",
        "        tar_2_probas = tar_probas[1]\n",
        "        tar_3_probas = tar_probas[2]\n",
        "\n",
        "      # print(\"\")\n",
        "      # print(\"\")\n",
        "      # print(\"---------------------------------------\")\n",
        "      # print(\"Learning phase Query: \" + str(index + 1))\n",
        "\n",
        "      X_pool, y_pool_1, y_pool_2, y_pool_3, X_batch, y_batch_1, y_batch_2, y_batch_3 = find_samples(X_pool, y_pool_1, y_pool_2, y_pool_3, tar_1_probas, tar_2_probas, tar_3_probas, num_samples1, num_samples2, num_samples3)\n",
        "      \n",
        "      batch_data_continous_X = np.vstack([batch_data_continous_X, X_batch])\n",
        "      batch_data_continous_y_1 = np.append(batch_data_continous_y_1, y_batch_1)\n",
        "      batch_data_continous_y_2 = np.append(batch_data_continous_y_2, y_batch_2)\n",
        "      batch_data_continous_y_3 = np.append(batch_data_continous_y_3, y_batch_3)\n",
        "      \n",
        "      #Fitting the model for each label\n",
        "      if not multitarget:\n",
        "        if balance == 'Random':\n",
        "          os1 = RandomOverSampler(random_state=42)\n",
        "          os2 = RandomOverSampler(random_state=42)\n",
        "          os3 = RandomOverSampler(random_state=42)\n",
        "\n",
        "          X_res_1, y_res_1 = os1.fit_resample(batch_data_continous_X, batch_data_continous_y_1)\n",
        "          X_res_2, y_res_2 = os2.fit_resample(batch_data_continous_X, batch_data_continous_y_2)\n",
        "          X_res_3, y_res_3 = os3.fit_resample(batch_data_continous_X, batch_data_continous_y_3)\n",
        "\n",
        "        elif balance == 'Smote':\n",
        "          os1 = SMOTE(random_state=42)\n",
        "          os2 = SMOTE(random_state=42)\n",
        "          os3 = SMOTE(random_state=42)\n",
        "\n",
        "          X_res_1, y_res_1 = os1.fit_resample(batch_data_continous_X, batch_data_continous_y_1)\n",
        "          X_res_2, y_res_2 = os2.fit_resample(batch_data_continous_X, batch_data_continous_y_2)\n",
        "          X_res_3, y_res_3 = os3.fit_resample(batch_data_continous_X, batch_data_continous_y_3)\n",
        "\n",
        "        elif balance == 'Adasyn':\n",
        "          os1 = ADASYN(random_state=42)\n",
        "          os2 = ADASYN(random_state=42)\n",
        "          os3 = ADASYN(random_state=42)\n",
        "\n",
        "          X_res_1, y_res_1 = os1.fit_resample(batch_data_continous_X, batch_data_continous_y_1)\n",
        "          X_res_2, y_res_2 = os2.fit_resample(batch_data_continous_X, batch_data_continous_y_2)\n",
        "          X_res_3, y_res_3 = os3.fit_resample(batch_data_continous_X, batch_data_continous_y_3)\n",
        "        \n",
        "        else:\n",
        "          X_res_1, y_res_1 = (batch_data_continous_X, batch_data_continous_y_1)\n",
        "          X_res_2, y_res_2 = (batch_data_continous_X, batch_data_continous_y_2)\n",
        "          X_res_3, y_res_3 = (batch_data_continous_X, batch_data_continous_y_3)\n",
        "\n",
        "        clf1 = clf_1.fit(X_res_1, y_res_1)\n",
        "        clf2 = clf_2.fit(X_res_2, y_res_2)\n",
        "        clf3 = clf_3.fit(X_res_3, y_res_3)\n",
        "\n",
        "        #Generating predictions for each label\n",
        "        predictions_1 = clf1.predict(X_test)\n",
        "        predictions_2 = clf2.predict(X_test)\n",
        "        predictions_3 = clf3.predict(X_test)\n",
        "\n",
        "        #Generating accuracies for each label\n",
        "        model_accuracy_1 = accuracy_score(y_test_1,predictions_1)\n",
        "        model_accuracy_2 = accuracy_score(y_test_2,predictions_2)\n",
        "        model_accuracy_3 = accuracy_score(y_test_3,predictions_3)\n",
        "        model_f1_1 = f1_score(y_test_1, predictions_1, average=\"macro\")\n",
        "        model_f1_2 = f1_score(y_test_2, predictions_2, average=\"macro\")  \n",
        "        model_f1_3 = f1_score(y_test_3, predictions_3, average=\"macro\")\n",
        "\n",
        "      else:\n",
        "        if balance == 'mlsample':  \n",
        "          X_res_1, y_res_1, y_res_2, y_res_3 = mlsample(batch_data_continous_X, batch_data_continous_y_1.astype(int), batch_data_continous_y_2.astype(int), batch_data_continous_y_3.astype(int), X_final.columns.tolist())\n",
        "\n",
        "        else:\n",
        "          X_res_1, y_res_1 = (batch_data_continous_X, batch_data_continous_y_1)\n",
        "          X_res_2, y_res_2 = (batch_data_continous_X, batch_data_continous_y_2)\n",
        "          X_res_3, y_res_3 = (batch_data_continous_X, batch_data_continous_y_3)\n",
        "\n",
        "        clf1 = clf.fit(X_res_1, np.concatenate([v.reshape((-1,1)) for v in (y_res_1, y_res_2, y_res_3)], axis=1))\n",
        "        predictions = clf1.predict(X_test)\n",
        "        model_accuracy_1 = accuracy_score(y_test_1,predictions[:,0])\n",
        "        model_accuracy_2 = accuracy_score(y_test_2,predictions[:,1])\n",
        "        model_accuracy_3 = accuracy_score(y_test_3,predictions[:,2])\n",
        "        model_f1_1 = f1_score(y_test_1, predictions[:,0], average=\"macro\")\n",
        "        model_f1_2 = f1_score(y_test_2, predictions[:,1], average=\"macro\")  \n",
        "        model_f1_3 = f1_score(y_test_3, predictions[:,2], average=\"macro\")\n",
        "\n",
        "      #Appending accuracy score for all labels\n",
        "      accuracy_history[1].append(model_accuracy_1)\n",
        "      accuracy_history[2].append(model_accuracy_2)\n",
        "      accuracy_history[3].append(model_accuracy_3)\n",
        "\n",
        "      #Appending f1 score for all labels\n",
        "      f1_history[1].append(model_f1_1)\n",
        "      f1_history[2].append(model_f1_2)\n",
        "      f1_history[3].append(model_f1_3)\n",
        "\n",
        "      relative_diff_1 = (f1_history[1][-1] - f1_history[1][-2])/f1_history[1][-2]\n",
        "      relative_diff_2 = (f1_history[2][-1] - f1_history[2][-2])/f1_history[2][-2]\n",
        "      relative_diff_3 = (f1_history[3][-1] - f1_history[3][-2])/f1_history[3][-2]\n",
        "\n",
        "      if adaptive == 'softmax':\n",
        "        prob_1 = math.exp(-1*alpha*relative_diff_1)\n",
        "        prob_2 = math.exp(-1*alpha*relative_diff_2)\n",
        "        prob_3 = math.exp(-1*alpha*relative_diff_3)\n",
        "        sum_prob = max(prob_1 + prob_2 + prob_3, 0.001)\n",
        "        weight_1 = prob_1/sum_prob\n",
        "        weight_2 = prob_2/sum_prob\n",
        "        weight_3 = prob_3/sum_prob\n",
        "        num_samples1 = round(weight_1*3*init_samples)+num_fixed\n",
        "        num_samples2 = round(weight_2*3*init_samples)+num_fixed\n",
        "        num_samples3 = round(weight_3*3*init_samples)+num_fixed\n",
        "\n",
        "      elif adaptive == 'sigmoid':\n",
        "        prob_1 = 1/(1+math.exp(alpha*relative_diff_1))\n",
        "        prob_2 = 1/(1+math.exp(alpha*relative_diff_2))\n",
        "        prob_3 = 1/(1+math.exp(alpha*relative_diff_3))\n",
        "        sum_prob = max(prob_1 + prob_2 + prob_3, 0.001)\n",
        "        weight_1 = prob_1/sum_prob\n",
        "        weight_2 = prob_2/sum_prob\n",
        "        weight_3 = prob_3/sum_prob\n",
        "        num_samples1 = round(weight_1*3*init_samples)+num_fixed\n",
        "        num_samples2 = round(weight_2*3*init_samples)+num_fixed\n",
        "        num_samples3 = round(weight_3*3*init_samples)+num_fixed\n",
        "\n",
        "      elif adaptive == 'fixed':\n",
        "        diffs = [relative_diff_1, relative_diff_2, relative_diff_3]\n",
        "        num_vals = [val1, val2, val3]\n",
        "        idx = np.argsort(diffs)\n",
        "        num_samples1 = num_vals[idx[0]]\n",
        "        num_samples2 = num_vals[idx[1]]\n",
        "        num_samples3 = num_vals[idx[2]]\n",
        "\n",
        "      else:\n",
        "        raise ValueError('Incorrect adaptive method')\n",
        "\n",
        "      # print(\"========================\")\n",
        "      # print('Accuracy after Query {n} for Target 1: {acc:0.4f}'.format(n=index + 1, acc=model_accuracy_1))\n",
        "      # print('Accuracy after Query {n} for Target 2: {acc:0.4f}'.format(n=index + 1, acc=model_accuracy_2))\n",
        "      # print('Accuracy after Query {n} for Target 3: {acc:0.4f}'.format(n=index + 1, acc=model_accuracy_3))\n",
        "\n",
        "\n",
        "  # print(\"\")\n",
        "  # print(\"\")\n",
        "  # print(\"---------------------------------------\")\n",
        "\n",
        "  print('Initial Accuracy: ', round(accuracy_history[1][0],3), round(accuracy_history[2][0],3), round(accuracy_history[3][0],3))\n",
        "  print('Final Accuracy: ', round(accuracy_history[1][-1],3), round(accuracy_history[2][-1],3), round(accuracy_history[3][-1],3))\n",
        "\n",
        "  print(\"\")\n",
        "\n",
        "  print('Initial F1: ', round(f1_history[1][0],3), round(f1_history[2][0],3), round(f1_history[3][0],3))\n",
        "  print('Final F1: ', round(f1_history[1][-1],3), round(f1_history[2][-1],3), round(f1_history[3][-1],3))\n",
        "    \n",
        "  return f1_history, accuracy_history\n"
      ],
      "metadata": {
        "id": "xm5rl_nr___a"
      },
      "execution_count": null,
      "outputs": []
    },
    {
      "cell_type": "markdown",
      "source": [
        "####Plotting"
      ],
      "metadata": {
        "id": "Fb11JrBLzX3p"
      }
    },
    {
      "cell_type": "code",
      "source": [
        "def plotGraph(performance,type = 'Accuracy',dataset='imdb',save=True,path=None):\n",
        "    # Plot our performance over time.\n",
        "    fig, ax = plt.subplots(figsize=(5, 3), dpi=130)\n",
        "    ax.plot(performance[1])\n",
        "    ax.plot(performance[2])\n",
        "    ax.plot(performance[3])\n",
        "    ax.scatter(range(len(performance[1])), performance[1], s=13)\n",
        "    ax.scatter(range(len(performance[2])), performance[2], s=13)\n",
        "    ax.scatter(range(len(performance[3])), performance[3], s=13)\n",
        "    ax.legend(['Target 1','Target 2','Target 3'],loc='lower right')\n",
        "    ax.set_title('Incremental classification '+str(type))\n",
        "    ax.set_xlabel('Query iteration')\n",
        "    ax.set_ylabel('Classification '+str(type))\n",
        "    ax.xaxis.get_major_locator().set_params(integer=True)\n",
        "    # plt.savefig(f'drive/MyDrive/Mitacs/Plots/None/Multitask_baseline/{dataset}_{type}.png', format='png', dpi=600)\n",
        "    plt.show()"
      ],
      "metadata": {
        "id": "vCDiZ4PszZMr"
      },
      "execution_count": null,
      "outputs": []
    },
    {
      "cell_type": "markdown",
      "source": [
        "####Results"
      ],
      "metadata": {
        "id": "zrWeb4D_3ehs"
      }
    },
    {
      "cell_type": "markdown",
      "source": [
        "#####Baseline + Single target + No sampling"
      ],
      "metadata": {
        "id": "r0gxriwf76Ez"
      }
    },
    {
      "cell_type": "code",
      "source": [
        "X_final, target1, target2, target3 = get_data('imdb')\n",
        "accuray_history, f1_history = baseline_train(X_final, target1, target2, target3, batch_size, n_train, n_test, num_queries, balance='None', multitarget=False)"
      ],
      "metadata": {
        "id": "i0jGmtMX-YmH",
        "colab": {
          "base_uri": "https://localhost:8080/"
        },
        "outputId": "6543fe5f-8a94-4b3c-bc20-6e77174b0801"
      },
      "execution_count": null,
      "outputs": [
        {
          "output_type": "stream",
          "name": "stdout",
          "text": [
            "Initial Accuracy:  0.889 0.575 0.898\n",
            "Final Accuracy:  0.904 0.624 0.934\n",
            "\n",
            "Initial F1:  0.314 0.269 0.657\n",
            "Final F1:  0.48 0.554 0.688\n"
          ]
        }
      ]
    },
    {
      "cell_type": "code",
      "source": [
        "X_final, target1, target2, target3 = get_data('mushroom')\n",
        "accuray_history, f1_history = baseline_train(X_final, target1, target2, target3, batch_size, n_train, n_test, num_queries, balance='None', multitarget=False)"
      ],
      "metadata": {
        "colab": {
          "base_uri": "https://localhost:8080/"
        },
        "id": "Hn4uX4qpBED0",
        "outputId": "9353051a-1041-426d-9ee0-6b04d1efcd7f"
      },
      "execution_count": null,
      "outputs": [
        {
          "output_type": "stream",
          "name": "stdout",
          "text": [
            "Initial Accuracy:  1.0 0.488 0.601\n",
            "Final Accuracy:  1.0 0.492 0.652\n",
            "\n",
            "Initial F1:  1.0 0.51 0.602\n",
            "Final F1:  1.0 0.484 0.581\n"
          ]
        }
      ]
    },
    {
      "cell_type": "code",
      "source": [
        "X_final, target1, target2, target3 = get_data('census')\n",
        "accuray_history, f1_history = baseline_train(X_final, target1, target2, target3, batch_size, n_train, n_test, num_queries, balance='None', multitarget=False)"
      ],
      "metadata": {
        "colab": {
          "base_uri": "https://localhost:8080/"
        },
        "id": "tNcrLfzACY7M",
        "outputId": "54ad2b81-9f27-45e2-b0ae-3c9fb6696313"
      },
      "execution_count": null,
      "outputs": [
        {
          "output_type": "stream",
          "name": "stdout",
          "text": [
            "Initial Accuracy:  0.79 0.811 0.751\n",
            "Final Accuracy:  0.817 0.798 0.754\n",
            "\n",
            "Initial F1:  0.621 0.42 0.134\n",
            "Final F1:  0.711 0.358 0.164\n"
          ]
        }
      ]
    },
    {
      "cell_type": "code",
      "source": [
        "X_final, target1, target2, target3 = get_data('bank')\n",
        "accuray_history, f1_history = baseline_train(X_final, target1, target2, target3, batch_size, n_train, n_test, num_queries, balance='None', multitarget=False)"
      ],
      "metadata": {
        "colab": {
          "base_uri": "https://localhost:8080/"
        },
        "id": "KJz4r9i4CZjm",
        "outputId": "08ef065a-a869-4101-e2e1-2e20d153944d"
      },
      "execution_count": null,
      "outputs": [
        {
          "output_type": "stream",
          "name": "stdout",
          "text": [
            "Initial Accuracy:  0.905 0.818 0.534\n",
            "Final Accuracy:  0.903 0.831 0.546\n",
            "\n",
            "Initial F1:  0.623 0.466 0.487\n",
            "Final F1:  0.665 0.454 0.522\n"
          ]
        }
      ]
    },
    {
      "cell_type": "code",
      "source": [
        "X_final, target1, target2, target3 = get_data('intention')\n",
        "accuray_history, f1_history = baseline_train(X_final, target1, target2, target3, batch_size, n_train, n_test, num_queries, balance='None', multitarget=False)"
      ],
      "metadata": {
        "colab": {
          "base_uri": "https://localhost:8080/"
        },
        "id": "O_qc7PvYCai0",
        "outputId": "d4b92403-63b3-49d0-95ea-2415fd359e6c"
      },
      "execution_count": null,
      "outputs": [
        {
          "output_type": "stream",
          "name": "stdout",
          "text": [
            "Initial Accuracy:  0.932 0.205 0.998\n",
            "Final Accuracy:  0.947 0.891 0.998\n",
            "\n",
            "Initial F1:  0.779 0.205 0.333\n",
            "Final F1:  0.812 0.567 0.333\n"
          ]
        }
      ]
    },
    {
      "cell_type": "code",
      "source": [
        "X_final, target1, target2, target3 = get_data('anuran')\n",
        "accuray_history, f1_history = baseline_train(X_final, target1, target2, target3, batch_size, n_train, n_test, num_queries, balance='None', multitarget=False)"
      ],
      "metadata": {
        "colab": {
          "base_uri": "https://localhost:8080/"
        },
        "id": "x7IgNUJyCbBR",
        "outputId": "a734c9f2-5979-4d13-c2c4-34d6d380ccda"
      },
      "execution_count": null,
      "outputs": [
        {
          "output_type": "stream",
          "name": "stdout",
          "text": [
            "Initial Accuracy:  0.447 0.244 0.362\n",
            "Final Accuracy:  0.21 0.311 0.241\n",
            "\n",
            "Initial F1:  0.222 0.074 0.117\n",
            "Final F1:  0.168 0.146 0.07\n"
          ]
        }
      ]
    },
    {
      "cell_type": "code",
      "source": [
        "X_final, target1, target2, target3 = get_data('telco')\n",
        "accuray_history, f1_history = baseline_train(X_final, target1, target2, target3, batch_size, n_train, n_test, num_queries, balance='None', multitarget=False)"
      ],
      "metadata": {
        "colab": {
          "base_uri": "https://localhost:8080/"
        },
        "id": "DgYEdlZNCbcZ",
        "outputId": "39994915-e32d-4d6c-b11c-202bd9778c0c"
      },
      "execution_count": null,
      "outputs": [
        {
          "output_type": "stream",
          "name": "stdout",
          "text": [
            "Initial Accuracy:  0.806 0.725 0.45\n",
            "Final Accuracy:  0.81 0.75 0.458\n",
            "\n",
            "Initial F1:  0.721 0.634 0.429\n",
            "Final F1:  0.731 0.668 0.416\n"
          ]
        }
      ]
    },
    {
      "cell_type": "code",
      "source": [
        "X_final, target1, target2, target3 = get_data('paris')\n",
        "accuray_history, f1_history = baseline_train(X_final, target1, target2, target3, batch_size, n_train, n_test, num_queries, balance='None', multitarget=False)"
      ],
      "metadata": {
        "colab": {
          "base_uri": "https://localhost:8080/"
        },
        "id": "bZCGegcZCnZz",
        "outputId": "252a263a-a29a-4320-f9fe-c51059cc1f99"
      },
      "execution_count": null,
      "outputs": [
        {
          "output_type": "stream",
          "name": "stdout",
          "text": [
            "Initial Accuracy:  0.874 0.477 0.495\n",
            "Final Accuracy:  0.883 0.49 0.5\n",
            "\n",
            "Initial F1:  0.634 0.47 0.495\n",
            "Final F1:  0.522 0.476 0.498\n"
          ]
        }
      ]
    },
    {
      "cell_type": "code",
      "source": [
        "X_final, target1, target2, target3 = get_data('smoking')\n",
        "accuray_history, f1_history = baseline_train(X_final, target1, target2, target3, batch_size, n_train, n_test, num_queries, balance='None', multitarget=False)"
      ],
      "metadata": {
        "colab": {
          "base_uri": "https://localhost:8080/"
        },
        "id": "B9liFY9ACn0d",
        "outputId": "d8ddbb48-d899-4419-a323-b46bde97d2c6"
      },
      "execution_count": null,
      "outputs": [
        {
          "output_type": "stream",
          "name": "stdout",
          "text": [
            "Initial Accuracy:  0.71 0.533 0.791\n",
            "Final Accuracy:  0.765 0.545 0.796\n",
            "\n",
            "Initial F1:  0.687 0.516 0.442\n",
            "Final F1:  0.745 0.479 0.443\n"
          ]
        }
      ]
    },
    {
      "cell_type": "code",
      "source": [
        "X_final, target1, target2, target3 = get_data('flight')\n",
        "accuray_history, f1_history = baseline_train(X_final, target1, target2, target3, batch_size, n_train, n_test, num_queries, balance='None', multitarget=False)"
      ],
      "metadata": {
        "colab": {
          "base_uri": "https://localhost:8080/"
        },
        "id": "CtdwXSHcCojV",
        "outputId": "d84d68eb-7523-4df2-e41c-e1ee9cb47301"
      },
      "execution_count": null,
      "outputs": [
        {
          "output_type": "stream",
          "name": "stdout",
          "text": [
            "Initial Accuracy:  0.893 0.903 0.774\n",
            "Final Accuracy:  0.938 0.928 0.803\n",
            "\n",
            "Initial F1:  0.89 0.77 0.543\n",
            "Final F1:  0.937 0.849 0.555\n"
          ]
        }
      ]
    },
    {
      "cell_type": "markdown",
      "source": [
        "#####Baseline + Single target + SMOTE"
      ],
      "metadata": {
        "id": "RWP_cstH8GAi"
      }
    },
    {
      "cell_type": "code",
      "source": [
        "X_final, target1, target2, target3 = get_data('imdb')\n",
        "accuray_history, f1_history = baseline_train(X_final, target1, target2, target3, batch_size, n_train, n_test, num_queries, balance='Smote', multitarget=False)"
      ],
      "metadata": {
        "colab": {
          "base_uri": "https://localhost:8080/"
        },
        "outputId": "5a14b02b-38e0-44ed-8478-7c4923efcbbe",
        "id": "5nxKzgVAC7AF"
      },
      "execution_count": null,
      "outputs": [
        {
          "output_type": "stream",
          "name": "stdout",
          "text": [
            "Initial Accuracy:  0.784 0.472 0.731\n",
            "Final Accuracy:  0.861 0.602 0.928\n",
            "\n",
            "Initial F1:  0.416 0.28 0.541\n",
            "Final F1:  0.639 0.448 0.708\n"
          ]
        }
      ]
    },
    {
      "cell_type": "code",
      "source": [
        "X_final, target1, target2, target3 = get_data('mushroom')\n",
        "accuray_history, f1_history = baseline_train(X_final, target1, target2, target3, batch_size, n_train, n_test, num_queries, balance='Smote', multitarget=False)"
      ],
      "metadata": {
        "colab": {
          "base_uri": "https://localhost:8080/"
        },
        "outputId": "bed17e74-66b5-41c5-9a28-9081417e7d66",
        "id": "uZ_fRyJfC7AG"
      },
      "execution_count": null,
      "outputs": [
        {
          "output_type": "stream",
          "name": "stdout",
          "text": [
            "Initial Accuracy:  1.0 0.53 0.65\n",
            "Final Accuracy:  1.0 0.533 0.686\n",
            "\n",
            "Initial F1:  1.0 0.555 0.695\n",
            "Final F1:  1.0 0.553 0.737\n"
          ]
        }
      ]
    },
    {
      "cell_type": "code",
      "source": [
        "X_final, target1, target2, target3 = get_data('census')\n",
        "accuray_history, f1_history = baseline_train(X_final, target1, target2, target3, batch_size, n_train, n_test, num_queries, balance='Smote', multitarget=False)"
      ],
      "metadata": {
        "colab": {
          "base_uri": "https://localhost:8080/"
        },
        "id": "obGRXa3pC7AH",
        "outputId": "0483aff0-534a-40fa-8305-d6d676efa29f"
      },
      "execution_count": null,
      "outputs": [
        {
          "output_type": "stream",
          "name": "stdout",
          "text": [
            "Initial Accuracy:  0.82 0.739 0.588\n",
            "Final Accuracy:  0.829 0.807 0.654\n",
            "\n",
            "Initial F1:  0.768 0.399 0.181\n",
            "Final F1:  0.769 0.466 0.218\n"
          ]
        }
      ]
    },
    {
      "cell_type": "code",
      "source": [
        "X_final, target1, target2, target3 = get_data('bank')\n",
        "accuray_history, f1_history = baseline_train(X_final, target1, target2, target3, batch_size, n_train, n_test, num_queries, balance='Smote', multitarget=False)"
      ],
      "metadata": {
        "colab": {
          "base_uri": "https://localhost:8080/"
        },
        "id": "Exk-fS4ZC7AH",
        "outputId": "d1d25957-00bf-48f7-aac2-90f92326c154"
      },
      "execution_count": null,
      "outputs": [
        {
          "output_type": "stream",
          "name": "stdout",
          "text": [
            "Initial Accuracy:  0.904 0.791 0.514\n",
            "Final Accuracy:  0.894 0.828 0.517\n",
            "\n",
            "Initial F1:  0.654 0.473 0.499\n",
            "Final F1:  0.729 0.459 0.513\n"
          ]
        }
      ]
    },
    {
      "cell_type": "code",
      "source": [
        "X_final, target1, target2, target3 = get_data('intention')\n",
        "accuray_history, f1_history = baseline_train(X_final, target1, target2, target3, batch_size, n_train, n_test, num_queries, balance='Smote', multitarget=False)"
      ],
      "metadata": {
        "colab": {
          "base_uri": "https://localhost:8080/"
        },
        "id": "oMPlGHjAC7AI",
        "outputId": "beeb989e-e646-42fc-9195-17f3efa0c76a"
      },
      "execution_count": null,
      "outputs": [
        {
          "output_type": "stream",
          "name": "stdout",
          "text": [
            "Initial Accuracy:  0.936 0.148 0.986\n",
            "Final Accuracy:  0.948 0.779 0.998\n",
            "\n",
            "Initial F1:  0.817 0.143 0.199\n",
            "Final F1:  0.867 0.67 0.25\n"
          ]
        }
      ]
    },
    {
      "cell_type": "code",
      "source": [
        "X_final, target1, target2, target3 = get_data('anuran')\n",
        "accuray_history, f1_history = baseline_train(X_final, target1, target2, target3, batch_size, n_train, n_test, num_queries, balance='Smote', multitarget=False)"
      ],
      "metadata": {
        "colab": {
          "base_uri": "https://localhost:8080/"
        },
        "id": "urJ9mqq6C7AI",
        "outputId": "8ecd80ca-ac32-4357-8116-11893e397b75"
      },
      "execution_count": null,
      "outputs": [
        {
          "output_type": "stream",
          "name": "stdout",
          "text": [
            "Initial Accuracy:  0.374 0.212 0.219\n",
            "Final Accuracy:  0.437 0.258 0.259\n",
            "\n",
            "Initial F1:  0.193 0.066 0.074\n",
            "Final F1:  0.288 0.098 0.088\n"
          ]
        }
      ]
    },
    {
      "cell_type": "code",
      "source": [
        "X_final, target1, target2, target3 = get_data('telco')\n",
        "accuray_history, f1_history = baseline_train(X_final, target1, target2, target3, batch_size, n_train, n_test, num_queries, balance='Smote', multitarget=False)"
      ],
      "metadata": {
        "colab": {
          "base_uri": "https://localhost:8080/"
        },
        "id": "_Dpw7ciOC7AI",
        "outputId": "469686f2-e497-4833-b835-016268d0f8f5"
      },
      "execution_count": null,
      "outputs": [
        {
          "output_type": "stream",
          "name": "stdout",
          "text": [
            "Initial Accuracy:  0.794 0.72 0.438\n",
            "Final Accuracy:  0.79 0.742 0.457\n",
            "\n",
            "Initial F1:  0.729 0.643 0.42\n",
            "Final F1:  0.741 0.675 0.431\n"
          ]
        }
      ]
    },
    {
      "cell_type": "code",
      "source": [
        "X_final, target1, target2, target3 = get_data('paris')\n",
        "accuray_history, f1_history = baseline_train(X_final, target1, target2, target3, batch_size, n_train, n_test, num_queries, balance='Smote', multitarget=False)"
      ],
      "metadata": {
        "colab": {
          "base_uri": "https://localhost:8080/"
        },
        "id": "eUw8ca4IC7AI",
        "outputId": "ab4a6486-e70f-4353-e9fb-e99470cc053b"
      },
      "execution_count": null,
      "outputs": [
        {
          "output_type": "stream",
          "name": "stdout",
          "text": [
            "Initial Accuracy:  0.88 0.503 0.495\n",
            "Final Accuracy:  0.873 0.515 0.521\n",
            "\n",
            "Initial F1:  0.748 0.503 0.495\n",
            "Final F1:  0.782 0.515 0.519\n"
          ]
        }
      ]
    },
    {
      "cell_type": "code",
      "source": [
        "X_final, target1, target2, target3 = get_data('smoking')\n",
        "accuray_history, f1_history = baseline_train(X_final, target1, target2, target3, batch_size, n_train, n_test, num_queries, balance='Smote', multitarget=False)"
      ],
      "metadata": {
        "colab": {
          "base_uri": "https://localhost:8080/"
        },
        "id": "oNBYQoQ0C7AJ",
        "outputId": "153b2337-f6cf-4034-a392-cc04512db209"
      },
      "execution_count": null,
      "outputs": [
        {
          "output_type": "stream",
          "name": "stdout",
          "text": [
            "Initial Accuracy:  0.722 0.531 0.706\n",
            "Final Accuracy:  0.742 0.563 0.669\n",
            "\n",
            "Initial F1:  0.708 0.521 0.534\n",
            "Final F1:  0.738 0.556 0.515\n"
          ]
        }
      ]
    },
    {
      "cell_type": "code",
      "source": [
        "X_final, target1, target2, target3 = get_data('flight')\n",
        "accuray_history, f1_history = baseline_train(X_final, target1, target2, target3, batch_size, n_train, n_test, num_queries, balance='Smote', multitarget=False)"
      ],
      "metadata": {
        "colab": {
          "base_uri": "https://localhost:8080/"
        },
        "id": "KPRN2kr1C7AJ",
        "outputId": "933669d8-7524-49c4-ea10-5c0cad420d97"
      },
      "execution_count": null,
      "outputs": [
        {
          "output_type": "stream",
          "name": "stdout",
          "text": [
            "Initial Accuracy:  0.902 0.914 0.744\n",
            "Final Accuracy:  0.933 0.936 0.786\n",
            "\n",
            "Initial F1:  0.9 0.826 0.555\n",
            "Final F1:  0.932 0.886 0.591\n"
          ]
        }
      ]
    },
    {
      "cell_type": "markdown",
      "source": [
        "#####Baseline + Single target + Random"
      ],
      "metadata": {
        "id": "0XJROjTN8GJ6"
      }
    },
    {
      "cell_type": "code",
      "source": [
        "X_final, target1, target2, target3 = get_data('imdb')\n",
        "accuray_history, f1_history = baseline_train(X_final, target1, target2, target3, batch_size, n_train, n_test, num_queries, balance='Random', multitarget=False)"
      ],
      "metadata": {
        "colab": {
          "base_uri": "https://localhost:8080/"
        },
        "id": "dKWNADKkDKUi",
        "outputId": "08d4f08d-a116-4f06-a79d-f6bee108dfb8"
      },
      "execution_count": null,
      "outputs": [
        {
          "output_type": "stream",
          "name": "stdout",
          "text": [
            "Initial Accuracy:  0.761 0.45 0.76\n",
            "Final Accuracy:  0.829 0.604 0.907\n",
            "\n",
            "Initial F1:  0.409 0.268 0.573\n",
            "Final F1:  0.622 0.441 0.679\n"
          ]
        }
      ]
    },
    {
      "cell_type": "code",
      "source": [
        "X_final, target1, target2, target3 = get_data('mushroom')\n",
        "accuray_history, f1_history = baseline_train(X_final, target1, target2, target3, batch_size, n_train, n_test, num_queries, balance='Random', multitarget=False)"
      ],
      "metadata": {
        "colab": {
          "base_uri": "https://localhost:8080/"
        },
        "id": "rQUB1mj1DKUi",
        "outputId": "3aa5d7ff-66b2-4551-b828-a84c3f5d5c9c"
      },
      "execution_count": null,
      "outputs": [
        {
          "output_type": "stream",
          "name": "stdout",
          "text": [
            "Initial Accuracy:  1.0 0.515 0.635\n",
            "Final Accuracy:  1.0 0.531 0.691\n",
            "\n",
            "Initial F1:  1.0 0.541 0.674\n",
            "Final F1:  1.0 0.551 0.745\n"
          ]
        }
      ]
    },
    {
      "cell_type": "code",
      "source": [
        "X_final, target1, target2, target3 = get_data('census')\n",
        "accuray_history, f1_history = baseline_train(X_final, target1, target2, target3, batch_size, n_train, n_test, num_queries, balance='Random', multitarget=False)"
      ],
      "metadata": {
        "colab": {
          "base_uri": "https://localhost:8080/"
        },
        "id": "wiphDEwiDKUj",
        "outputId": "150eaa3f-da5f-4d92-f259-e0db8fa54484"
      },
      "execution_count": null,
      "outputs": [
        {
          "output_type": "stream",
          "name": "stdout",
          "text": [
            "Initial Accuracy:  0.81 0.747 0.455\n",
            "Final Accuracy:  0.818 0.765 0.445\n",
            "\n",
            "Initial F1:  0.765 0.389 0.187\n",
            "Final F1:  0.789 0.437 0.225\n"
          ]
        }
      ]
    },
    {
      "cell_type": "code",
      "source": [
        "X_final, target1, target2, target3 = get_data('bank')\n",
        "accuray_history, f1_history = baseline_train(X_final, target1, target2, target3, batch_size, n_train, n_test, num_queries, balance='Random', multitarget=False)"
      ],
      "metadata": {
        "colab": {
          "base_uri": "https://localhost:8080/"
        },
        "id": "0L8EhwpJDKUj",
        "outputId": "46f43b82-776e-4b7d-fc64-09592a4349c9"
      },
      "execution_count": null,
      "outputs": [
        {
          "output_type": "stream",
          "name": "stdout",
          "text": [
            "Initial Accuracy:  0.904 0.758 0.511\n",
            "Final Accuracy:  0.899 0.722 0.517\n",
            "\n",
            "Initial F1:  0.674 0.491 0.506\n",
            "Final F1:  0.783 0.535 0.515\n"
          ]
        }
      ]
    },
    {
      "cell_type": "code",
      "source": [
        "X_final, target1, target2, target3 = get_data('intention')\n",
        "accuray_history, f1_history = baseline_train(X_final, target1, target2, target3, batch_size, n_train, n_test, num_queries, balance='Random', multitarget=False)"
      ],
      "metadata": {
        "colab": {
          "base_uri": "https://localhost:8080/"
        },
        "id": "mCuxzX-HDKUj",
        "outputId": "c92a03ac-61e3-402c-ab2d-60b57957f5fc"
      },
      "execution_count": null,
      "outputs": [
        {
          "output_type": "stream",
          "name": "stdout",
          "text": [
            "Initial Accuracy:  0.935 0.131 0.997\n",
            "Final Accuracy:  0.949 0.782 0.997\n",
            "\n",
            "Initial F1:  0.799 0.124 0.25\n",
            "Final F1:  0.869 0.673 0.25\n"
          ]
        }
      ]
    },
    {
      "cell_type": "code",
      "source": [
        "X_final, target1, target2, target3 = get_data('anuran')\n",
        "accuray_history, f1_history = baseline_train(X_final, target1, target2, target3, batch_size, n_train, n_test, num_queries, balance='Random', multitarget=False)"
      ],
      "metadata": {
        "colab": {
          "base_uri": "https://localhost:8080/"
        },
        "id": "nVxnhgLmDKUk",
        "outputId": "2d8afec0-85ac-4519-b30f-3af873ef3ac9"
      },
      "execution_count": null,
      "outputs": [
        {
          "output_type": "stream",
          "name": "stdout",
          "text": [
            "Initial Accuracy:  0.316 0.233 0.209\n",
            "Final Accuracy:  0.431 0.261 0.251\n",
            "\n",
            "Initial F1:  0.174 0.086 0.062\n",
            "Final F1:  0.281 0.102 0.095\n"
          ]
        }
      ]
    },
    {
      "cell_type": "code",
      "source": [
        "X_final, target1, target2, target3 = get_data('telco')\n",
        "accuray_history, f1_history = baseline_train(X_final, target1, target2, target3, batch_size, n_train, n_test, num_queries, balance='Random', multitarget=False)"
      ],
      "metadata": {
        "colab": {
          "base_uri": "https://localhost:8080/"
        },
        "id": "3OWF2KCDDKUk",
        "outputId": "3633bed6-da8d-4976-a9c2-e7c7716fc35d"
      },
      "execution_count": null,
      "outputs": [
        {
          "output_type": "stream",
          "name": "stdout",
          "text": [
            "Initial Accuracy:  0.783 0.71 0.429\n",
            "Final Accuracy:  0.753 0.732 0.438\n",
            "\n",
            "Initial F1:  0.729 0.645 0.411\n",
            "Final F1:  0.717 0.677 0.415\n"
          ]
        }
      ]
    },
    {
      "cell_type": "code",
      "source": [
        "X_final, target1, target2, target3 = get_data('paris')\n",
        "accuray_history, f1_history = baseline_train(X_final, target1, target2, target3, batch_size, n_train, n_test, num_queries, balance='Random', multitarget=False)"
      ],
      "metadata": {
        "colab": {
          "base_uri": "https://localhost:8080/"
        },
        "id": "_ONjIAwqDKUk",
        "outputId": "b191a417-dc33-403d-ee6d-b7155b97ee18"
      },
      "execution_count": null,
      "outputs": [
        {
          "output_type": "stream",
          "name": "stdout",
          "text": [
            "Initial Accuracy:  0.872 0.481 0.495\n",
            "Final Accuracy:  0.875 0.509 0.491\n",
            "\n",
            "Initial F1:  0.717 0.48 0.495\n",
            "Final F1:  0.788 0.509 0.487\n"
          ]
        }
      ]
    },
    {
      "cell_type": "code",
      "source": [
        "X_final, target1, target2, target3 = get_data('smoking')\n",
        "accuray_history, f1_history = baseline_train(X_final, target1, target2, target3, batch_size, n_train, n_test, num_queries, balance='Random', multitarget=False)"
      ],
      "metadata": {
        "colab": {
          "base_uri": "https://localhost:8080/"
        },
        "id": "MGwWi062DKUk",
        "outputId": "462c6603-933e-4698-bcae-f0233e0955ea"
      },
      "execution_count": null,
      "outputs": [
        {
          "output_type": "stream",
          "name": "stdout",
          "text": [
            "Initial Accuracy:  0.712 0.524 0.717\n",
            "Final Accuracy:  0.744 0.554 0.708\n",
            "\n",
            "Initial F1:  0.698 0.514 0.539\n",
            "Final F1:  0.74 0.55 0.569\n"
          ]
        }
      ]
    },
    {
      "cell_type": "code",
      "source": [
        "X_final, target1, target2, target3 = get_data('flight')\n",
        "accuray_history, f1_history = baseline_train(X_final, target1, target2, target3, batch_size, n_train, n_test, num_queries, balance='Random', multitarget=False)"
      ],
      "metadata": {
        "colab": {
          "base_uri": "https://localhost:8080/"
        },
        "id": "VvFozQyFDKUl",
        "outputId": "4644a93a-b0a0-486b-cf74-44f2313281bb"
      },
      "execution_count": null,
      "outputs": [
        {
          "output_type": "stream",
          "name": "stdout",
          "text": [
            "Initial Accuracy:  0.89 0.905 0.759\n",
            "Final Accuracy:  0.934 0.9 0.787\n",
            "\n",
            "Initial F1:  0.888 0.829 0.576\n",
            "Final F1:  0.933 0.836 0.586\n"
          ]
        }
      ]
    },
    {
      "cell_type": "markdown",
      "source": [
        "#####Adaptive (Softmax) + Single target + No sampling"
      ],
      "metadata": {
        "id": "zwWhyay68GRJ"
      }
    },
    {
      "cell_type": "code",
      "source": [
        "X_final, target1, target2, target3 = get_data('imdb')\n",
        "accuray_history, f1_history = adaptive_train(X_final, target1, target2, target3, batch_size, n_train, n_test, num_queries, adaptive = 'softmax', balance='None', multitarget=False)"
      ],
      "metadata": {
        "colab": {
          "base_uri": "https://localhost:8080/"
        },
        "id": "VURbKWLqDvdv",
        "outputId": "1b4581d0-b5e1-4481-9502-9423f379fe39"
      },
      "execution_count": null,
      "outputs": [
        {
          "output_type": "stream",
          "name": "stdout",
          "text": [
            "Initial Accuracy:  0.889 0.575 0.898\n",
            "Final Accuracy:  0.909 0.588 0.933\n",
            "\n",
            "Initial F1:  0.314 0.269 0.657\n",
            "Final F1:  0.527 0.521 0.691\n"
          ]
        }
      ]
    },
    {
      "cell_type": "code",
      "source": [
        "X_final, target1, target2, target3 = get_data('mushroom')\n",
        "accuray_history, f1_history = adaptive_train(X_final, target1, target2, target3, batch_size, n_train, n_test, num_queries, adaptive = 'softmax', balance='None', multitarget=False)"
      ],
      "metadata": {
        "colab": {
          "base_uri": "https://localhost:8080/"
        },
        "id": "hFY8NM-SDvdv",
        "outputId": "55046ae8-6a50-4f2a-9c11-d45d4282c2a1"
      },
      "execution_count": null,
      "outputs": [
        {
          "output_type": "stream",
          "name": "stdout",
          "text": [
            "Initial Accuracy:  1.0 0.488 0.601\n",
            "Final Accuracy:  1.0 0.503 0.664\n",
            "\n",
            "Initial F1:  1.0 0.51 0.602\n",
            "Final F1:  1.0 0.48 0.541\n"
          ]
        }
      ]
    },
    {
      "cell_type": "code",
      "source": [
        "X_final, target1, target2, target3 = get_data('census')\n",
        "accuray_history, f1_history = adaptive_train(X_final, target1, target2, target3, batch_size, n_train, n_test, num_queries, adaptive = 'softmax', balance='None', multitarget=False)"
      ],
      "metadata": {
        "colab": {
          "base_uri": "https://localhost:8080/"
        },
        "id": "nA13of3MDvdv",
        "outputId": "736d1509-1e4e-46fe-e746-4236b39fb513"
      },
      "execution_count": null,
      "outputs": [
        {
          "output_type": "stream",
          "name": "stdout",
          "text": [
            "Initial Accuracy:  0.79 0.811 0.751\n",
            "Final Accuracy:  0.821 0.803 0.754\n",
            "\n",
            "Initial F1:  0.621 0.42 0.134\n",
            "Final F1:  0.718 0.37 0.161\n"
          ]
        }
      ]
    },
    {
      "cell_type": "code",
      "source": [
        "X_final, target1, target2, target3 = get_data('bank')\n",
        "accuray_history, f1_history = adaptive_train(X_final, target1, target2, target3, batch_size, n_train, n_test, num_queries, adaptive = 'softmax', balance='None', multitarget=False)"
      ],
      "metadata": {
        "colab": {
          "base_uri": "https://localhost:8080/"
        },
        "id": "nfP4oHY1Dvdw",
        "outputId": "e56132c3-d1c6-484c-9bbe-dac589ef0505"
      },
      "execution_count": null,
      "outputs": [
        {
          "output_type": "stream",
          "name": "stdout",
          "text": [
            "Initial Accuracy:  0.905 0.818 0.534\n",
            "Final Accuracy:  0.905 0.831 0.545\n",
            "\n",
            "Initial F1:  0.623 0.466 0.487\n",
            "Final F1:  0.668 0.454 0.466\n"
          ]
        }
      ]
    },
    {
      "cell_type": "code",
      "source": [
        "X_final, target1, target2, target3 = get_data('intention')\n",
        "accuray_history, f1_history = adaptive_train(X_final, target1, target2, target3, batch_size, n_train, n_test, num_queries, adaptive = 'softmax', balance='None', multitarget=False)"
      ],
      "metadata": {
        "colab": {
          "base_uri": "https://localhost:8080/"
        },
        "id": "S0lgl5siDvdw",
        "outputId": "874961d7-9aaf-4cf4-a567-89628877875b"
      },
      "execution_count": null,
      "outputs": [
        {
          "output_type": "stream",
          "name": "stdout",
          "text": [
            "Initial Accuracy:  0.932 0.205 0.998\n",
            "Final Accuracy:  0.951 0.896 0.998\n",
            "\n",
            "Initial F1:  0.779 0.205 0.333\n",
            "Final F1:  0.822 0.63 0.333\n"
          ]
        }
      ]
    },
    {
      "cell_type": "code",
      "source": [
        "X_final, target1, target2, target3 = get_data('anuran')\n",
        "accuray_history, f1_history = adaptive_train(X_final, target1, target2, target3, batch_size, n_train, n_test, num_queries, adaptive = 'softmax', balance='None', multitarget=False)"
      ],
      "metadata": {
        "colab": {
          "base_uri": "https://localhost:8080/"
        },
        "id": "H2vZV52kDvdw",
        "outputId": "ebe508c4-88ea-4828-8a7f-0220c4716c8c"
      },
      "execution_count": null,
      "outputs": [
        {
          "output_type": "stream",
          "name": "stdout",
          "text": [
            "Initial Accuracy:  0.447 0.244 0.362\n",
            "Final Accuracy:  0.235 0.268 0.239\n",
            "\n",
            "Initial F1:  0.222 0.074 0.117\n",
            "Final F1:  0.181 0.116 0.072\n"
          ]
        }
      ]
    },
    {
      "cell_type": "code",
      "source": [
        "X_final, target1, target2, target3 = get_data('telco')\n",
        "accuray_history, f1_history = adaptive_train(X_final, target1, target2, target3, batch_size, n_train, n_test, num_queries, adaptive = 'softmax', balance='None', multitarget=False)"
      ],
      "metadata": {
        "colab": {
          "base_uri": "https://localhost:8080/"
        },
        "id": "YgLiXYe3Dvdw",
        "outputId": "26f521eb-b5ac-4271-dae2-d45adb6c4b72"
      },
      "execution_count": null,
      "outputs": [
        {
          "output_type": "stream",
          "name": "stdout",
          "text": [
            "Initial Accuracy:  0.806 0.725 0.45\n",
            "Final Accuracy:  0.805 0.759 0.455\n",
            "\n",
            "Initial F1:  0.721 0.634 0.429\n",
            "Final F1:  0.731 0.686 0.412\n"
          ]
        }
      ]
    },
    {
      "cell_type": "code",
      "source": [
        "X_final, target1, target2, target3 = get_data('paris')\n",
        "accuray_history, f1_history = adaptive_train(X_final, target1, target2, target3, batch_size, n_train, n_test, num_queries, adaptive = 'softmax', balance='None', multitarget=False)"
      ],
      "metadata": {
        "colab": {
          "base_uri": "https://localhost:8080/"
        },
        "id": "UM3GZXojDvdw",
        "outputId": "7881eabe-2d0c-4b79-9b50-db8e8cea3499"
      },
      "execution_count": null,
      "outputs": [
        {
          "output_type": "stream",
          "name": "stdout",
          "text": [
            "Initial Accuracy:  0.874 0.477 0.495\n",
            "Final Accuracy:  0.886 0.495 0.529\n",
            "\n",
            "Initial F1:  0.634 0.47 0.495\n",
            "Final F1:  0.538 0.478 0.519\n"
          ]
        }
      ]
    },
    {
      "cell_type": "code",
      "source": [
        "X_final, target1, target2, target3 = get_data('smoking')\n",
        "accuray_history, f1_history = adaptive_train(X_final, target1, target2, target3, batch_size, n_train, n_test, num_queries, adaptive = 'softmax', balance='None', multitarget=False)"
      ],
      "metadata": {
        "colab": {
          "base_uri": "https://localhost:8080/"
        },
        "id": "7liflOgqDvdw",
        "outputId": "eefce302-1858-4846-c065-7c3215074270"
      },
      "execution_count": null,
      "outputs": [
        {
          "output_type": "stream",
          "name": "stdout",
          "text": [
            "Initial Accuracy:  0.71 0.533 0.791\n",
            "Final Accuracy:  0.745 0.546 0.797\n",
            "\n",
            "Initial F1:  0.687 0.516 0.442\n",
            "Final F1:  0.729 0.494 0.444\n"
          ]
        }
      ]
    },
    {
      "cell_type": "code",
      "source": [
        "X_final, target1, target2, target3 = get_data('flight')\n",
        "accuray_history, f1_history = adaptive_train(X_final, target1, target2, target3, batch_size, n_train, n_test, num_queries, adaptive = 'softmax', balance='None', multitarget=False)"
      ],
      "metadata": {
        "colab": {
          "base_uri": "https://localhost:8080/"
        },
        "id": "avvxSW8xDvdw",
        "outputId": "a9ef3844-53e4-48cd-8147-7c4ae01c9b84"
      },
      "execution_count": null,
      "outputs": [
        {
          "output_type": "stream",
          "name": "stdout",
          "text": [
            "Initial Accuracy:  0.893 0.903 0.774\n",
            "Final Accuracy:  0.932 0.918 0.822\n",
            "\n",
            "Initial F1:  0.89 0.77 0.543\n",
            "Final F1:  0.931 0.82 0.569\n"
          ]
        }
      ]
    },
    {
      "cell_type": "markdown",
      "source": [
        "#####Adaptive (Sigmoid) + Single target + No sampling"
      ],
      "metadata": {
        "id": "3RfULOyV8GVl"
      }
    },
    {
      "cell_type": "code",
      "source": [
        "X_final, target1, target2, target3 = get_data('imdb')\n",
        "accuray_history, f1_history = adaptive_train(X_final, target1, target2, target3, batch_size, n_train, n_test, num_queries, adaptive = 'sigmoid', balance='None', multitarget=False)"
      ],
      "metadata": {
        "colab": {
          "base_uri": "https://localhost:8080/"
        },
        "id": "SPxqFdTbFW48",
        "outputId": "ac65a656-0e80-472f-d3c2-6e725475ae43"
      },
      "execution_count": null,
      "outputs": [
        {
          "output_type": "stream",
          "name": "stdout",
          "text": [
            "Initial Accuracy:  0.889 0.575 0.898\n",
            "Final Accuracy:  0.909 0.633 0.93\n",
            "\n",
            "Initial F1:  0.314 0.269 0.657\n",
            "Final F1:  0.527 0.605 0.699\n"
          ]
        }
      ]
    },
    {
      "cell_type": "code",
      "source": [
        "X_final, target1, target2, target3 = get_data('mushroom')\n",
        "accuray_history, f1_history = adaptive_train(X_final, target1, target2, target3, batch_size, n_train, n_test, num_queries, adaptive = 'sigmoid', balance='None', multitarget=False)"
      ],
      "metadata": {
        "colab": {
          "base_uri": "https://localhost:8080/"
        },
        "id": "pIG8sU5-FW49",
        "outputId": "e547cf74-60a9-4ee5-90d3-a0618b6fa830"
      },
      "execution_count": null,
      "outputs": [
        {
          "output_type": "stream",
          "name": "stdout",
          "text": [
            "Initial Accuracy:  1.0 0.488 0.601\n",
            "Final Accuracy:  1.0 0.486 0.66\n",
            "\n",
            "Initial F1:  1.0 0.51 0.602\n",
            "Final F1:  1.0 0.479 0.542\n"
          ]
        }
      ]
    },
    {
      "cell_type": "code",
      "source": [
        "X_final, target1, target2, target3 = get_data('census')\n",
        "accuray_history, f1_history = adaptive_train(X_final, target1, target2, target3, batch_size, n_train, n_test, num_queries, adaptive = 'sigmoid', balance='None', multitarget=False)"
      ],
      "metadata": {
        "colab": {
          "base_uri": "https://localhost:8080/"
        },
        "id": "GeAu5w5DFW49",
        "outputId": "e1d862e0-9877-4b0d-dea3-fc4af18f698b"
      },
      "execution_count": null,
      "outputs": [
        {
          "output_type": "stream",
          "name": "stdout",
          "text": [
            "Initial Accuracy:  0.79 0.811 0.751\n",
            "Final Accuracy:  0.827 0.789 0.753\n",
            "\n",
            "Initial F1:  0.621 0.42 0.134\n",
            "Final F1:  0.731 0.394 0.158\n"
          ]
        }
      ]
    },
    {
      "cell_type": "code",
      "source": [
        "X_final, target1, target2, target3 = get_data('bank')\n",
        "accuray_history, f1_history = adaptive_train(X_final, target1, target2, target3, batch_size, n_train, n_test, num_queries, adaptive = 'sigmoid', balance='None', multitarget=False)"
      ],
      "metadata": {
        "colab": {
          "base_uri": "https://localhost:8080/"
        },
        "id": "1-PUSI5NFW4-",
        "outputId": "815b6107-4fb4-44e3-fe4c-3d1dc4e802e3"
      },
      "execution_count": null,
      "outputs": [
        {
          "output_type": "stream",
          "name": "stdout",
          "text": [
            "Initial Accuracy:  0.905 0.818 0.534\n",
            "Final Accuracy:  0.902 0.831 0.537\n",
            "\n",
            "Initial F1:  0.623 0.466 0.487\n",
            "Final F1:  0.647 0.454 0.487\n"
          ]
        }
      ]
    },
    {
      "cell_type": "code",
      "source": [
        "X_final, target1, target2, target3 = get_data('intention')\n",
        "accuray_history, f1_history = adaptive_train(X_final, target1, target2, target3, batch_size, n_train, n_test, num_queries, adaptive = 'sigmoid', balance='None', multitarget=False)"
      ],
      "metadata": {
        "colab": {
          "base_uri": "https://localhost:8080/"
        },
        "id": "ghjddbUjFW4-",
        "outputId": "2fe1a213-9a5c-4e2c-aa5c-98b56cfd0bc4"
      },
      "execution_count": null,
      "outputs": [
        {
          "output_type": "stream",
          "name": "stdout",
          "text": [
            "Initial Accuracy:  0.932 0.205 0.998\n",
            "Final Accuracy:  0.951 0.89 0.998\n",
            "\n",
            "Initial F1:  0.779 0.205 0.333\n",
            "Final F1:  0.822 0.613 0.333\n"
          ]
        }
      ]
    },
    {
      "cell_type": "code",
      "source": [
        "X_final, target1, target2, target3 = get_data('anuran')\n",
        "accuray_history, f1_history = adaptive_train(X_final, target1, target2, target3, batch_size, n_train, n_test, num_queries, adaptive = 'sigmoid', balance='None', multitarget=False)"
      ],
      "metadata": {
        "colab": {
          "base_uri": "https://localhost:8080/"
        },
        "id": "j3rL3HaLFW4-",
        "outputId": "2af39e6d-9c64-4a77-da0d-89b77c3232bd"
      },
      "execution_count": null,
      "outputs": [
        {
          "output_type": "stream",
          "name": "stdout",
          "text": [
            "Initial Accuracy:  0.447 0.244 0.362\n",
            "Final Accuracy:  0.226 0.243 0.245\n",
            "\n",
            "Initial F1:  0.222 0.074 0.117\n",
            "Final F1:  0.181 0.123 0.065\n"
          ]
        }
      ]
    },
    {
      "cell_type": "code",
      "source": [
        "X_final, target1, target2, target3 = get_data('telco')\n",
        "accuray_history, f1_history = adaptive_train(X_final, target1, target2, target3, batch_size, n_train, n_test, num_queries, adaptive = 'sigmoid', balance='None', multitarget=False)"
      ],
      "metadata": {
        "colab": {
          "base_uri": "https://localhost:8080/"
        },
        "id": "W9JNYQbEFW4_",
        "outputId": "6842c7db-5de7-4146-8899-7851675e1f30"
      },
      "execution_count": null,
      "outputs": [
        {
          "output_type": "stream",
          "name": "stdout",
          "text": [
            "Initial Accuracy:  0.806 0.725 0.45\n",
            "Final Accuracy:  0.812 0.743 0.437\n",
            "\n",
            "Initial F1:  0.721 0.634 0.429\n",
            "Final F1:  0.717 0.652 0.393\n"
          ]
        }
      ]
    },
    {
      "cell_type": "code",
      "source": [
        "X_final, target1, target2, target3 = get_data('paris')\n",
        "accuray_history, f1_history = adaptive_train(X_final, target1, target2, target3, batch_size, n_train, n_test, num_queries, adaptive = 'sigmoid', balance='None', multitarget=False)"
      ],
      "metadata": {
        "colab": {
          "base_uri": "https://localhost:8080/"
        },
        "id": "uxz9stCmFW4_",
        "outputId": "a0c1b42b-7795-478f-b12c-fc86ec46d330"
      },
      "execution_count": null,
      "outputs": [
        {
          "output_type": "stream",
          "name": "stdout",
          "text": [
            "Initial Accuracy:  0.874 0.477 0.495\n",
            "Final Accuracy:  0.884 0.479 0.498\n",
            "\n",
            "Initial F1:  0.634 0.47 0.495\n",
            "Final F1:  0.516 0.472 0.487\n"
          ]
        }
      ]
    },
    {
      "cell_type": "code",
      "source": [
        "X_final, target1, target2, target3 = get_data('smoking')\n",
        "accuray_history, f1_history = adaptive_train(X_final, target1, target2, target3, batch_size, n_train, n_test, num_queries, adaptive = 'sigmoid', balance='None', multitarget=False)"
      ],
      "metadata": {
        "colab": {
          "base_uri": "https://localhost:8080/"
        },
        "id": "4OPgRYjqFW5A",
        "outputId": "a5c4aa39-e4a1-49ec-b354-d049b8396872"
      },
      "execution_count": null,
      "outputs": [
        {
          "output_type": "stream",
          "name": "stdout",
          "text": [
            "Initial Accuracy:  0.71 0.533 0.791\n",
            "Final Accuracy:  0.751 0.564 0.796\n",
            "\n",
            "Initial F1:  0.687 0.516 0.442\n",
            "Final F1:  0.729 0.509 0.443\n"
          ]
        }
      ]
    },
    {
      "cell_type": "code",
      "source": [
        "X_final, target1, target2, target3 = get_data('flight')\n",
        "accuray_history, f1_history = adaptive_train(X_final, target1, target2, target3, batch_size, n_train, n_test, num_queries, adaptive = 'sigmoid', balance='None', multitarget=False)"
      ],
      "metadata": {
        "colab": {
          "base_uri": "https://localhost:8080/"
        },
        "id": "TSBUSbWHFW5A",
        "outputId": "2ade9f22-20a7-4394-edfb-43822c95e8c7"
      },
      "execution_count": null,
      "outputs": [
        {
          "output_type": "stream",
          "name": "stdout",
          "text": [
            "Initial Accuracy:  0.893 0.903 0.774\n",
            "Final Accuracy:  0.928 0.928 0.813\n",
            "\n",
            "Initial F1:  0.89 0.77 0.543\n",
            "Final F1:  0.927 0.847 0.562\n"
          ]
        }
      ]
    },
    {
      "cell_type": "markdown",
      "source": [
        "#####Adaptive (Fixed) + Single target + No sampling"
      ],
      "metadata": {
        "id": "ymMNtlg08GaM"
      }
    },
    {
      "cell_type": "code",
      "source": [
        "X_final, target1, target2, target3 = get_data('imdb')\n",
        "accuray_history, f1_history = adaptive_train(X_final, target1, target2, target3, batch_size, n_train, n_test, num_queries, adaptive = 'fixed', balance='None', multitarget=False)"
      ],
      "metadata": {
        "colab": {
          "base_uri": "https://localhost:8080/"
        },
        "id": "5CwQGCy4F8yS",
        "outputId": "2805b3fb-2829-4fab-a96a-1b996af3f084"
      },
      "execution_count": null,
      "outputs": [
        {
          "output_type": "stream",
          "name": "stdout",
          "text": [
            "Initial Accuracy:  0.889 0.575 0.898\n",
            "Final Accuracy:  0.909 0.582 0.939\n",
            "\n",
            "Initial F1:  0.314 0.269 0.657\n",
            "Final F1:  0.523 0.507 0.699\n"
          ]
        }
      ]
    },
    {
      "cell_type": "code",
      "source": [
        "X_final, target1, target2, target3 = get_data('mushroom')\n",
        "accuray_history, f1_history = adaptive_train(X_final, target1, target2, target3, batch_size, n_train, n_test, num_queries, adaptive = 'fixed', balance='None', multitarget=False)"
      ],
      "metadata": {
        "colab": {
          "base_uri": "https://localhost:8080/"
        },
        "id": "96cnCmCkF8yT",
        "outputId": "370ae138-437a-4bd1-ae56-0e4ef7ff0604"
      },
      "execution_count": null,
      "outputs": [
        {
          "output_type": "stream",
          "name": "stdout",
          "text": [
            "Initial Accuracy:  1.0 0.488 0.601\n",
            "Final Accuracy:  1.0 0.483 0.654\n",
            "\n",
            "Initial F1:  1.0 0.51 0.602\n",
            "Final F1:  1.0 0.4 0.544\n"
          ]
        }
      ]
    },
    {
      "cell_type": "code",
      "source": [
        "X_final, target1, target2, target3 = get_data('census')\n",
        "accuray_history, f1_history = adaptive_train(X_final, target1, target2, target3, batch_size, n_train, n_test, num_queries, adaptive = 'fixed', balance='None', multitarget=False)"
      ],
      "metadata": {
        "colab": {
          "base_uri": "https://localhost:8080/"
        },
        "id": "_YTqvThuF8yT",
        "outputId": "94f62e97-5c9a-47fb-d9c0-70d032b81499"
      },
      "execution_count": null,
      "outputs": [
        {
          "output_type": "stream",
          "name": "stdout",
          "text": [
            "Initial Accuracy:  0.79 0.811 0.751\n",
            "Final Accuracy:  0.828 0.785 0.753\n",
            "\n",
            "Initial F1:  0.621 0.42 0.134\n",
            "Final F1:  0.733 0.359 0.158\n"
          ]
        }
      ]
    },
    {
      "cell_type": "code",
      "source": [
        "X_final, target1, target2, target3 = get_data('bank')\n",
        "accuray_history, f1_history = adaptive_train(X_final, target1, target2, target3, batch_size, n_train, n_test, num_queries, adaptive = 'fixed', balance='None', multitarget=False)"
      ],
      "metadata": {
        "colab": {
          "base_uri": "https://localhost:8080/"
        },
        "id": "MY02cb23F8yT",
        "outputId": "5eb3a058-be1a-4826-e3c4-0c50142011fd"
      },
      "execution_count": null,
      "outputs": [
        {
          "output_type": "stream",
          "name": "stdout",
          "text": [
            "Initial Accuracy:  0.905 0.818 0.534\n",
            "Final Accuracy:  0.906 0.831 0.537\n",
            "\n",
            "Initial F1:  0.623 0.466 0.487\n",
            "Final F1:  0.673 0.454 0.524\n"
          ]
        }
      ]
    },
    {
      "cell_type": "code",
      "source": [
        "X_final, target1, target2, target3 = get_data('intention')\n",
        "accuray_history, f1_history = adaptive_train(X_final, target1, target2, target3, batch_size, n_train, n_test, num_queries, adaptive = 'fixed', balance='None', multitarget=False)"
      ],
      "metadata": {
        "colab": {
          "base_uri": "https://localhost:8080/"
        },
        "id": "VzOs1JxGF8yU",
        "outputId": "490c1c5d-6df2-4262-a09d-d6ab98766d94"
      },
      "execution_count": null,
      "outputs": [
        {
          "output_type": "stream",
          "name": "stdout",
          "text": [
            "Initial Accuracy:  0.932 0.205 0.998\n",
            "Final Accuracy:  0.955 0.882 0.998\n",
            "\n",
            "Initial F1:  0.779 0.205 0.333\n",
            "Final F1:  0.839 0.547 0.333\n"
          ]
        }
      ]
    },
    {
      "cell_type": "code",
      "source": [
        "X_final, target1, target2, target3 = get_data('anuran')\n",
        "accuray_history, f1_history = adaptive_train(X_final, target1, target2, target3, batch_size, n_train, n_test, num_queries, adaptive = 'fixed', balance='None', multitarget=False)"
      ],
      "metadata": {
        "colab": {
          "base_uri": "https://localhost:8080/"
        },
        "id": "iLCDRypjF8yU",
        "outputId": "1455c966-3642-48fb-82e0-c8927f3bef07"
      },
      "execution_count": null,
      "outputs": [
        {
          "output_type": "stream",
          "name": "stdout",
          "text": [
            "Initial Accuracy:  0.447 0.244 0.362\n",
            "Final Accuracy:  0.189 0.312 0.246\n",
            "\n",
            "Initial F1:  0.222 0.074 0.117\n",
            "Final F1:  0.155 0.126 0.067\n"
          ]
        }
      ]
    },
    {
      "cell_type": "code",
      "source": [
        "X_final, target1, target2, target3 = get_data('telco')\n",
        "accuray_history, f1_history = adaptive_train(X_final, target1, target2, target3, batch_size, n_train, n_test, num_queries, adaptive = 'fixed', balance='None', multitarget=False)"
      ],
      "metadata": {
        "colab": {
          "base_uri": "https://localhost:8080/"
        },
        "id": "OFAyvFoVF8yU",
        "outputId": "84b52a42-211a-4984-d3e9-a1e980eeb485"
      },
      "execution_count": null,
      "outputs": [
        {
          "output_type": "stream",
          "name": "stdout",
          "text": [
            "Initial Accuracy:  0.806 0.725 0.45\n",
            "Final Accuracy:  0.802 0.743 0.46\n",
            "\n",
            "Initial F1:  0.721 0.634 0.429\n",
            "Final F1:  0.719 0.647 0.42\n"
          ]
        }
      ]
    },
    {
      "cell_type": "code",
      "source": [
        "X_final, target1, target2, target3 = get_data('paris')\n",
        "accuray_history, f1_history = adaptive_train(X_final, target1, target2, target3, batch_size, n_train, n_test, num_queries, adaptive = 'fixed', balance='None', multitarget=False)"
      ],
      "metadata": {
        "colab": {
          "base_uri": "https://localhost:8080/"
        },
        "id": "MdviVDS6F8yV",
        "outputId": "0697de7c-7950-422d-a035-37a4083d0b44"
      },
      "execution_count": null,
      "outputs": [
        {
          "output_type": "stream",
          "name": "stdout",
          "text": [
            "Initial Accuracy:  0.874 0.477 0.495\n",
            "Final Accuracy:  0.883 0.509 0.518\n",
            "\n",
            "Initial F1:  0.634 0.47 0.495\n",
            "Final F1:  0.485 0.479 0.512\n"
          ]
        }
      ]
    },
    {
      "cell_type": "code",
      "source": [
        "X_final, target1, target2, target3 = get_data('smoking')\n",
        "accuray_history, f1_history = adaptive_train(X_final, target1, target2, target3, batch_size, n_train, n_test, num_queries, adaptive = 'fixed', balance='None', multitarget=False)"
      ],
      "metadata": {
        "colab": {
          "base_uri": "https://localhost:8080/"
        },
        "id": "IMz2XuURF8yV",
        "outputId": "5ab030eb-6b5f-4a76-d26f-1a8451ebe258"
      },
      "execution_count": null,
      "outputs": [
        {
          "output_type": "stream",
          "name": "stdout",
          "text": [
            "Initial Accuracy:  0.71 0.533 0.791\n",
            "Final Accuracy:  0.742 0.54 0.798\n",
            "\n",
            "Initial F1:  0.687 0.516 0.442\n",
            "Final F1:  0.721 0.463 0.453\n"
          ]
        }
      ]
    },
    {
      "cell_type": "code",
      "source": [
        "X_final, target1, target2, target3 = get_data('flight')\n",
        "accuray_history, f1_history = adaptive_train(X_final, target1, target2, target3, batch_size, n_train, n_test, num_queries, adaptive = 'fixed', balance='None', multitarget=False)"
      ],
      "metadata": {
        "colab": {
          "base_uri": "https://localhost:8080/"
        },
        "id": "TGjC7y4qF8yV",
        "outputId": "f01b9eab-d570-4ef9-ec81-490bd9867827"
      },
      "execution_count": null,
      "outputs": [
        {
          "output_type": "stream",
          "name": "stdout",
          "text": [
            "Initial Accuracy:  0.893 0.903 0.774\n",
            "Final Accuracy:  0.932 0.931 0.82\n",
            "\n",
            "Initial F1:  0.89 0.77 0.543\n",
            "Final F1:  0.931 0.855 0.567\n"
          ]
        }
      ]
    },
    {
      "cell_type": "markdown",
      "source": [
        "#####Adaptive (Softmax) + Single target + SMOTE"
      ],
      "metadata": {
        "id": "VmCdzT1T8rYp"
      }
    },
    {
      "cell_type": "code",
      "source": [
        "X_final, target1, target2, target3 = get_data('imdb')\n",
        "accuray_history, f1_history = adaptive_train(X_final, target1, target2, target3, batch_size, n_train, n_test, num_queries, adaptive = 'softmax', balance='Smote', multitarget=False)"
      ],
      "metadata": {
        "colab": {
          "base_uri": "https://localhost:8080/"
        },
        "id": "cjOl6Am6GgRT",
        "outputId": "82e4d8fb-3489-47b8-fd24-bacaaa4a26d7"
      },
      "execution_count": null,
      "outputs": [
        {
          "output_type": "stream",
          "name": "stdout",
          "text": [
            "Initial Accuracy:  0.784 0.472 0.731\n",
            "Final Accuracy:  0.863 0.605 0.922\n",
            "\n",
            "Initial F1:  0.416 0.28 0.541\n",
            "Final F1:  0.641 0.431 0.692\n"
          ]
        }
      ]
    },
    {
      "cell_type": "code",
      "source": [
        "X_final, target1, target2, target3 = get_data('mushroom')\n",
        "accuray_history, f1_history = adaptive_train(X_final, target1, target2, target3, batch_size, n_train, n_test, num_queries, adaptive = 'softmax', balance='Smote', multitarget=False)"
      ],
      "metadata": {
        "colab": {
          "base_uri": "https://localhost:8080/"
        },
        "id": "5fswJdzVGgRT",
        "outputId": "315cd066-12e8-41e0-d43a-c2531c9530bd"
      },
      "execution_count": null,
      "outputs": [
        {
          "output_type": "stream",
          "name": "stdout",
          "text": [
            "Initial Accuracy:  1.0 0.53 0.65\n",
            "Final Accuracy:  1.0 0.534 0.685\n",
            "\n",
            "Initial F1:  1.0 0.555 0.695\n",
            "Final F1:  1.0 0.55 0.736\n"
          ]
        }
      ]
    },
    {
      "cell_type": "code",
      "source": [
        "X_final, target1, target2, target3 = get_data('census')\n",
        "accuray_history, f1_history = adaptive_train(X_final, target1, target2, target3, batch_size, n_train, n_test, num_queries, adaptive = 'softmax', balance='Smote', multitarget=False)"
      ],
      "metadata": {
        "colab": {
          "base_uri": "https://localhost:8080/"
        },
        "id": "O0Wq4BSnGgRT",
        "outputId": "f65a6716-0db6-471d-dcdc-699e7a18e0e1"
      },
      "execution_count": null,
      "outputs": [
        {
          "output_type": "stream",
          "name": "stdout",
          "text": [
            "Initial Accuracy:  0.82 0.739 0.588\n",
            "Final Accuracy:  0.828 0.755 0.646\n",
            "\n",
            "Initial F1:  0.768 0.399 0.181\n",
            "Final F1:  0.768 0.39 0.214\n"
          ]
        }
      ]
    },
    {
      "cell_type": "code",
      "source": [
        "X_final, target1, target2, target3 = get_data('bank')\n",
        "accuray_history, f1_history = adaptive_train(X_final, target1, target2, target3, batch_size, n_train, n_test, num_queries, adaptive = 'softmax', balance='Smote', multitarget=False)"
      ],
      "metadata": {
        "colab": {
          "base_uri": "https://localhost:8080/"
        },
        "id": "oI0cTbaYGgRT",
        "outputId": "9dfe9e3b-7c71-4e35-b7f9-4a0218731102"
      },
      "execution_count": null,
      "outputs": [
        {
          "output_type": "stream",
          "name": "stdout",
          "text": [
            "Initial Accuracy:  0.904 0.791 0.514\n",
            "Final Accuracy:  0.898 0.82 0.524\n",
            "\n",
            "Initial F1:  0.654 0.473 0.499\n",
            "Final F1:  0.733 0.467 0.521\n"
          ]
        }
      ]
    },
    {
      "cell_type": "code",
      "source": [
        "X_final, target1, target2, target3 = get_data('intention')\n",
        "accuray_history, f1_history = adaptive_train(X_final, target1, target2, target3, batch_size, n_train, n_test, num_queries, adaptive = 'softmax', balance='Smote', multitarget=False)"
      ],
      "metadata": {
        "colab": {
          "base_uri": "https://localhost:8080/"
        },
        "id": "Up_HBU1dGgRU",
        "outputId": "e812d6e7-b375-4fd4-877b-0692e8914966"
      },
      "execution_count": null,
      "outputs": [
        {
          "output_type": "stream",
          "name": "stdout",
          "text": [
            "Initial Accuracy:  0.936 0.148 0.986\n",
            "Final Accuracy:  0.947 0.815 0.998\n",
            "\n",
            "Initial F1:  0.817 0.143 0.199\n",
            "Final F1:  0.864 0.691 0.25\n"
          ]
        }
      ]
    },
    {
      "cell_type": "code",
      "source": [
        "X_final, target1, target2, target3 = get_data('anuran')\n",
        "accuray_history, f1_history = adaptive_train(X_final, target1, target2, target3, batch_size, n_train, n_test, num_queries, adaptive = 'softmax', balance='Smote', multitarget=False)"
      ],
      "metadata": {
        "colab": {
          "base_uri": "https://localhost:8080/"
        },
        "id": "2qqz7b6RGgRU",
        "outputId": "c5be6eba-d137-4710-e5bd-159241bdf722"
      },
      "execution_count": null,
      "outputs": [
        {
          "output_type": "stream",
          "name": "stdout",
          "text": [
            "Initial Accuracy:  0.374 0.212 0.219\n",
            "Final Accuracy:  0.358 0.255 0.239\n",
            "\n",
            "Initial F1:  0.193 0.066 0.074\n",
            "Final F1:  0.255 0.099 0.072\n"
          ]
        }
      ]
    },
    {
      "cell_type": "code",
      "source": [
        "X_final, target1, target2, target3 = get_data('telco')\n",
        "accuray_history, f1_history = adaptive_train(X_final, target1, target2, target3, batch_size, n_train, n_test, num_queries, adaptive = 'softmax', balance='Smote', multitarget=False)"
      ],
      "metadata": {
        "colab": {
          "base_uri": "https://localhost:8080/"
        },
        "id": "ok4fKxk4GgRU",
        "outputId": "187a2e09-06b5-4684-cc97-02b7101ebd4e"
      },
      "execution_count": null,
      "outputs": [
        {
          "output_type": "stream",
          "name": "stdout",
          "text": [
            "Initial Accuracy:  0.794 0.72 0.438\n",
            "Final Accuracy:  0.796 0.735 0.454\n",
            "\n",
            "Initial F1:  0.729 0.643 0.42\n",
            "Final F1:  0.744 0.671 0.426\n"
          ]
        }
      ]
    },
    {
      "cell_type": "code",
      "source": [
        "X_final, target1, target2, target3 = get_data('paris')\n",
        "accuray_history, f1_history = adaptive_train(X_final, target1, target2, target3, batch_size, n_train, n_test, num_queries, adaptive = 'softmax', balance='Smote', multitarget=False)"
      ],
      "metadata": {
        "colab": {
          "base_uri": "https://localhost:8080/"
        },
        "id": "8bzyTgxKGgRU",
        "outputId": "0ee6757b-3a83-4575-d23a-117e2d68b6cc"
      },
      "execution_count": null,
      "outputs": [
        {
          "output_type": "stream",
          "name": "stdout",
          "text": [
            "Initial Accuracy:  0.88 0.503 0.495\n",
            "Final Accuracy:  0.88 0.52 0.503\n",
            "\n",
            "Initial F1:  0.748 0.503 0.495\n",
            "Final F1:  0.792 0.52 0.503\n"
          ]
        }
      ]
    },
    {
      "cell_type": "code",
      "source": [
        "X_final, target1, target2, target3 = get_data('smoking')\n",
        "accuray_history, f1_history = adaptive_train(X_final, target1, target2, target3, batch_size, n_train, n_test, num_queries, adaptive = 'softmax', balance='Smote', multitarget=False)"
      ],
      "metadata": {
        "colab": {
          "base_uri": "https://localhost:8080/"
        },
        "id": "sKIUCkA8GgRU",
        "outputId": "37a92710-bf9d-4704-e329-d0a55fe76a52"
      },
      "execution_count": null,
      "outputs": [
        {
          "output_type": "stream",
          "name": "stdout",
          "text": [
            "Initial Accuracy:  0.722 0.531 0.706\n",
            "Final Accuracy:  0.744 0.524 0.707\n",
            "\n",
            "Initial F1:  0.708 0.521 0.534\n",
            "Final F1:  0.739 0.52 0.536\n"
          ]
        }
      ]
    },
    {
      "cell_type": "code",
      "source": [
        "X_final, target1, target2, target3 = get_data('flight')\n",
        "accuray_history, f1_history = adaptive_train(X_final, target1, target2, target3, batch_size, n_train, n_test, num_queries, adaptive = 'softmax', balance='Smote', multitarget=False)"
      ],
      "metadata": {
        "colab": {
          "base_uri": "https://localhost:8080/"
        },
        "id": "tsFT2LpBGgRU",
        "outputId": "056d2493-0875-4b8c-d226-7ef8f05eebf7"
      },
      "execution_count": null,
      "outputs": [
        {
          "output_type": "stream",
          "name": "stdout",
          "text": [
            "Initial Accuracy:  0.902 0.914 0.744\n",
            "Final Accuracy:  0.93 0.928 0.788\n",
            "\n",
            "Initial F1:  0.9 0.826 0.555\n",
            "Final F1:  0.929 0.871 0.587\n"
          ]
        }
      ]
    },
    {
      "cell_type": "markdown",
      "source": [
        "#####Adaptive (Sigmoid) + Single target + SMOTE"
      ],
      "metadata": {
        "id": "W6mc_v668rYp"
      }
    },
    {
      "cell_type": "code",
      "source": [
        "X_final, target1, target2, target3 = get_data('imdb')\n",
        "accuray_history, f1_history = adaptive_train(X_final, target1, target2, target3, batch_size, n_train, n_test, num_queries, adaptive = 'sigmoid', balance='Smote', multitarget=False)"
      ],
      "metadata": {
        "colab": {
          "base_uri": "https://localhost:8080/"
        },
        "id": "1oHMtqIIG0ma",
        "outputId": "710787c5-ab1d-4796-cf37-a370d6202d0b"
      },
      "execution_count": null,
      "outputs": [
        {
          "output_type": "stream",
          "name": "stdout",
          "text": [
            "Initial Accuracy:  0.784 0.472 0.731\n",
            "Final Accuracy:  0.878 0.627 0.921\n",
            "\n",
            "Initial F1:  0.416 0.28 0.541\n",
            "Final F1:  0.631 0.451 0.699\n"
          ]
        }
      ]
    },
    {
      "cell_type": "code",
      "source": [
        "X_final, target1, target2, target3 = get_data('mushroom')\n",
        "accuray_history, f1_history = adaptive_train(X_final, target1, target2, target3, batch_size, n_train, n_test, num_queries, adaptive = 'sigmoid', balance='Smote', multitarget=False)"
      ],
      "metadata": {
        "colab": {
          "base_uri": "https://localhost:8080/"
        },
        "id": "GEN5wyU9G0mb",
        "outputId": "247d07a0-e5ee-4c79-bbce-44ef2f45a89d"
      },
      "execution_count": null,
      "outputs": [
        {
          "output_type": "stream",
          "name": "stdout",
          "text": [
            "Initial Accuracy:  1.0 0.53 0.65\n",
            "Final Accuracy:  1.0 0.536 0.689\n",
            "\n",
            "Initial F1:  1.0 0.555 0.695\n",
            "Final F1:  1.0 0.554 0.743\n"
          ]
        }
      ]
    },
    {
      "cell_type": "code",
      "source": [
        "X_final, target1, target2, target3 = get_data('census')\n",
        "accuray_history, f1_history = adaptive_train(X_final, target1, target2, target3, batch_size, n_train, n_test, num_queries, adaptive = 'sigmoid', balance='Smote', multitarget=False)"
      ],
      "metadata": {
        "colab": {
          "base_uri": "https://localhost:8080/"
        },
        "id": "e1QbeNwlG0mb",
        "outputId": "ba7e87c4-3bcf-4a08-ba5c-7355634c251f"
      },
      "execution_count": null,
      "outputs": [
        {
          "output_type": "stream",
          "name": "stdout",
          "text": [
            "Initial Accuracy:  0.82 0.739 0.588\n",
            "Final Accuracy:  0.838 0.766 0.635\n",
            "\n",
            "Initial F1:  0.768 0.399 0.181\n",
            "Final F1:  0.778 0.414 0.223\n"
          ]
        }
      ]
    },
    {
      "cell_type": "code",
      "source": [
        "X_final, target1, target2, target3 = get_data('bank')\n",
        "accuray_history, f1_history = adaptive_train(X_final, target1, target2, target3, batch_size, n_train, n_test, num_queries, adaptive = 'sigmoid', balance='Smote', multitarget=False)"
      ],
      "metadata": {
        "colab": {
          "base_uri": "https://localhost:8080/"
        },
        "id": "FHl5HpLNG0mc",
        "outputId": "be41c361-ae2b-4ea7-cc8e-31c239347dcf"
      },
      "execution_count": null,
      "outputs": [
        {
          "output_type": "stream",
          "name": "stdout",
          "text": [
            "Initial Accuracy:  0.904 0.791 0.514\n",
            "Final Accuracy:  0.904 0.814 0.53\n",
            "\n",
            "Initial F1:  0.654 0.473 0.499\n",
            "Final F1:  0.755 0.483 0.512\n"
          ]
        }
      ]
    },
    {
      "cell_type": "code",
      "source": [
        "X_final, target1, target2, target3 = get_data('intention')\n",
        "accuray_history, f1_history = adaptive_train(X_final, target1, target2, target3, batch_size, n_train, n_test, num_queries, adaptive = 'sigmoid', balance='Smote', multitarget=False)"
      ],
      "metadata": {
        "colab": {
          "base_uri": "https://localhost:8080/"
        },
        "id": "TITgynROG0mc",
        "outputId": "4450cda5-611f-4c47-cf79-4d3c49c79cbd"
      },
      "execution_count": null,
      "outputs": [
        {
          "output_type": "stream",
          "name": "stdout",
          "text": [
            "Initial Accuracy:  0.936 0.148 0.986\n",
            "Final Accuracy:  0.949 0.828 0.998\n",
            "\n",
            "Initial F1:  0.817 0.143 0.199\n",
            "Final F1:  0.871 0.707 0.25\n"
          ]
        }
      ]
    },
    {
      "cell_type": "code",
      "source": [
        "X_final, target1, target2, target3 = get_data('anuran')\n",
        "accuray_history, f1_history = adaptive_train(X_final, target1, target2, target3, batch_size, n_train, n_test, num_queries, adaptive = 'sigmoid', balance='Smote', multitarget=False)"
      ],
      "metadata": {
        "colab": {
          "base_uri": "https://localhost:8080/"
        },
        "id": "O9iugD7vG0md",
        "outputId": "6c1df3d4-e044-4fba-ed50-7e8e8c0b5346"
      },
      "execution_count": null,
      "outputs": [
        {
          "output_type": "stream",
          "name": "stdout",
          "text": [
            "Initial Accuracy:  0.374 0.212 0.219\n",
            "Final Accuracy:  0.351 0.214 0.245\n",
            "\n",
            "Initial F1:  0.193 0.066 0.074\n",
            "Final F1:  0.25 0.084 0.081\n"
          ]
        }
      ]
    },
    {
      "cell_type": "code",
      "source": [
        "X_final, target1, target2, target3 = get_data('telco')\n",
        "accuray_history, f1_history = adaptive_train(X_final, target1, target2, target3, batch_size, n_train, n_test, num_queries, adaptive = 'sigmoid', balance='Smote', multitarget=False)"
      ],
      "metadata": {
        "colab": {
          "base_uri": "https://localhost:8080/"
        },
        "id": "BLKRylWwG0md",
        "outputId": "162b9f6e-fc42-4ddd-e48d-9650a1ac45b3"
      },
      "execution_count": null,
      "outputs": [
        {
          "output_type": "stream",
          "name": "stdout",
          "text": [
            "Initial Accuracy:  0.794 0.72 0.438\n",
            "Final Accuracy:  0.79 0.729 0.463\n",
            "\n",
            "Initial F1:  0.729 0.643 0.42\n",
            "Final F1:  0.738 0.663 0.443\n"
          ]
        }
      ]
    },
    {
      "cell_type": "code",
      "source": [
        "X_final, target1, target2, target3 = get_data('paris')\n",
        "accuray_history, f1_history = adaptive_train(X_final, target1, target2, target3, batch_size, n_train, n_test, num_queries, adaptive = 'sigmoid', balance='Smote', multitarget=False)"
      ],
      "metadata": {
        "colab": {
          "base_uri": "https://localhost:8080/"
        },
        "id": "7gu4Hve8G0me",
        "outputId": "65fd8b19-608d-4378-da58-5cfaa729dae3"
      },
      "execution_count": null,
      "outputs": [
        {
          "output_type": "stream",
          "name": "stdout",
          "text": [
            "Initial Accuracy:  0.88 0.503 0.495\n",
            "Final Accuracy:  0.873 0.511 0.523\n",
            "\n",
            "Initial F1:  0.748 0.503 0.495\n",
            "Final F1:  0.783 0.511 0.523\n"
          ]
        }
      ]
    },
    {
      "cell_type": "code",
      "source": [
        "X_final, target1, target2, target3 = get_data('smoking')\n",
        "accuray_history, f1_history = adaptive_train(X_final, target1, target2, target3, batch_size, n_train, n_test, num_queries, adaptive = 'sigmoid', balance='Smote', multitarget=False)"
      ],
      "metadata": {
        "colab": {
          "base_uri": "https://localhost:8080/"
        },
        "id": "ZROBiLXHG0me",
        "outputId": "2ed9ae7c-7937-4f7b-e0c5-e46daf3cf67f"
      },
      "execution_count": null,
      "outputs": [
        {
          "output_type": "stream",
          "name": "stdout",
          "text": [
            "Initial Accuracy:  0.722 0.531 0.706\n",
            "Final Accuracy:  0.754 0.548 0.711\n",
            "\n",
            "Initial F1:  0.708 0.521 0.534\n",
            "Final F1:  0.749 0.542 0.53\n"
          ]
        }
      ]
    },
    {
      "cell_type": "code",
      "source": [
        "X_final, target1, target2, target3 = get_data('flight')\n",
        "accuray_history, f1_history = adaptive_train(X_final, target1, target2, target3, batch_size, n_train, n_test, num_queries, adaptive = 'sigmoid', balance='Smote', multitarget=False)"
      ],
      "metadata": {
        "colab": {
          "base_uri": "https://localhost:8080/"
        },
        "id": "NjljeHaAG0mf",
        "outputId": "d39e0a52-347e-43b9-9289-1b0cd34bb469"
      },
      "execution_count": null,
      "outputs": [
        {
          "output_type": "stream",
          "name": "stdout",
          "text": [
            "Initial Accuracy:  0.902 0.914 0.744\n",
            "Final Accuracy:  0.929 0.934 0.802\n",
            "\n",
            "Initial F1:  0.9 0.826 0.555\n",
            "Final F1:  0.928 0.878 0.592\n"
          ]
        }
      ]
    },
    {
      "cell_type": "markdown",
      "source": [
        "#####Adaptive (Fixed) + Single target + SMOTE"
      ],
      "metadata": {
        "id": "DY6jiM_k8rYp"
      }
    },
    {
      "cell_type": "code",
      "source": [
        "X_final, target1, target2, target3 = get_data('imdb')\n",
        "accuray_history, f1_history = adaptive_train(X_final, target1, target2, target3, batch_size, n_train, n_test, num_queries, adaptive = 'fixed', balance='Smote', multitarget=False)"
      ],
      "metadata": {
        "colab": {
          "base_uri": "https://localhost:8080/"
        },
        "id": "rCYclbZcHBHK",
        "outputId": "d1c1a760-5f91-4b2f-ba28-d6886dbe6758"
      },
      "execution_count": null,
      "outputs": [
        {
          "output_type": "stream",
          "name": "stdout",
          "text": [
            "Initial Accuracy:  0.784 0.472 0.731\n",
            "Final Accuracy:  0.871 0.609 0.928\n",
            "\n",
            "Initial F1:  0.416 0.28 0.541\n",
            "Final F1:  0.646 0.455 0.72\n"
          ]
        }
      ]
    },
    {
      "cell_type": "code",
      "source": [
        "X_final, target1, target2, target3 = get_data('mushroom')\n",
        "accuray_history, f1_history = adaptive_train(X_final, target1, target2, target3, batch_size, n_train, n_test, num_queries, adaptive = 'fixed', balance='Smote', multitarget=False)"
      ],
      "metadata": {
        "colab": {
          "base_uri": "https://localhost:8080/"
        },
        "id": "xys3g8rhHBHL",
        "outputId": "9a7b309e-50d5-4bf2-fbd5-bd8fa60d09f9"
      },
      "execution_count": null,
      "outputs": [
        {
          "output_type": "stream",
          "name": "stdout",
          "text": [
            "Initial Accuracy:  1.0 0.53 0.65\n",
            "Final Accuracy:  1.0 0.533 0.691\n",
            "\n",
            "Initial F1:  1.0 0.555 0.695\n",
            "Final F1:  1.0 0.549 0.745\n"
          ]
        }
      ]
    },
    {
      "cell_type": "code",
      "source": [
        "X_final, target1, target2, target3 = get_data('census')\n",
        "accuray_history, f1_history = adaptive_train(X_final, target1, target2, target3, batch_size, n_train, n_test, num_queries, adaptive = 'fixed', balance='Smote', multitarget=False)"
      ],
      "metadata": {
        "colab": {
          "base_uri": "https://localhost:8080/"
        },
        "id": "EAdv4sjoHBHM",
        "outputId": "0d664a6a-3144-4101-fe27-389ec282f8e6"
      },
      "execution_count": null,
      "outputs": [
        {
          "output_type": "stream",
          "name": "stdout",
          "text": [
            "Initial Accuracy:  0.82 0.739 0.588\n",
            "Final Accuracy:  0.826 0.782 0.642\n",
            "\n",
            "Initial F1:  0.768 0.399 0.181\n",
            "Final F1:  0.771 0.44 0.225\n"
          ]
        }
      ]
    },
    {
      "cell_type": "code",
      "source": [
        "X_final, target1, target2, target3 = get_data('bank')\n",
        "accuray_history, f1_history = adaptive_train(X_final, target1, target2, target3, batch_size, n_train, n_test, num_queries, adaptive = 'fixed', balance='Smote', multitarget=False)"
      ],
      "metadata": {
        "colab": {
          "base_uri": "https://localhost:8080/"
        },
        "id": "m665m-hUHBHM",
        "outputId": "b44c880d-3203-431d-9bbe-435fb7fa5fd5"
      },
      "execution_count": null,
      "outputs": [
        {
          "output_type": "stream",
          "name": "stdout",
          "text": [
            "Initial Accuracy:  0.904 0.791 0.514\n",
            "Final Accuracy:  0.895 0.827 0.534\n",
            "\n",
            "Initial F1:  0.654 0.473 0.499\n",
            "Final F1:  0.731 0.453 0.507\n"
          ]
        }
      ]
    },
    {
      "cell_type": "code",
      "source": [
        "X_final, target1, target2, target3 = get_data('intention')\n",
        "accuray_history, f1_history = adaptive_train(X_final, target1, target2, target3, batch_size, n_train, n_test, num_queries, adaptive = 'fixed', balance='Smote', multitarget=False)"
      ],
      "metadata": {
        "colab": {
          "base_uri": "https://localhost:8080/"
        },
        "id": "Ufx_7S0EHBHN",
        "outputId": "a241ecfe-8bc3-4508-ebe6-90d398dc000b"
      },
      "execution_count": null,
      "outputs": [
        {
          "output_type": "stream",
          "name": "stdout",
          "text": [
            "Initial Accuracy:  0.936 0.148 0.986\n",
            "Final Accuracy:  0.95 0.761 0.998\n",
            "\n",
            "Initial F1:  0.817 0.143 0.199\n",
            "Final F1:  0.872 0.655 0.25\n"
          ]
        }
      ]
    },
    {
      "cell_type": "code",
      "source": [
        "X_final, target1, target2, target3 = get_data('anuran')\n",
        "accuray_history, f1_history = adaptive_train(X_final, target1, target2, target3, batch_size, n_train, n_test, num_queries, adaptive = 'fixed', balance='Smote', multitarget=False)"
      ],
      "metadata": {
        "colab": {
          "base_uri": "https://localhost:8080/"
        },
        "id": "kiFlKkA0HBHN",
        "outputId": "cff104ad-5b46-42c6-f4df-a4efd6ed6644"
      },
      "execution_count": null,
      "outputs": [
        {
          "output_type": "stream",
          "name": "stdout",
          "text": [
            "Initial Accuracy:  0.374 0.212 0.219\n",
            "Final Accuracy:  0.363 0.287 0.268\n",
            "\n",
            "Initial F1:  0.193 0.066 0.074\n",
            "Final F1:  0.249 0.11 0.081\n"
          ]
        }
      ]
    },
    {
      "cell_type": "code",
      "source": [
        "X_final, target1, target2, target3 = get_data('telco')\n",
        "accuray_history, f1_history = adaptive_train(X_final, target1, target2, target3, batch_size, n_train, n_test, num_queries, adaptive = 'fixed', balance='Smote', multitarget=False)"
      ],
      "metadata": {
        "colab": {
          "base_uri": "https://localhost:8080/"
        },
        "id": "nu0UE8o_HBHO",
        "outputId": "3f2604e1-4f25-499e-f566-7b718a66caaf"
      },
      "execution_count": null,
      "outputs": [
        {
          "output_type": "stream",
          "name": "stdout",
          "text": [
            "Initial Accuracy:  0.794 0.72 0.438\n",
            "Final Accuracy:  0.807 0.728 0.458\n",
            "\n",
            "Initial F1:  0.729 0.643 0.42\n",
            "Final F1:  0.761 0.653 0.435\n"
          ]
        }
      ]
    },
    {
      "cell_type": "code",
      "source": [
        "X_final, target1, target2, target3 = get_data('paris')\n",
        "accuray_history, f1_history = adaptive_train(X_final, target1, target2, target3, batch_size, n_train, n_test, num_queries, adaptive = 'fixed', balance='Smote', multitarget=False)"
      ],
      "metadata": {
        "colab": {
          "base_uri": "https://localhost:8080/"
        },
        "id": "w9iPddDOHBHO",
        "outputId": "fd46354b-d2ff-405a-d061-bd4cb85c61ac"
      },
      "execution_count": null,
      "outputs": [
        {
          "output_type": "stream",
          "name": "stdout",
          "text": [
            "Initial Accuracy:  0.88 0.503 0.495\n",
            "Final Accuracy:  0.873 0.484 0.528\n",
            "\n",
            "Initial F1:  0.748 0.503 0.495\n",
            "Final F1:  0.778 0.484 0.528\n"
          ]
        }
      ]
    },
    {
      "cell_type": "code",
      "source": [
        "X_final, target1, target2, target3 = get_data('smoking')\n",
        "accuray_history, f1_history = adaptive_train(X_final, target1, target2, target3, batch_size, n_train, n_test, num_queries, adaptive = 'fixed', balance='Smote', multitarget=False)"
      ],
      "metadata": {
        "colab": {
          "base_uri": "https://localhost:8080/"
        },
        "id": "0R7nUHcWHBHO",
        "outputId": "9d278e5f-71e5-4863-ac51-658bd5b7d500"
      },
      "execution_count": null,
      "outputs": [
        {
          "output_type": "stream",
          "name": "stdout",
          "text": [
            "Initial Accuracy:  0.722 0.531 0.706\n",
            "Final Accuracy:  0.735 0.544 0.711\n",
            "\n",
            "Initial F1:  0.708 0.521 0.534\n",
            "Final F1:  0.731 0.535 0.526\n"
          ]
        }
      ]
    },
    {
      "cell_type": "code",
      "source": [
        "X_final, target1, target2, target3 = get_data('flight')\n",
        "accuray_history, f1_history = adaptive_train(X_final, target1, target2, target3, batch_size, n_train, n_test, num_queries, adaptive = 'fixed', balance='Smote', multitarget=False)"
      ],
      "metadata": {
        "colab": {
          "base_uri": "https://localhost:8080/"
        },
        "id": "WTVCSAknHBHP",
        "outputId": "129a6099-a734-4a02-8983-3a2eef29ab1c"
      },
      "execution_count": null,
      "outputs": [
        {
          "output_type": "stream",
          "name": "stdout",
          "text": [
            "Initial Accuracy:  0.902 0.914 0.744\n",
            "Final Accuracy:  0.932 0.945 0.787\n",
            "\n",
            "Initial F1:  0.9 0.826 0.555\n",
            "Final F1:  0.931 0.899 0.582\n"
          ]
        }
      ]
    },
    {
      "cell_type": "markdown",
      "source": [
        "#####Adaptive (Softmax) + Single target + Random"
      ],
      "metadata": {
        "id": "G8RyWb8U8yP-"
      }
    },
    {
      "cell_type": "code",
      "source": [
        "X_final, target1, target2, target3 = get_data('imdb')\n",
        "accuray_history, f1_history = adaptive_train(X_final, target1, target2, target3, batch_size, n_train, n_test, num_queries, adaptive = 'softmax', balance='Random', multitarget=False)"
      ],
      "metadata": {
        "colab": {
          "base_uri": "https://localhost:8080/"
        },
        "id": "SUghHLq9HiZb",
        "outputId": "af360914-6afc-4243-9025-b523923e15c1"
      },
      "execution_count": null,
      "outputs": [
        {
          "output_type": "stream",
          "name": "stdout",
          "text": [
            "Initial Accuracy:  0.761 0.45 0.76\n",
            "Final Accuracy:  0.825 0.601 0.913\n",
            "\n",
            "Initial F1:  0.409 0.268 0.573\n",
            "Final F1:  0.61 0.419 0.677\n"
          ]
        }
      ]
    },
    {
      "cell_type": "code",
      "source": [
        "X_final, target1, target2, target3 = get_data('mushroom')\n",
        "accuray_history, f1_history = adaptive_train(X_final, target1, target2, target3, batch_size, n_train, n_test, num_queries, adaptive = 'softmax', balance='Random', multitarget=False)"
      ],
      "metadata": {
        "colab": {
          "base_uri": "https://localhost:8080/"
        },
        "id": "6oNIBT4mHiZc",
        "outputId": "856fe59c-6e6e-4720-e9d0-8bc50e7e7b0a"
      },
      "execution_count": null,
      "outputs": [
        {
          "output_type": "stream",
          "name": "stdout",
          "text": [
            "Initial Accuracy:  1.0 0.515 0.635\n",
            "Final Accuracy:  1.0 0.533 0.691\n",
            "\n",
            "Initial F1:  1.0 0.541 0.674\n",
            "Final F1:  1.0 0.556 0.745\n"
          ]
        }
      ]
    },
    {
      "cell_type": "code",
      "source": [
        "X_final, target1, target2, target3 = get_data('census')\n",
        "accuray_history, f1_history = adaptive_train(X_final, target1, target2, target3, batch_size, n_train, n_test, num_queries, adaptive = 'softmax', balance='Random', multitarget=False)"
      ],
      "metadata": {
        "colab": {
          "base_uri": "https://localhost:8080/"
        },
        "id": "nBovGTRgHiZc",
        "outputId": "7ee2b53c-6ac8-42e9-eb1f-3ec65ff9006f"
      },
      "execution_count": null,
      "outputs": [
        {
          "output_type": "stream",
          "name": "stdout",
          "text": [
            "Initial Accuracy:  0.81 0.747 0.455\n",
            "Final Accuracy:  0.795 0.761 0.45\n",
            "\n",
            "Initial F1:  0.765 0.389 0.187\n",
            "Final F1:  0.766 0.421 0.207\n"
          ]
        }
      ]
    },
    {
      "cell_type": "code",
      "source": [
        "X_final, target1, target2, target3 = get_data('bank')\n",
        "accuray_history, f1_history = adaptive_train(X_final, target1, target2, target3, batch_size, n_train, n_test, num_queries, adaptive = 'softmax', balance='Random', multitarget=False)"
      ],
      "metadata": {
        "colab": {
          "base_uri": "https://localhost:8080/"
        },
        "id": "cgYXxN8RHiZc",
        "outputId": "9857e5a0-3977-4167-893a-f1a55776189a"
      },
      "execution_count": null,
      "outputs": [
        {
          "output_type": "stream",
          "name": "stdout",
          "text": [
            "Initial Accuracy:  0.904 0.758 0.511\n",
            "Final Accuracy:  0.891 0.705 0.527\n",
            "\n",
            "Initial F1:  0.674 0.491 0.506\n",
            "Final F1:  0.764 0.524 0.526\n"
          ]
        }
      ]
    },
    {
      "cell_type": "code",
      "source": [
        "X_final, target1, target2, target3 = get_data('intention')\n",
        "accuray_history, f1_history = adaptive_train(X_final, target1, target2, target3, batch_size, n_train, n_test, num_queries, adaptive = 'softmax', balance='Random', multitarget=False)"
      ],
      "metadata": {
        "colab": {
          "base_uri": "https://localhost:8080/"
        },
        "id": "PzCKcUgAHiZc",
        "outputId": "29b30bcd-30c1-4929-b13d-977ce269acb7"
      },
      "execution_count": null,
      "outputs": [
        {
          "output_type": "stream",
          "name": "stdout",
          "text": [
            "Initial Accuracy:  0.935 0.131 0.997\n",
            "Final Accuracy:  0.951 0.726 0.997\n",
            "\n",
            "Initial F1:  0.799 0.124 0.25\n",
            "Final F1:  0.875 0.623 0.2\n"
          ]
        }
      ]
    },
    {
      "cell_type": "code",
      "source": [
        "X_final, target1, target2, target3 = get_data('anuran')\n",
        "accuray_history, f1_history = adaptive_train(X_final, target1, target2, target3, batch_size, n_train, n_test, num_queries, adaptive = 'softmax', balance='Random', multitarget=False)"
      ],
      "metadata": {
        "colab": {
          "base_uri": "https://localhost:8080/"
        },
        "id": "Yd3pE1YCHiZc",
        "outputId": "15f359f5-603f-45ed-aa49-97f7ae523c6c"
      },
      "execution_count": null,
      "outputs": [
        {
          "output_type": "stream",
          "name": "stdout",
          "text": [
            "Initial Accuracy:  0.316 0.233 0.209\n",
            "Final Accuracy:  0.35 0.267 0.264\n",
            "\n",
            "Initial F1:  0.174 0.086 0.062\n",
            "Final F1:  0.25 0.103 0.08\n"
          ]
        }
      ]
    },
    {
      "cell_type": "code",
      "source": [
        "X_final, target1, target2, target3 = get_data('telco')\n",
        "accuray_history, f1_history = adaptive_train(X_final, target1, target2, target3, batch_size, n_train, n_test, num_queries, adaptive = 'softmax', balance='Random', multitarget=False)"
      ],
      "metadata": {
        "colab": {
          "base_uri": "https://localhost:8080/"
        },
        "id": "sHOweqCUHiZc",
        "outputId": "4c205828-e9a1-41dd-ced0-cc8180315002"
      },
      "execution_count": null,
      "outputs": [
        {
          "output_type": "stream",
          "name": "stdout",
          "text": [
            "Initial Accuracy:  0.783 0.71 0.429\n",
            "Final Accuracy:  0.76 0.721 0.45\n",
            "\n",
            "Initial F1:  0.729 0.645 0.411\n",
            "Final F1:  0.727 0.672 0.431\n"
          ]
        }
      ]
    },
    {
      "cell_type": "code",
      "source": [
        "X_final, target1, target2, target3 = get_data('paris')\n",
        "accuray_history, f1_history = adaptive_train(X_final, target1, target2, target3, batch_size, n_train, n_test, num_queries, adaptive = 'softmax', balance='Random', multitarget=False)"
      ],
      "metadata": {
        "colab": {
          "base_uri": "https://localhost:8080/"
        },
        "id": "phJ98wKZHiZd",
        "outputId": "c3173f01-3844-4608-c69e-0a8cf19db3e5"
      },
      "execution_count": null,
      "outputs": [
        {
          "output_type": "stream",
          "name": "stdout",
          "text": [
            "Initial Accuracy:  0.872 0.481 0.495\n",
            "Final Accuracy:  0.875 0.496 0.484\n",
            "\n",
            "Initial F1:  0.717 0.48 0.495\n",
            "Final F1:  0.788 0.495 0.484\n"
          ]
        }
      ]
    },
    {
      "cell_type": "code",
      "source": [
        "X_final, target1, target2, target3 = get_data('smoking')\n",
        "accuray_history, f1_history = adaptive_train(X_final, target1, target2, target3, batch_size, n_train, n_test, num_queries, adaptive = 'softmax', balance='Random', multitarget=False)"
      ],
      "metadata": {
        "colab": {
          "base_uri": "https://localhost:8080/"
        },
        "id": "jUI49IYbHiZd",
        "outputId": "945adb7f-ec93-462d-d7e8-984b8e47dd6d"
      },
      "execution_count": null,
      "outputs": [
        {
          "output_type": "stream",
          "name": "stdout",
          "text": [
            "Initial Accuracy:  0.712 0.524 0.717\n",
            "Final Accuracy:  0.738 0.559 0.698\n",
            "\n",
            "Initial F1:  0.698 0.514 0.539\n",
            "Final F1:  0.731 0.555 0.556\n"
          ]
        }
      ]
    },
    {
      "cell_type": "code",
      "source": [
        "X_final, target1, target2, target3 = get_data('flight')\n",
        "accuray_history, f1_history = adaptive_train(X_final, target1, target2, target3, batch_size, n_train, n_test, num_queries, adaptive = 'softmax', balance='Random', multitarget=False)"
      ],
      "metadata": {
        "colab": {
          "base_uri": "https://localhost:8080/"
        },
        "id": "TxBlLXfTHiZd",
        "outputId": "ef15e067-3bff-41a2-c4a1-1deb4af82f75"
      },
      "execution_count": null,
      "outputs": [
        {
          "output_type": "stream",
          "name": "stdout",
          "text": [
            "Initial Accuracy:  0.89 0.905 0.759\n",
            "Final Accuracy:  0.93 0.919 0.78\n",
            "\n",
            "Initial F1:  0.888 0.829 0.576\n",
            "Final F1:  0.929 0.863 0.598\n"
          ]
        }
      ]
    },
    {
      "cell_type": "markdown",
      "source": [
        "#####Adaptive (Sigmoid) + Single target + Random"
      ],
      "metadata": {
        "id": "VoE4pP9q8yP-"
      }
    },
    {
      "cell_type": "code",
      "source": [
        "X_final, target1, target2, target3 = get_data('imdb')\n",
        "accuray_history, f1_history = adaptive_train(X_final, target1, target2, target3, batch_size, n_train, n_test, num_queries, adaptive = 'sigmoid', balance='Random', multitarget=False)"
      ],
      "metadata": {
        "colab": {
          "base_uri": "https://localhost:8080/"
        },
        "id": "7jZ3NzzOHzda",
        "outputId": "ef6fba9c-bd4e-4d71-ae09-c7797497ee01"
      },
      "execution_count": null,
      "outputs": [
        {
          "output_type": "stream",
          "name": "stdout",
          "text": [
            "Initial Accuracy:  0.761 0.45 0.76\n",
            "Final Accuracy:  0.805 0.63 0.919\n",
            "\n",
            "Initial F1:  0.409 0.268 0.573\n",
            "Final F1:  0.617 0.455 0.691\n"
          ]
        }
      ]
    },
    {
      "cell_type": "code",
      "source": [
        "X_final, target1, target2, target3 = get_data('mushroom')\n",
        "accuray_history, f1_history = adaptive_train(X_final, target1, target2, target3, batch_size, n_train, n_test, num_queries, adaptive = 'sigmoid', balance='Random', multitarget=False)"
      ],
      "metadata": {
        "colab": {
          "base_uri": "https://localhost:8080/"
        },
        "id": "qbc2Jq-ZHzdb",
        "outputId": "86b589c0-8878-48e9-cb6f-420fbf8f0785"
      },
      "execution_count": null,
      "outputs": [
        {
          "output_type": "stream",
          "name": "stdout",
          "text": [
            "Initial Accuracy:  1.0 0.515 0.635\n",
            "Final Accuracy:  1.0 0.528 0.691\n",
            "\n",
            "Initial F1:  1.0 0.541 0.674\n",
            "Final F1:  1.0 0.55 0.745\n"
          ]
        }
      ]
    },
    {
      "cell_type": "code",
      "source": [
        "X_final, target1, target2, target3 = get_data('census')\n",
        "accuray_history, f1_history = adaptive_train(X_final, target1, target2, target3, batch_size, n_train, n_test, num_queries, adaptive = 'sigmoid', balance='Random', multitarget=False)"
      ],
      "metadata": {
        "colab": {
          "base_uri": "https://localhost:8080/"
        },
        "id": "uI_KtnfmHzdb",
        "outputId": "f616ecc4-db57-4f9f-e0ac-ec12edb1844a"
      },
      "execution_count": null,
      "outputs": [
        {
          "output_type": "stream",
          "name": "stdout",
          "text": [
            "Initial Accuracy:  0.81 0.747 0.455\n",
            "Final Accuracy:  0.813 0.756 0.435\n",
            "\n",
            "Initial F1:  0.765 0.389 0.187\n",
            "Final F1:  0.782 0.418 0.228\n"
          ]
        }
      ]
    },
    {
      "cell_type": "code",
      "source": [
        "X_final, target1, target2, target3 = get_data('bank')\n",
        "accuray_history, f1_history = adaptive_train(X_final, target1, target2, target3, batch_size, n_train, n_test, num_queries, adaptive = 'sigmoid', balance='Random', multitarget=False)"
      ],
      "metadata": {
        "colab": {
          "base_uri": "https://localhost:8080/"
        },
        "id": "FKfwTyR0Hzdb",
        "outputId": "d2b42e3b-dc4f-4f70-fa7e-e6088b4e3846"
      },
      "execution_count": null,
      "outputs": [
        {
          "output_type": "stream",
          "name": "stdout",
          "text": [
            "Initial Accuracy:  0.904 0.758 0.511\n",
            "Final Accuracy:  0.871 0.748 0.523\n",
            "\n",
            "Initial F1:  0.674 0.491 0.506\n",
            "Final F1:  0.731 0.54 0.52\n"
          ]
        }
      ]
    },
    {
      "cell_type": "code",
      "source": [
        "X_final, target1, target2, target3 = get_data('intention')\n",
        "accuray_history, f1_history = adaptive_train(X_final, target1, target2, target3, batch_size, n_train, n_test, num_queries, adaptive = 'sigmoid', balance='Random', multitarget=False)"
      ],
      "metadata": {
        "colab": {
          "base_uri": "https://localhost:8080/"
        },
        "id": "AS97Cfw6Hzdc",
        "outputId": "4716601f-f829-4271-b969-afdeeb469014"
      },
      "execution_count": null,
      "outputs": [
        {
          "output_type": "stream",
          "name": "stdout",
          "text": [
            "Initial Accuracy:  0.935 0.131 0.997\n",
            "Final Accuracy:  0.949 0.782 0.998\n",
            "\n",
            "Initial F1:  0.799 0.124 0.25\n",
            "Final F1:  0.87 0.674 0.5\n"
          ]
        }
      ]
    },
    {
      "cell_type": "code",
      "source": [
        "X_final, target1, target2, target3 = get_data('anuran')\n",
        "accuray_history, f1_history = adaptive_train(X_final, target1, target2, target3, batch_size, n_train, n_test, num_queries, adaptive = 'sigmoid', balance='Random', multitarget=False)"
      ],
      "metadata": {
        "colab": {
          "base_uri": "https://localhost:8080/"
        },
        "id": "jRYVVsVGHzdc",
        "outputId": "abff5623-f0ec-4100-db9d-d7f406535ff8"
      },
      "execution_count": null,
      "outputs": [
        {
          "output_type": "stream",
          "name": "stdout",
          "text": [
            "Initial Accuracy:  0.316 0.233 0.209\n",
            "Final Accuracy:  0.44 0.26 0.26\n",
            "\n",
            "Initial F1:  0.174 0.086 0.062\n",
            "Final F1:  0.285 0.101 0.082\n"
          ]
        }
      ]
    },
    {
      "cell_type": "code",
      "source": [
        "X_final, target1, target2, target3 = get_data('telco')\n",
        "accuray_history, f1_history = adaptive_train(X_final, target1, target2, target3, batch_size, n_train, n_test, num_queries, adaptive = 'sigmoid', balance='Random', multitarget=False)"
      ],
      "metadata": {
        "colab": {
          "base_uri": "https://localhost:8080/"
        },
        "id": "J-96sLhQHzdc",
        "outputId": "9f1dbbbc-9103-48ea-80c3-72fcdc430b44"
      },
      "execution_count": null,
      "outputs": [
        {
          "output_type": "stream",
          "name": "stdout",
          "text": [
            "Initial Accuracy:  0.783 0.71 0.429\n",
            "Final Accuracy:  0.76 0.728 0.443\n",
            "\n",
            "Initial F1:  0.729 0.645 0.411\n",
            "Final F1:  0.721 0.679 0.425\n"
          ]
        }
      ]
    },
    {
      "cell_type": "code",
      "source": [
        "X_final, target1, target2, target3 = get_data('paris')\n",
        "accuray_history, f1_history = adaptive_train(X_final, target1, target2, target3, batch_size, n_train, n_test, num_queries, adaptive = 'sigmoid', balance='Random', multitarget=False)"
      ],
      "metadata": {
        "colab": {
          "base_uri": "https://localhost:8080/"
        },
        "id": "hlSUN7hVHzdd",
        "outputId": "7ad74960-044b-4203-fa82-3140d86b8c19"
      },
      "execution_count": null,
      "outputs": [
        {
          "output_type": "stream",
          "name": "stdout",
          "text": [
            "Initial Accuracy:  0.872 0.481 0.495\n",
            "Final Accuracy:  0.875 0.513 0.492\n",
            "\n",
            "Initial F1:  0.717 0.48 0.495\n",
            "Final F1:  0.788 0.513 0.491\n"
          ]
        }
      ]
    },
    {
      "cell_type": "code",
      "source": [
        "X_final, target1, target2, target3 = get_data('smoking')\n",
        "accuray_history, f1_history = adaptive_train(X_final, target1, target2, target3, batch_size, n_train, n_test, num_queries, adaptive = 'sigmoid', balance='Random', multitarget=False)"
      ],
      "metadata": {
        "colab": {
          "base_uri": "https://localhost:8080/"
        },
        "id": "YZuxIuUSHzdd",
        "outputId": "e2c5d20c-abe1-4eeb-e159-cbc6cbbc3f42"
      },
      "execution_count": null,
      "outputs": [
        {
          "output_type": "stream",
          "name": "stdout",
          "text": [
            "Initial Accuracy:  0.712 0.524 0.717\n",
            "Final Accuracy:  0.752 0.51 0.733\n",
            "\n",
            "Initial F1:  0.698 0.514 0.539\n",
            "Final F1:  0.745 0.5 0.532\n"
          ]
        }
      ]
    },
    {
      "cell_type": "code",
      "source": [
        "X_final, target1, target2, target3 = get_data('flight')\n",
        "accuray_history, f1_history = adaptive_train(X_final, target1, target2, target3, batch_size, n_train, n_test, num_queries, adaptive = 'sigmoid', balance='Random', multitarget=False)"
      ],
      "metadata": {
        "colab": {
          "base_uri": "https://localhost:8080/"
        },
        "id": "fZm9mdtcHzdd",
        "outputId": "98149289-a670-41b4-f480-b74cf9173bbb"
      },
      "execution_count": null,
      "outputs": [
        {
          "output_type": "stream",
          "name": "stdout",
          "text": [
            "Initial Accuracy:  0.89 0.905 0.759\n",
            "Final Accuracy:  0.932 0.907 0.79\n",
            "\n",
            "Initial F1:  0.888 0.829 0.576\n",
            "Final F1:  0.931 0.845 0.621\n"
          ]
        }
      ]
    },
    {
      "cell_type": "markdown",
      "source": [
        "#####Adaptive (Fixed) + Single target + Random"
      ],
      "metadata": {
        "id": "DUHwf2OW8yP-"
      }
    },
    {
      "cell_type": "code",
      "source": [
        "X_final, target1, target2, target3 = get_data('imdb')\n",
        "accuray_history, f1_history = adaptive_train(X_final, target1, target2, target3, batch_size, n_train, n_test, num_queries, adaptive = 'fixed', balance='Random', multitarget=False)"
      ],
      "metadata": {
        "colab": {
          "base_uri": "https://localhost:8080/"
        },
        "id": "iVPLZJ5lH-MO",
        "outputId": "57918a6e-a3cf-44d8-d82c-25d84c65abce"
      },
      "execution_count": null,
      "outputs": [
        {
          "output_type": "stream",
          "name": "stdout",
          "text": [
            "Initial Accuracy:  0.761 0.45 0.76\n",
            "Final Accuracy:  0.816 0.61 0.906\n",
            "\n",
            "Initial F1:  0.409 0.268 0.573\n",
            "Final F1:  0.621 0.431 0.665\n"
          ]
        }
      ]
    },
    {
      "cell_type": "code",
      "source": [
        "X_final, target1, target2, target3 = get_data('mushroom')\n",
        "accuray_history, f1_history = adaptive_train(X_final, target1, target2, target3, batch_size, n_train, n_test, num_queries, adaptive = 'fixed', balance='Random', multitarget=False)"
      ],
      "metadata": {
        "colab": {
          "base_uri": "https://localhost:8080/"
        },
        "id": "WIjlFwahH-MP",
        "outputId": "16b3c82f-7da3-43c2-aac2-341f427b3a01"
      },
      "execution_count": null,
      "outputs": [
        {
          "output_type": "stream",
          "name": "stdout",
          "text": [
            "Initial Accuracy:  1.0 0.515 0.635\n",
            "Final Accuracy:  1.0 0.532 0.691\n",
            "\n",
            "Initial F1:  1.0 0.541 0.674\n",
            "Final F1:  1.0 0.554 0.745\n"
          ]
        }
      ]
    },
    {
      "cell_type": "code",
      "source": [
        "X_final, target1, target2, target3 = get_data('census')\n",
        "accuray_history, f1_history = adaptive_train(X_final, target1, target2, target3, batch_size, n_train, n_test, num_queries, adaptive = 'fixed', balance='Random', multitarget=False)"
      ],
      "metadata": {
        "colab": {
          "base_uri": "https://localhost:8080/"
        },
        "id": "bZgyySj7H-MP",
        "outputId": "6f9cbe01-665b-44fc-b1e3-fc865fc7a40d"
      },
      "execution_count": null,
      "outputs": [
        {
          "output_type": "stream",
          "name": "stdout",
          "text": [
            "Initial Accuracy:  0.81 0.747 0.455\n",
            "Final Accuracy:  0.798 0.76 0.403\n",
            "\n",
            "Initial F1:  0.765 0.389 0.187\n",
            "Final F1:  0.753 0.394 0.217\n"
          ]
        }
      ]
    },
    {
      "cell_type": "code",
      "source": [
        "X_final, target1, target2, target3 = get_data('bank')\n",
        "accuray_history, f1_history = adaptive_train(X_final, target1, target2, target3, batch_size, n_train, n_test, num_queries, adaptive = 'fixed', balance='Random', multitarget=False)"
      ],
      "metadata": {
        "colab": {
          "base_uri": "https://localhost:8080/"
        },
        "id": "1DwVqhjRH-MP",
        "outputId": "01d72b09-e565-495b-bd71-98f37b663c7f"
      },
      "execution_count": null,
      "outputs": [
        {
          "output_type": "stream",
          "name": "stdout",
          "text": [
            "Initial Accuracy:  0.904 0.758 0.511\n",
            "Final Accuracy:  0.888 0.698 0.526\n",
            "\n",
            "Initial F1:  0.674 0.491 0.506\n",
            "Final F1:  0.766 0.507 0.525\n"
          ]
        }
      ]
    },
    {
      "cell_type": "code",
      "source": [
        "X_final, target1, target2, target3 = get_data('intention')\n",
        "accuray_history, f1_history = adaptive_train(X_final, target1, target2, target3, batch_size, n_train, n_test, num_queries, adaptive = 'fixed', balance='Random', multitarget=False)"
      ],
      "metadata": {
        "colab": {
          "base_uri": "https://localhost:8080/"
        },
        "id": "u_m3XC12H-MP",
        "outputId": "dccdc817-1aef-4a56-f05d-7c5d43a4a5b1"
      },
      "execution_count": null,
      "outputs": [
        {
          "output_type": "stream",
          "name": "stdout",
          "text": [
            "Initial Accuracy:  0.935 0.131 0.997\n",
            "Final Accuracy:  0.947 0.78 0.997\n",
            "\n",
            "Initial F1:  0.799 0.124 0.25\n",
            "Final F1:  0.863 0.665 0.2\n"
          ]
        }
      ]
    },
    {
      "cell_type": "code",
      "source": [
        "X_final, target1, target2, target3 = get_data('anuran')\n",
        "accuray_history, f1_history = adaptive_train(X_final, target1, target2, target3, batch_size, n_train, n_test, num_queries, adaptive = 'fixed', balance='Random', multitarget=False)"
      ],
      "metadata": {
        "colab": {
          "base_uri": "https://localhost:8080/"
        },
        "id": "GK-bm9zBH-MP",
        "outputId": "58527eb4-1ee6-4dc5-f12b-b480bf573729"
      },
      "execution_count": null,
      "outputs": [
        {
          "output_type": "stream",
          "name": "stdout",
          "text": [
            "Initial Accuracy:  0.316 0.233 0.209\n",
            "Final Accuracy:  0.306 0.239 0.264\n",
            "\n",
            "Initial F1:  0.174 0.086 0.062\n",
            "Final F1:  0.228 0.094 0.077\n"
          ]
        }
      ]
    },
    {
      "cell_type": "code",
      "source": [
        "X_final, target1, target2, target3 = get_data('telco')\n",
        "accuray_history, f1_history = adaptive_train(X_final, target1, target2, target3, batch_size, n_train, n_test, num_queries, adaptive = 'fixed', balance='Random', multitarget=False)"
      ],
      "metadata": {
        "colab": {
          "base_uri": "https://localhost:8080/"
        },
        "id": "lOHWiI3tH-MP",
        "outputId": "6d93723c-a541-4ba7-ee62-313538599ca6"
      },
      "execution_count": null,
      "outputs": [
        {
          "output_type": "stream",
          "name": "stdout",
          "text": [
            "Initial Accuracy:  0.783 0.71 0.429\n",
            "Final Accuracy:  0.737 0.722 0.432\n",
            "\n",
            "Initial F1:  0.729 0.645 0.411\n",
            "Final F1:  0.706 0.672 0.418\n"
          ]
        }
      ]
    },
    {
      "cell_type": "code",
      "source": [
        "X_final, target1, target2, target3 = get_data('paris')\n",
        "accuray_history, f1_history = adaptive_train(X_final, target1, target2, target3, batch_size, n_train, n_test, num_queries, adaptive = 'fixed', balance='Random', multitarget=False)"
      ],
      "metadata": {
        "colab": {
          "base_uri": "https://localhost:8080/"
        },
        "id": "3pZLRTRHH-MQ",
        "outputId": "bdbc3307-cb56-4198-f395-8676f8534cde"
      },
      "execution_count": null,
      "outputs": [
        {
          "output_type": "stream",
          "name": "stdout",
          "text": [
            "Initial Accuracy:  0.872 0.481 0.495\n",
            "Final Accuracy:  0.875 0.509 0.487\n",
            "\n",
            "Initial F1:  0.717 0.48 0.495\n",
            "Final F1:  0.788 0.508 0.487\n"
          ]
        }
      ]
    },
    {
      "cell_type": "code",
      "source": [
        "X_final, target1, target2, target3 = get_data('smoking')\n",
        "accuray_history, f1_history = adaptive_train(X_final, target1, target2, target3, batch_size, n_train, n_test, num_queries, adaptive = 'fixed', balance='Random', multitarget=False)"
      ],
      "metadata": {
        "colab": {
          "base_uri": "https://localhost:8080/"
        },
        "id": "OkP-r6ohH-MQ",
        "outputId": "1c050a0f-ae21-426d-a00a-6bb0b5a3c559"
      },
      "execution_count": null,
      "outputs": [
        {
          "output_type": "stream",
          "name": "stdout",
          "text": [
            "Initial Accuracy:  0.712 0.524 0.717\n",
            "Final Accuracy:  0.738 0.538 0.706\n",
            "\n",
            "Initial F1:  0.698 0.514 0.539\n",
            "Final F1:  0.732 0.533 0.551\n"
          ]
        }
      ]
    },
    {
      "cell_type": "code",
      "source": [
        "X_final, target1, target2, target3 = get_data('flight')\n",
        "accuray_history, f1_history = adaptive_train(X_final, target1, target2, target3, batch_size, n_train, n_test, num_queries, adaptive = 'fixed', balance='Random', multitarget=False)"
      ],
      "metadata": {
        "colab": {
          "base_uri": "https://localhost:8080/"
        },
        "id": "W3K0JhNBH-MQ",
        "outputId": "eacc78d6-55b4-4cb0-c300-ceb7c070f86f"
      },
      "execution_count": null,
      "outputs": [
        {
          "output_type": "stream",
          "name": "stdout",
          "text": [
            "Initial Accuracy:  0.89 0.905 0.759\n",
            "Final Accuracy:  0.925 0.925 0.788\n",
            "\n",
            "Initial F1:  0.888 0.829 0.576\n",
            "Final F1:  0.924 0.874 0.605\n"
          ]
        }
      ]
    },
    {
      "cell_type": "markdown",
      "source": [
        "#####Baseline + Multi target + No sampling"
      ],
      "metadata": {
        "id": "7JRzHtQB8-n4"
      }
    },
    {
      "cell_type": "code",
      "source": [
        "X_final, target1, target2, target3 = get_data('bank')\n",
        "accuray_history, f1_history = baseline_train(X_final, target1, target2, target3, batch_size, n_train, n_test, num_queries, balance='None', multitarget=True)"
      ],
      "metadata": {
        "colab": {
          "base_uri": "https://localhost:8080/"
        },
        "outputId": "1b2ad9a7-50a1-435d-ac90-951d40c4e798",
        "id": "9IdjEFVeKszL"
      },
      "execution_count": null,
      "outputs": [
        {
          "output_type": "stream",
          "name": "stdout",
          "text": [
            "Initial Accuracy:  0.904 0.825 0.524\n",
            "Final Accuracy:  0.907 0.827 0.509\n",
            "\n",
            "Initial F1:  0.611 0.463 0.484\n",
            "Final F1:  0.696 0.458 0.486\n"
          ]
        }
      ]
    },
    {
      "cell_type": "code",
      "source": [
        "X_final, target1, target2, target3 = get_data('paris')\n",
        "accuray_history, f1_history = baseline_train(X_final, target1, target2, target3, batch_size, n_train, n_test, num_queries, balance='None', multitarget=True)"
      ],
      "metadata": {
        "colab": {
          "base_uri": "https://localhost:8080/"
        },
        "outputId": "82a510e8-3217-4c94-9d4c-da518e5bfd69",
        "id": "ep01Y8byKszM"
      },
      "execution_count": null,
      "outputs": [
        {
          "output_type": "stream",
          "name": "stdout",
          "text": [
            "Initial Accuracy:  0.883 0.494 0.492\n",
            "Final Accuracy:  0.881 0.512 0.481\n",
            "\n",
            "Initial F1:  0.581 0.488 0.491\n",
            "Final F1:  0.635 0.512 0.474\n"
          ]
        }
      ]
    },
    {
      "cell_type": "code",
      "source": [
        "X_final, target1, target2, target3 = get_data('smoking')\n",
        "accuray_history, f1_history = baseline_train(X_final, target1, target2, target3, batch_size, n_train, n_test, num_queries, balance='None', multitarget=True)"
      ],
      "metadata": {
        "colab": {
          "base_uri": "https://localhost:8080/"
        },
        "outputId": "2334b6e0-c473-44c0-8a8e-7707905ab6f6",
        "id": "MXPbrcLDKszM"
      },
      "execution_count": null,
      "outputs": [
        {
          "output_type": "stream",
          "name": "stdout",
          "text": [
            "Initial Accuracy:  0.708 0.518 0.796\n",
            "Final Accuracy:  0.733 0.554 0.794\n",
            "\n",
            "Initial F1:  0.677 0.496 0.453\n",
            "Final F1:  0.702 0.52 0.443\n"
          ]
        }
      ]
    },
    {
      "cell_type": "markdown",
      "source": [
        "#####Baseline + Multi target + ML sampling"
      ],
      "metadata": {
        "id": "MrFpjGwi9QYr"
      }
    },
    {
      "cell_type": "code",
      "source": [
        "X_final, target1, target2, target3 = get_data('bank')\n",
        "accuray_history, f1_history = baseline_train(X_final, target1, target2, target3, batch_size, n_train, n_test, num_queries, balance='mlsample', multitarget=True)"
      ],
      "metadata": {
        "colab": {
          "base_uri": "https://localhost:8080/"
        },
        "outputId": "6fdb8c70-425b-470a-dcac-085a20503f69",
        "id": "p2mrYMBGK6sg"
      },
      "execution_count": null,
      "outputs": [
        {
          "output_type": "stream",
          "name": "stdout",
          "text": [
            "Initial Accuracy:  0.9 0.803 0.518\n",
            "Final Accuracy:  0.902 0.799 0.513\n",
            "\n",
            "Initial F1:  0.635 0.495 0.499\n",
            "Final F1:  0.71 0.472 0.504\n"
          ]
        }
      ]
    },
    {
      "cell_type": "code",
      "source": [
        "X_final, target1, target2, target3 = get_data('paris')\n",
        "accuray_history, f1_history = baseline_train(X_final, target1, target2, target3, batch_size, n_train, n_test, num_queries, balance='mlsample', multitarget=True)"
      ],
      "metadata": {
        "colab": {
          "base_uri": "https://localhost:8080/"
        },
        "outputId": "a73fbfaf-3278-4d28-c41c-969a752541f9",
        "id": "FetsupznK6sh"
      },
      "execution_count": null,
      "outputs": [
        {
          "output_type": "stream",
          "name": "stdout",
          "text": [
            "Initial Accuracy:  0.879 0.494 0.482\n",
            "Final Accuracy:  0.875 0.48 0.5\n",
            "\n",
            "Initial F1:  0.499 0.492 0.481\n",
            "Final F1:  0.642 0.479 0.495\n"
          ]
        }
      ]
    },
    {
      "cell_type": "code",
      "source": [
        "X_final, target1, target2, target3 = get_data('smoking')\n",
        "accuray_history, f1_history = baseline_train(X_final, target1, target2, target3, batch_size, n_train, n_test, num_queries, balance='mlsample', multitarget=True)"
      ],
      "metadata": {
        "colab": {
          "base_uri": "https://localhost:8080/"
        },
        "outputId": "e1eeec06-891f-4631-d2e5-44c7078fdde9",
        "id": "pyxAcTsWK6sh"
      },
      "execution_count": null,
      "outputs": [
        {
          "output_type": "stream",
          "name": "stdout",
          "text": [
            "Initial Accuracy:  0.725 0.536 0.766\n",
            "Final Accuracy:  0.745 0.498 0.794\n",
            "\n",
            "Initial F1:  0.705 0.515 0.508\n",
            "Final F1:  0.73 0.479 0.457\n"
          ]
        }
      ]
    },
    {
      "cell_type": "markdown",
      "source": [
        "#####Adaptive (Softmax) + Multi target + No sampling"
      ],
      "metadata": {
        "id": "2G_4hxJa8-n5"
      }
    },
    {
      "cell_type": "code",
      "source": [
        "X_final, target1, target2, target3 = get_data('bank')\n",
        "accuray_history, f1_history = adaptive_train(X_final, target1, target2, target3, batch_size, n_train, n_test, num_queries, adaptive = 'softmax', balance='None', multitarget=True)"
      ],
      "metadata": {
        "colab": {
          "base_uri": "https://localhost:8080/"
        },
        "id": "yzWqGTznLil6",
        "outputId": "88abbd26-58a5-404d-ad2f-73e2ba5389ad"
      },
      "execution_count": null,
      "outputs": [
        {
          "output_type": "stream",
          "name": "stdout",
          "text": [
            "Initial Accuracy:  0.904 0.825 0.524\n",
            "Final Accuracy:  0.907 0.826 0.514\n",
            "\n",
            "Initial F1:  0.611 0.463 0.484\n",
            "Final F1:  0.696 0.458 0.501\n"
          ]
        }
      ]
    },
    {
      "cell_type": "code",
      "source": [
        "X_final, target1, target2, target3 = get_data('paris')\n",
        "accuray_history, f1_history = adaptive_train(X_final, target1, target2, target3, batch_size, n_train, n_test, num_queries, adaptive = 'softmax', balance='None', multitarget=True)"
      ],
      "metadata": {
        "colab": {
          "base_uri": "https://localhost:8080/"
        },
        "id": "bEwTOl2ULil7",
        "outputId": "7c2ebc0b-da16-4181-db52-47bc95ce6324"
      },
      "execution_count": null,
      "outputs": [
        {
          "output_type": "stream",
          "name": "stdout",
          "text": [
            "Initial Accuracy:  0.883 0.494 0.492\n",
            "Final Accuracy:  0.867 0.514 0.507\n",
            "\n",
            "Initial F1:  0.581 0.488 0.491\n",
            "Final F1:  0.686 0.512 0.5\n"
          ]
        }
      ]
    },
    {
      "cell_type": "code",
      "source": [
        "ctory = adaptive_train(X_final, target1, target2, target3, batch_size, n_train, n_test, num_queries, adaptive = 'softmax', balance='None', multitarget=True)"
      ],
      "metadata": {
        "colab": {
          "base_uri": "https://localhost:8080/"
        },
        "id": "DxfFKfQuLil7",
        "outputId": "cee915ec-8b29-4cc5-b73d-b357da369c8f"
      },
      "execution_count": null,
      "outputs": [
        {
          "output_type": "stream",
          "name": "stdout",
          "text": [
            "Initial Accuracy:  0.883 0.494 0.492\n",
            "Final Accuracy:  0.867 0.514 0.507\n",
            "\n",
            "Initial F1:  0.581 0.488 0.491\n",
            "Final F1:  0.686 0.512 0.5\n"
          ]
        }
      ]
    },
    {
      "cell_type": "markdown",
      "source": [
        "#####Adaptive (Softmax) + Multi target + ML sampling"
      ],
      "metadata": {
        "id": "uK9a-FMf9xJl"
      }
    },
    {
      "cell_type": "code",
      "source": [
        "X_final, target1, target2, target3 = get_data('bank')\n",
        "accuray_history, f1_history = adaptive_train(X_final, target1, target2, target3, batch_size, n_train, n_test, num_queries, adaptive = 'softmax', balance='mlsample', multitarget=True)"
      ],
      "metadata": {
        "id": "ARWrPblKL0aD",
        "colab": {
          "base_uri": "https://localhost:8080/"
        },
        "outputId": "f5ba7e23-94cd-40ea-c0c6-64cac2fa4194"
      },
      "execution_count": null,
      "outputs": [
        {
          "output_type": "stream",
          "name": "stdout",
          "text": [
            "Initial Accuracy:  0.9 0.803 0.518\n",
            "Final Accuracy:  0.906 0.811 0.528\n",
            "\n",
            "Initial F1:  0.635 0.495 0.499\n",
            "Final F1:  0.716 0.477 0.518\n"
          ]
        }
      ]
    },
    {
      "cell_type": "code",
      "source": [
        "X_final, target1, target2, target3 = get_data('paris')\n",
        "accuray_history, f1_history = adaptive_train(X_final, target1, target2, target3, batch_size, n_train, n_test, num_queries, adaptive = 'softmax', balance='mlsample', multitarget=True)"
      ],
      "metadata": {
        "id": "aS6PlMAPL0aE"
      },
      "execution_count": null,
      "outputs": []
    },
    {
      "cell_type": "code",
      "source": [
        "X_final, target1, target2, target3 = get_data('smoking')\n",
        "accuray_history, f1_history = adaptive_train(X_final, target1, target2, target3, batch_size, n_train, n_test, num_queries, adaptive = 'softmax', balance='mlsample', multitarget=True)"
      ],
      "metadata": {
        "id": "Tn6fH6GvL0aE",
        "colab": {
          "base_uri": "https://localhost:8080/"
        },
        "outputId": "a454bb5c-8315-4d32-87f2-42597c6657b2"
      },
      "execution_count": null,
      "outputs": [
        {
          "output_type": "stream",
          "name": "stdout",
          "text": [
            "Initial Accuracy:  0.725 0.536 0.766\n",
            "Final Accuracy:  0.742 0.531 0.793\n",
            "\n",
            "Initial F1:  0.705 0.515 0.508\n",
            "Final F1:  0.725 0.508 0.456\n"
          ]
        }
      ]
    },
    {
      "cell_type": "markdown",
      "source": [
        "#####Adaptive (Sigmoid) + Multi target + No sampling"
      ],
      "metadata": {
        "id": "pllfW76-8-n5"
      }
    },
    {
      "cell_type": "code",
      "source": [
        "X_final, target1, target2, target3 = get_data('bank')\n",
        "accuray_history, f1_history = adaptive_train(X_final, target1, target2, target3, batch_size, n_train, n_test, num_queries, adaptive = 'sigmoid', balance='None', multitarget=True)"
      ],
      "metadata": {
        "colab": {
          "base_uri": "https://localhost:8080/"
        },
        "id": "aH4DT65FMBE1",
        "outputId": "d0e3173c-c854-493b-efaf-7db418c168f0"
      },
      "execution_count": null,
      "outputs": [
        {
          "output_type": "stream",
          "name": "stdout",
          "text": [
            "Initial Accuracy:  0.904 0.825 0.524\n",
            "Final Accuracy:  0.902 0.823 0.532\n",
            "\n",
            "Initial F1:  0.611 0.463 0.484\n",
            "Final F1:  0.675 0.457 0.512\n"
          ]
        }
      ]
    },
    {
      "cell_type": "code",
      "source": [
        "X_final, target1, target2, target3 = get_data('paris')\n",
        "accuray_history, f1_history = adaptive_train(X_final, target1, target2, target3, batch_size, n_train, n_test, num_queries, adaptive = 'sigmoid', balance='None', multitarget=True)"
      ],
      "metadata": {
        "colab": {
          "base_uri": "https://localhost:8080/"
        },
        "id": "HpxfJvpUMBE2",
        "outputId": "07e36bbc-9ca0-408d-8361-33d1aafe4301"
      },
      "execution_count": null,
      "outputs": [
        {
          "output_type": "stream",
          "name": "stdout",
          "text": [
            "Initial Accuracy:  0.883 0.494 0.492\n",
            "Final Accuracy:  0.879 0.498 0.472\n",
            "\n",
            "Initial F1:  0.581 0.488 0.491\n",
            "Final F1:  0.721 0.49 0.461\n"
          ]
        }
      ]
    },
    {
      "cell_type": "code",
      "source": [
        "X_final, target1, target2, target3 = get_data('smoking')\n",
        "accuray_history, f1_history = adaptive_train(X_final, target1, target2, target3, batch_size, n_train, n_test, num_queries, adaptive = 'sigmoid', balance='None', multitarget=True)"
      ],
      "metadata": {
        "colab": {
          "base_uri": "https://localhost:8080/"
        },
        "id": "pf2x2a8LMBE2",
        "outputId": "8ef458a4-9f62-4258-935f-91a685c81b72"
      },
      "execution_count": null,
      "outputs": [
        {
          "output_type": "stream",
          "name": "stdout",
          "text": [
            "Initial Accuracy:  0.708 0.518 0.796\n",
            "Final Accuracy:  0.743 0.536 0.795\n",
            "\n",
            "Initial F1:  0.677 0.496 0.453\n",
            "Final F1:  0.721 0.512 0.448\n"
          ]
        }
      ]
    },
    {
      "cell_type": "markdown",
      "source": [
        "#####Adaptive (Sigmoid) + Multi target + ML sampling"
      ],
      "metadata": {
        "id": "bNWZpQe29U_Z"
      }
    },
    {
      "cell_type": "code",
      "source": [
        "X_final, target1, target2, target3 = get_data('bank')\n",
        "accuray_history, f1_history = adaptive_train(X_final, target1, target2, target3, batch_size, n_train, n_test, num_queries, adaptive = 'sigmoid', balance='mlsample', multitarget=True)"
      ],
      "metadata": {
        "colab": {
          "base_uri": "https://localhost:8080/"
        },
        "id": "WVYaUZkcMSLg",
        "outputId": "7cb9dab2-2057-40fa-ec70-62bc2c457747"
      },
      "execution_count": null,
      "outputs": [
        {
          "output_type": "stream",
          "name": "stdout",
          "text": [
            "Initial Accuracy:  0.9 0.803 0.518\n",
            "Final Accuracy:  0.904 0.799 0.518\n",
            "\n",
            "Initial F1:  0.635 0.495 0.499\n",
            "Final F1:  0.71 0.463 0.512\n"
          ]
        }
      ]
    },
    {
      "cell_type": "code",
      "source": [
        "X_final, target1, target2, target3 = get_data('paris')\n",
        "accuray_history, f1_history = adaptive_train(X_final, target1, target2, target3, batch_size, n_train, n_test, num_queries, adaptive = 'sigmoid', balance='mlsample', multitarget=True)"
      ],
      "metadata": {
        "id": "ZvSbc2xvMSLg"
      },
      "execution_count": null,
      "outputs": []
    },
    {
      "cell_type": "code",
      "source": [
        "X_final, target1, target2, target3 = get_data('smoking')\n",
        "accuray_history, f1_history = adaptive_train(X_final, target1, target2, target3, batch_size, n_train, n_test, num_queries, adaptive = 'sigmoid', balance='mlsample', multitarget=True)"
      ],
      "metadata": {
        "colab": {
          "base_uri": "https://localhost:8080/"
        },
        "id": "0d03agSoMSLg",
        "outputId": "7d3ad732-6058-4f17-cc76-22f2c0c566f8"
      },
      "execution_count": null,
      "outputs": [
        {
          "output_type": "stream",
          "name": "stdout",
          "text": [
            "Initial Accuracy:  0.725 0.536 0.766\n",
            "Final Accuracy:  0.731 0.559 0.793\n",
            "\n",
            "Initial F1:  0.705 0.515 0.508\n",
            "Final F1:  0.717 0.531 0.442\n"
          ]
        }
      ]
    },
    {
      "cell_type": "markdown",
      "source": [
        "#####Adaptive (Fixed) + Multi target + No sampling"
      ],
      "metadata": {
        "id": "gB3RYz6x8-n5"
      }
    },
    {
      "cell_type": "code",
      "source": [
        "X_final, target1, target2, target3 = get_data('bank')\n",
        "accuray_history, f1_history = adaptive_train(X_final, target1, target2, target3, batch_size, n_train, n_test, num_queries, adaptive = 'fixed', balance='None', multitarget=True)"
      ],
      "metadata": {
        "colab": {
          "base_uri": "https://localhost:8080/"
        },
        "id": "a0hA_zXPMYFY",
        "outputId": "ca92aef8-c6b3-4c27-b021-eb60b4d1b0f0"
      },
      "execution_count": null,
      "outputs": [
        {
          "output_type": "stream",
          "name": "stdout",
          "text": [
            "Initial Accuracy:  0.904 0.825 0.524\n",
            "Final Accuracy:  0.903 0.828 0.513\n",
            "\n",
            "Initial F1:  0.611 0.463 0.484\n",
            "Final F1:  0.68 0.453 0.497\n"
          ]
        }
      ]
    },
    {
      "cell_type": "code",
      "source": [
        "X_final, target1, target2, target3 = get_data('paris')\n",
        "accuray_history, f1_history = adaptive_train(X_final, target1, target2, target3, batch_size, n_train, n_test, num_queries, adaptive = 'fixed', balance='None', multitarget=True)"
      ],
      "metadata": {
        "colab": {
          "base_uri": "https://localhost:8080/"
        },
        "id": "IOAGl_TsMYFY",
        "outputId": "34bebc94-8801-4623-8479-84c711e96062"
      },
      "execution_count": null,
      "outputs": [
        {
          "output_type": "stream",
          "name": "stdout",
          "text": [
            "Initial Accuracy:  0.883 0.494 0.492\n",
            "Final Accuracy:  0.881 0.516 0.473\n",
            "\n",
            "Initial F1:  0.581 0.488 0.491\n",
            "Final F1:  0.687 0.515 0.467\n"
          ]
        }
      ]
    },
    {
      "cell_type": "code",
      "source": [
        "X_final, target1, target2, target3 = get_data('smoking')\n",
        "accuray_history, f1_history = adaptive_train(X_final, target1, target2, target3, batch_size, n_train, n_test, num_queries, adaptive = 'fixed', balance='None', multitarget=True)"
      ],
      "metadata": {
        "colab": {
          "base_uri": "https://localhost:8080/"
        },
        "id": "3WNSTDj1MYFY",
        "outputId": "370a91de-7a90-4408-bba3-f9b5b8376802"
      },
      "execution_count": null,
      "outputs": [
        {
          "output_type": "stream",
          "name": "stdout",
          "text": [
            "Initial Accuracy:  0.708 0.518 0.796\n",
            "Final Accuracy:  0.746 0.546 0.797\n",
            "\n",
            "Initial F1:  0.677 0.496 0.453\n",
            "Final F1:  0.722 0.502 0.444\n"
          ]
        }
      ]
    },
    {
      "cell_type": "markdown",
      "source": [
        "#####Adaptive (Fixed) + Multi target + ML sampling"
      ],
      "metadata": {
        "id": "shs0WVV_9XY7"
      }
    },
    {
      "cell_type": "code",
      "source": [
        "X_final, target1, target2, target3 = get_data('bank')\n",
        "accuray_history, f1_history = adaptive_train(X_final, target1, target2, target3, batch_size, n_train, n_test, num_queries, adaptive = 'fixed', balance='mlsample', multitarget=True)"
      ],
      "metadata": {
        "colab": {
          "base_uri": "https://localhost:8080/"
        },
        "id": "LOcMp32bMe9l",
        "outputId": "998ea375-fd2b-4ca6-b6af-5d8754078240"
      },
      "execution_count": null,
      "outputs": [
        {
          "output_type": "stream",
          "name": "stdout",
          "text": [
            "Initial Accuracy:  0.9 0.803 0.518\n",
            "Final Accuracy:  0.907 0.803 0.514\n",
            "\n",
            "Initial F1:  0.635 0.495 0.499\n",
            "Final F1:  0.731 0.469 0.507\n"
          ]
        }
      ]
    },
    {
      "cell_type": "code",
      "source": [
        "X_final, target1, target2, target3 = get_data('paris')\n",
        "accuray_history, f1_history = adaptive_train(X_final, target1, target2, target3, batch_size, n_train, n_test, num_queries, adaptive = 'fixed', balance='mlsample', multitarget=True)"
      ],
      "metadata": {
        "id": "71DkF3OfMe9l"
      },
      "execution_count": null,
      "outputs": []
    },
    {
      "cell_type": "code",
      "source": [
        "X_final, target1, target2, target3 = get_data('smoking')\n",
        "accuray_history, f1_history = adaptive_train(X_final, target1, target2, target3, batch_size, n_train, n_test, num_queries, adaptive = 'fixed', balance='mlsample', multitarget=True)"
      ],
      "metadata": {
        "colab": {
          "base_uri": "https://localhost:8080/"
        },
        "id": "yFRgQ7UzMe9l",
        "outputId": "74a58686-6b5d-4e2d-a1e9-ac66e4adfb99"
      },
      "execution_count": null,
      "outputs": [
        {
          "output_type": "stream",
          "name": "stdout",
          "text": [
            "Initial Accuracy:  0.725 0.536 0.766\n",
            "Final Accuracy:  0.755 0.529 0.789\n",
            "\n",
            "Initial F1:  0.705 0.515 0.508\n",
            "Final F1:  0.742 0.489 0.45\n"
          ]
        }
      ]
    }
  ]
}